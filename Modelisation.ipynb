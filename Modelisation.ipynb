{
 "cells": [
  {
   "cell_type": "markdown",
   "id": "2481595c",
   "metadata": {},
   "source": [
    "## Frameworks"
   ]
  },
  {
   "cell_type": "code",
   "execution_count": 1,
   "id": "9d5b1fdd",
   "metadata": {},
   "outputs": [],
   "source": [
    "import gurobipy as gp\n",
    "from gurobipy import GRB\n",
    "import json\n",
    "import numpy as np\n",
    "import pandas as pd\n",
    "import time"
   ]
  },
  {
   "cell_type": "markdown",
   "id": "3cf4d4ed",
   "metadata": {},
   "source": [
    "## 1) Load Instance"
   ]
  },
  {
   "cell_type": "code",
   "execution_count": 2,
   "id": "dea9d4fc",
   "metadata": {},
   "outputs": [],
   "source": [
    "start = time.time()"
   ]
  },
  {
   "cell_type": "code",
   "execution_count": 3,
   "id": "46f90a5b",
   "metadata": {},
   "outputs": [],
   "source": [
    "#path=\"instances/test.json\"\n",
    "path=\"instances/toy_instance.json\"\n",
    "#path=\"instances/medium_instance.json\"\n",
    "#path=\"instances/large_instance.json\"\n",
    "\n",
    "# JSON file\n",
    "f = open (path, \"r\")\n",
    "  \n",
    "# Reading from file\n",
    "data = json.loads(f.read())"
   ]
  },
  {
   "cell_type": "code",
   "execution_count": 4,
   "id": "3f435815",
   "metadata": {},
   "outputs": [],
   "source": [
    "# Gains\n",
    "Gm=[]\n",
    "for job in data[\"jobs\"]:\n",
    "    Gm.append(job['gain'])\n",
    "Gm=np.array(Gm)\n",
    "\n",
    "# Penalty\n",
    "Pm=[]\n",
    "for job in data[\"jobs\"]:\n",
    "    Pm.append(job['daily_penalty'])\n",
    "Pm=np.array(Pm)\n",
    "\n",
    "# Due Date\n",
    "Dm=[]\n",
    "for job in data[\"jobs\"]:\n",
    "    Dm.append(job['due_date'])\n",
    "Dm=np.array(Dm)\n",
    "\n",
    "# Penalty per day\n",
    "Penalty=[]\n",
    "for job in data[\"jobs\"]:\n",
    "    job_penalty=[]\n",
    "    p=0\n",
    "    for t in range(data[\"horizon\"]):\n",
    "        if (t>job[\"due_date\"]-1):\n",
    "            p+=job[\"daily_penalty\"]\n",
    "        job_penalty.append(p)\n",
    "    Penalty.append(job_penalty)\n",
    "Penalty=np.array(Penalty)\n",
    "\n",
    "# Profit per day\n",
    "Profit=[]\n",
    "for job in data[\"jobs\"]:\n",
    "    job_benef=[]\n",
    "    p=job['gain']\n",
    "    for t in range(data[\"horizon\"]):\n",
    "        if (t>job[\"due_date\"]-1):\n",
    "            p-=job[\"daily_penalty\"]\n",
    "        job_benef.append(p)\n",
    "    Profit.append(job_benef)\n",
    "Profit=np.array(Profit)\n",
    "\n",
    "# Vacations per day and per employee\n",
    "Vacations=[]\n",
    "for e in data[\"staff\"]:\n",
    "    e_planning=[]\n",
    "    v=e['vacations']\n",
    "    for t in range(data[\"horizon\"]):\n",
    "        if (t+1 in v):\n",
    "            e_planning.append(1)\n",
    "        else:\n",
    "            e_planning.append(0)\n",
    "    Vacations.append(e_planning)\n",
    "Vacations=np.array(Vacations)\n",
    "\n",
    "# Employee qualifications\n",
    "Qualifications_staff=[]\n",
    "for staff in data[\"staff\"]:\n",
    "    list_staff=[]\n",
    "    for q in data[\"qualifications\"]:\n",
    "        if(q in staff[\"qualifications\"]):\n",
    "            list_staff.append(1)\n",
    "        else:\n",
    "            list_staff.append(0)\n",
    "    Qualifications_staff.append(list_staff)\n",
    "Qualifications_staff = np.array(Qualifications_staff)\n",
    "\n",
    "# Jobs Qualifications\n",
    "Qualifications_job=[]\n",
    "for job in data[\"jobs\"]:\n",
    "    #working_days_per_qualification\n",
    "    list_job=[]\n",
    "    for q in data[\"qualifications\"]:\n",
    "        try:\n",
    "            val=job['working_days_per_qualification'][q]\n",
    "        except:\n",
    "            val=0\n",
    "        list_job.append(val)\n",
    "    Qualifications_job.append(list_job)\n",
    "Qualifications_job=np.array(Qualifications_job)"
   ]
  },
  {
   "cell_type": "markdown",
   "id": "85bfd93b",
   "metadata": {},
   "source": [
    "## 2) Model"
   ]
  },
  {
   "cell_type": "code",
   "execution_count": 5,
   "id": "ff8425e9",
   "metadata": {},
   "outputs": [
    {
     "name": "stdout",
     "output_type": "stream",
     "text": [
      "Set parameter Username\n",
      "Academic license - for non-commercial use only - expires 2023-12-29\n"
     ]
    }
   ],
   "source": [
    "###\n",
    "# MODEL\n",
    "model = gp.Model()\n",
    "\n",
    "horizon=data[\"horizon\"]\n",
    "qualifs=len(data[\"qualifications\"])\n",
    "projects=len(data[\"jobs\"])\n",
    "staffs=len(data[\"staff\"])"
   ]
  },
  {
   "cell_type": "markdown",
   "id": "1a61da37",
   "metadata": {},
   "source": [
    "## 3) Variables"
   ]
  },
  {
   "cell_type": "code",
   "execution_count": 6,
   "id": "912db859",
   "metadata": {},
   "outputs": [],
   "source": [
    "###\n",
    "# VARIABLES\n",
    "\n",
    "# Planning \n",
    "Planning = model.addMVar(\n",
    "                        shape=(staffs,horizon,projects,qualifs),\n",
    "                        vtype=GRB.BINARY,\n",
    "                        name=\"Planning\"\n",
    "                        )\n",
    "\n",
    "# Delay \n",
    "Delay_project = model.addVars(\n",
    "                                projects,\n",
    "                                lb=0,\n",
    "                                ub=horizon,\n",
    "                                vtype=GRB.INTEGER,\n",
    "                                name=\"Delay_project\"\n",
    "                            ) \n",
    "\n",
    "# End Date \n",
    "End_project = model.addVars(\n",
    "                                projects,\n",
    "                                lb=1,\n",
    "                                ub=horizon,\n",
    "                                vtype=GRB.INTEGER,\n",
    "                                name=\"End_project\"\n",
    "                            ) \n",
    "\n",
    "# Realisation Boolean\n",
    "Realisation = model.addVars(\n",
    "                                projects,\n",
    "                                vtype=GRB.BINARY,\n",
    "                                name=\"Realisation\"\n",
    "                            )\n",
    "\n",
    "# Begin \n",
    "\n",
    "Begin_project = model.addVars(\n",
    "                                projects,\n",
    "                                lb=1,\n",
    "                                ub=horizon,\n",
    "                                vtype=GRB.INTEGER,\n",
    "                                name=\"End_project\"\n",
    "                            ) "
   ]
  },
  {
   "cell_type": "markdown",
   "id": "9c6c6007",
   "metadata": {},
   "source": [
    "## 4) Constraints"
   ]
  },
  {
   "cell_type": "code",
   "execution_count": 7,
   "id": "dca64a2b",
   "metadata": {},
   "outputs": [
    {
     "name": "stdout",
     "output_type": "stream",
     "text": [
      "Warning for adding constraints: zero or small (< 1e-13) coefficients, ignored\n",
      "#9 Begin Date to compute Z3\n",
      "#8 Don't begin a project that is not done\n"
     ]
    }
   ],
   "source": [
    "###\n",
    "# CONSTRAINTS\n",
    "\n",
    "#1 Uicity of affectation \n",
    "model.addConstrs(\n",
    "    (gp.quicksum(gp.quicksum(Planning[staff][t]))<= 1\n",
    "        for staff in range(len(data[\"staff\"]))\n",
    "        for t in range(data[\"horizon\"])\n",
    "    ),\n",
    "    name=\"staff_qualif_unicity\"\n",
    ") \n",
    "\n",
    "#2 Vacations\n",
    "model.addConstrs(\n",
    "    (Planning[staff][t][job][qualif]<=1-Vacations[staff][t] \n",
    "        for staff in range(len(data[\"staff\"]))\n",
    "        for t in range(data[\"horizon\"])\n",
    "        for job in range(len(data[\"jobs\"]))\n",
    "        for qualif in range(len(data[\"qualifications\"]))\n",
    "    ),\n",
    "    name=\"Vacations_constraint\"\n",
    ") \n",
    "\n",
    "\n",
    "#3 Qualification staff\n",
    "model.addConstrs(\n",
    "    (Planning[staff][t][job][qualif]<=Qualifications_staff[staff][qualif]\n",
    "        for staff in range(len(data[\"staff\"]))\n",
    "        for t in range(data[\"horizon\"])\n",
    "        for job in range(len(data[\"jobs\"]))\n",
    "        for qualif in range(len(data[\"qualifications\"]))\n",
    "    ),\n",
    "    name=\"Qualif_staff_constraint\"\n",
    ") \n",
    "\n",
    "\n",
    "# Definition d'une liste de la somme des temps de qualifs par projet\n",
    "Max_temp_qualif_job=[]\n",
    "for job in range(len(data[\"jobs\"])):\n",
    "    l_job=[]\n",
    "    for qualif in range(len(data[\"qualifications\"])):\n",
    "        temp_qualif_job=0\n",
    "        for t in range(data[\"horizon\"]):\n",
    "            for staff in range(len(data[\"staff\"])):\n",
    "                temp_qualif_job+=Planning[staff][t][job][qualif]\n",
    "        l_job.append(temp_qualif_job)\n",
    "    Max_temp_qualif_job.append(l_job)\n",
    "Max_temp_qualif_job\n",
    "\n",
    "\n",
    "#4 Couverture des qualifs => realisation\n",
    "model.addConstrs(\n",
    "        (Max_temp_qualif_job[job][qualif] >= Realisation[job] *  Qualifications_job[job][qualif]\n",
    "            for job in range(len(data[\"jobs\"]))\n",
    "            for qualif in range(len(data[\"qualifications\"]))\n",
    "        ), name = \"cover_qualif\"\n",
    ")\n",
    "\n",
    "#5 Unicity realisation\n",
    "model.addConstrs(\n",
    "    (Max_temp_qualif_job[job][qualif] <= Qualifications_job[job][qualif]\n",
    "            for job in range(len(data[\"jobs\"]))\n",
    "            for qualif in range(len(data[\"qualifications\"]))\n",
    "), name = \"project_done_once\")\n",
    "\n",
    "#6 end project \n",
    "model.addConstrs(\n",
    "   (Planning[staff][t][job][qualif] * t <= End_project[job]\n",
    "        for staff in range(len(data[\"staff\"]))\n",
    "        for t in range(data[\"horizon\"])\n",
    "        for job in range(len(data[\"jobs\"]))\n",
    "        for qualif in range(len(data[\"qualifications\"]))\n",
    "), name = \"end_project_date\")\n",
    "\n",
    "#7 Delay \n",
    "model.addConstrs(\n",
    "    (End_project[job] - Dm[job] <= Delay_project[job]\n",
    "       for job in range(len(data[\"jobs\"]))\n",
    "    ), name=\"delay_project\"\n",
    ")\n",
    "\n",
    "#9 Begin Date to compute Z3\n",
    "print(\"#9 Begin Date to compute Z3\")\n",
    "\n",
    "\n",
    "#8 Don't begin a project that is not done\n",
    "print(\"#8 Don't begin a project that is not done\")\n",
    "\n"
   ]
  },
  {
   "cell_type": "code",
   "execution_count": 8,
   "id": "fef639bc",
   "metadata": {},
   "outputs": [
    {
     "data": {
      "text/plain": [
       "'for project in range(data[\"jobs\"]):\\n    for t in range(horizon):\\n        for staff in range(staffs):\\n            Planning[staff][t][job]Begin_project'"
      ]
     },
     "execution_count": 8,
     "metadata": {},
     "output_type": "execute_result"
    }
   ],
   "source": [
    "\"\"\"for project in range(data[\"jobs\"]):\n",
    "    for t in range(horizon):\n",
    "        for staff in range(staffs):\n",
    "            Planning[staff][t][job]Begin_project\"\"\""
   ]
  },
  {
   "cell_type": "markdown",
   "id": "5a324d9c",
   "metadata": {},
   "source": [
    "## 5) Objectives"
   ]
  },
  {
   "cell_type": "code",
   "execution_count": 9,
   "id": "b44f6ea9",
   "metadata": {},
   "outputs": [],
   "source": [
    "model.ModelSense = GRB.MAXIMIZE"
   ]
  },
  {
   "cell_type": "markdown",
   "id": "06804c28",
   "metadata": {},
   "source": [
    "### Z1: Maximize Profit"
   ]
  },
  {
   "cell_type": "code",
   "execution_count": 10,
   "id": "09fb374c",
   "metadata": {},
   "outputs": [
    {
     "data": {
      "text/plain": [
       "'\\nmodel.setObjective(\\n        Z1,\\n        GRB.MAXIMIZE,\\n    )'"
      ]
     },
     "execution_count": 10,
     "metadata": {},
     "output_type": "execute_result"
    }
   ],
   "source": [
    "#Z1 = gp.quicksum(Realisation.values()*(Gm-Pm*Delay_project.values()))\n",
    "Z1 = gp.quicksum((Realisation.values()*Gm)-(Pm*Delay_project.values()))\n",
    "\"\"\"\n",
    "model.setObjective(\n",
    "        Z1,\n",
    "        GRB.MAXIMIZE,\n",
    "    )\"\"\""
   ]
  },
  {
   "cell_type": "code",
   "execution_count": 11,
   "id": "223f2e70",
   "metadata": {},
   "outputs": [
    {
     "data": {
      "text/plain": [
       "'model.setObjectiveN(\\n        expr=Z1,\\n        index=0,\\n        priority=1,\\n        weight=1,\\n        name=\"profit\"\\n    )'"
      ]
     },
     "execution_count": 11,
     "metadata": {},
     "output_type": "execute_result"
    }
   ],
   "source": [
    "model.setObjectiveN(Z1, index=0, priority=3, name='Jobs', weight=1)\n",
    "\n",
    "\"\"\"model.setObjectiveN(\n",
    "        expr=Z1,\n",
    "        index=0,\n",
    "        priority=1,\n",
    "        weight=1,\n",
    "        name=\"profit\"\n",
    "    )\"\"\""
   ]
  },
  {
   "cell_type": "markdown",
   "id": "501c63ee",
   "metadata": {},
   "source": [
    "### Z2: Minimize Number of Projects per Employee"
   ]
  },
  {
   "cell_type": "code",
   "execution_count": 12,
   "id": "69b7c64c",
   "metadata": {},
   "outputs": [],
   "source": [
    "Include_Z2 = True"
   ]
  },
  {
   "cell_type": "code",
   "execution_count": 13,
   "id": "3ceaeea1",
   "metadata": {},
   "outputs": [],
   "source": [
    "# Jobs done by one staff\n",
    "jobs_staffeur = model.addMVar(shape=(staffs,projects),vtype=GRB.BINARY,name=\"jobs_staffeur\")\n",
    "\n",
    "for staff in range(staffs):\n",
    "    for job in range(projects):\n",
    "        val=[]\n",
    "        for t in range(horizon):\n",
    "            for qualif in range(qualifs):\n",
    "                val.append(Planning[staff][t][job][qualif])\n",
    "        #real_jobs_staffeur[staff][job]=max(val)\n",
    "        model.addConstr((jobs_staffeur[staff][job] == gp.max_(val)))\n",
    "\n",
    "# Sum of all jobs for one staff\n",
    "sum_staff_jobs = model.addVars(staffs,vtype=GRB.INTEGER, name=\"sum_staff_jobs\")         \n",
    "\n",
    "for staff in range(staffs):\n",
    "    model.addConstr((sum_staff_jobs[staff]==gp.quicksum(jobs_staffeur[staff])))\n"
   ]
  },
  {
   "cell_type": "code",
   "execution_count": 14,
   "id": "5762a91a",
   "metadata": {},
   "outputs": [],
   "source": [
    "if Include_Z2:\n",
    "    for staff in range(staffs):\n",
    "    #Z2 = gp.quicksum(sum_staff_jobs.values())\n",
    "        model.setObjectiveN(\n",
    "                    sum_staff_jobs[staff],\n",
    "                    GRB.MINIMIZE,\n",
    "                    1,# priority\n",
    "                    0 # weight\n",
    "                )"
   ]
  },
  {
   "cell_type": "code",
   "execution_count": 15,
   "id": "854c28a6",
   "metadata": {},
   "outputs": [],
   "source": [
    "if Include_Z2:\n",
    "    for staff in range(staffs):\n",
    "        model.setObjectiveN(sum_staff_jobs[staff], \n",
    "                            index=1+staff, \n",
    "                            priority=2, \n",
    "                            weight=-1)  #weight = -1 to minimize\n"
   ]
  },
  {
   "cell_type": "markdown",
   "id": "b8aaf937",
   "metadata": {},
   "source": [
    "### Z3: Minimize Realisation Time"
   ]
  },
  {
   "cell_type": "code",
   "execution_count": 16,
   "id": "59ee8970",
   "metadata": {},
   "outputs": [],
   "source": [
    "Include_Z3 = False"
   ]
  },
  {
   "cell_type": "code",
   "execution_count": 17,
   "id": "04955a61",
   "metadata": {},
   "outputs": [
    {
     "data": {
      "text/plain": [
       "'staff_list=[]\\nfor staff in range(len(data[\"staff\"])):\\n    job_list=[]\\n    for job in range(len(data[\"jobs\"])):\\n        job_val=0\\n        for t in range(data[\"horizon\"]):\\n            for qualif in range(len(data[\"qualifications\"])):\\n                job_val+=Planning[staff][t][job][qualif]\\n        if(job_val>gp.LinExpr(0)):\\n            job_list.append(1)\\n        else:\\n            job_list.append(0)\\n    staff_list.append(job_list)\\n\\nsum_per_employee=[]\\nfor staff in range(len(data[\"staff\"])):\\n    sum_per_employee.append(sum(normalized_staff_list[staff]))\\n\\n\\n# Create a variable for the objective\\nobj = model.addVar(lb=0, name=\"Total Assigned Jobs\")\\n\\n# Define the objective\\nmodel.setObjective(obj, GRB.MINIMIZE)\\n\\n# Define the constraint\\nmodel.addConstr(obj >= sum(sum_per_employee), \"Ensure the total number of assigned jobs is equal to or greater than the sum of jobs per employee\")\\n'"
      ]
     },
     "execution_count": 17,
     "metadata": {},
     "output_type": "execute_result"
    }
   ],
   "source": [
    "\"\"\"staff_list=[]\n",
    "for staff in range(len(data[\"staff\"])):\n",
    "    job_list=[]\n",
    "    for job in range(len(data[\"jobs\"])):\n",
    "        job_val=0\n",
    "        for t in range(data[\"horizon\"]):\n",
    "            for qualif in range(len(data[\"qualifications\"])):\n",
    "                job_val+=Planning[staff][t][job][qualif]\n",
    "        if(job_val>gp.LinExpr(0)):\n",
    "            job_list.append(1)\n",
    "        else:\n",
    "            job_list.append(0)\n",
    "    staff_list.append(job_list)\n",
    "\n",
    "sum_per_employee=[]\n",
    "for staff in range(len(data[\"staff\"])):\n",
    "    sum_per_employee.append(sum(normalized_staff_list[staff]))\n",
    "\n",
    "\n",
    "# Create a variable for the objective\n",
    "obj = model.addVar(lb=0, name=\"Total Assigned Jobs\")\n",
    "\n",
    "# Define the objective\n",
    "model.setObjective(obj, GRB.MINIMIZE)\n",
    "\n",
    "# Define the constraint\n",
    "model.addConstr(obj >= sum(sum_per_employee), \"Ensure the total number of assigned jobs is equal to or greater than the sum of jobs per employee\")\n",
    "\"\"\""
   ]
  },
  {
   "cell_type": "code",
   "execution_count": 18,
   "id": "ff72ce90",
   "metadata": {},
   "outputs": [],
   "source": [
    "days_per_project = model.addVars(projects,vtype=GRB.INTEGER, name=\"days_per_project\")\n",
    "\n",
    "# constraint for the number of days needed for each project\n",
    "for job in range(projects):\n",
    "    s = 0\n",
    "    for staff in range(staffs):\n",
    "        for t in range(horizon):\n",
    "            for qualif in range(qualifs):\n",
    "                s += Planning[staff,t,job,qualif]\n",
    "    model.addConstr(days_per_project[job] == s)\n"
   ]
  },
  {
   "cell_type": "code",
   "execution_count": 19,
   "id": "5ea90dce",
   "metadata": {},
   "outputs": [],
   "source": [
    "if Include_Z3:\n",
    "    Z3 = gp.quicksum(days_per_project.values())\n",
    "\n",
    "    model.setObjective(\n",
    "                Z3,\n",
    "                GRB.MINIMIZE\n",
    "            )"
   ]
  },
  {
   "cell_type": "markdown",
   "id": "bccf66ff",
   "metadata": {},
   "source": [
    "## 6) Optimize"
   ]
  },
  {
   "cell_type": "code",
   "execution_count": 21,
   "id": "66f24c79",
   "metadata": {},
   "outputs": [],
   "source": [
    "# epsilon"
   ]
  },
  {
   "cell_type": "code",
   "execution_count": 22,
   "id": "621069d4",
   "metadata": {},
   "outputs": [
    {
     "name": "stdout",
     "output_type": "stream",
     "text": [
      "Gurobi Optimizer version 10.0.0 build v10.0.0rc2 (mac64[x86])\n",
      "\n",
      "CPU model: Intel(R) Core(TM) i5-8259U CPU @ 2.30GHz\n",
      "Thread count: 4 physical cores, 8 logical processors, using up to 8 threads\n",
      "\n",
      "Optimize a model with 733 rows, 268 columns and 1798 nonzeros\n",
      "Model fingerprint: 0x04f08c40\n",
      "Model has 15 general constraints\n",
      "Variable types: 0 continuous, 268 integer (245 binary)\n",
      "Coefficient statistics:\n",
      "  Matrix range     [1e+00, 4e+00]\n",
      "  Objective range  [1e+00, 2e+01]\n",
      "  Bounds range     [1e+00, 5e+00]\n",
      "  RHS range        [1e+00, 5e+00]\n",
      "\n",
      "---------------------------------------------------------------------------\n",
      "Multi-objectives: starting optimization with 4 objectives (2 combined) ...\n",
      "---------------------------------------------------------------------------\n",
      "\n",
      "Multi-objectives: applying initial presolve ...\n",
      "---------------------------------------------------------------------------\n",
      "\n",
      "Presolve removed 609 rows and 144 columns\n",
      "Presolve time: 0.00s\n",
      "Presolved: 124 rows and 124 columns\n",
      "---------------------------------------------------------------------------\n",
      "\n",
      "Multi-objectives: optimize objective 1 (Jobs) ...\n",
      "---------------------------------------------------------------------------\n",
      "\n",
      "Found heuristic solution: objective -0.0000000\n",
      "Presolve removed 28 rows and 15 columns\n",
      "Presolve time: 0.00s\n",
      "Presolved: 96 rows, 109 columns, 520 nonzeros\n",
      "Variable types: 0 continuous, 109 integer (105 binary)\n",
      "\n",
      "Root relaxation: objective 7.500000e+01, 93 iterations, 0.00 seconds (0.00 work units)\n",
      "\n",
      "    Nodes    |    Current Node    |     Objective Bounds      |     Work\n",
      " Expl Unexpl |  Obj  Depth IntInf | Incumbent    BestBd   Gap | It/Node Time\n",
      "\n",
      "     0     0   75.00000    0    8   -0.00000   75.00000      -     -    0s\n",
      "H    0     0                      60.0000000   75.00000  25.0%     -    0s\n",
      "H    0     0                      65.0000000   75.00000  15.4%     -    0s\n",
      "H    0     0                      70.0000000   75.00000  7.14%     -    0s\n",
      "\n",
      "Cutting planes:\n",
      "  Gomory: 1\n",
      "  Zero half: 1\n",
      "  RLT: 3\n",
      "\n",
      "Explored 1 nodes (93 simplex iterations) in 0.04 seconds (0.00 work units)\n",
      "Thread count was 8 (of 8 available processors)\n",
      "\n",
      "Solution count 4: 70 65 60 -0 \n",
      "\n",
      "Optimal solution found (tolerance 1.00e-04)\n",
      "Best objective 7.000000000000e+01, best bound 7.000000000000e+01, gap 0.0000%\n",
      "---------------------------------------------------------------------------\n",
      "\n",
      "Multi-objectives: optimize objective 2 (weighted) ...\n",
      "---------------------------------------------------------------------------\n",
      "\n",
      "\n",
      "Loaded user MIP start with objective -9\n",
      "\n",
      "Presolve removed 47 rows and 19 columns\n",
      "Presolve time: 0.00s\n",
      "Presolved: 78 rows, 105 columns, 346 nonzeros\n",
      "Variable types: 0 continuous, 105 integer (101 binary)\n",
      "\n",
      "Root relaxation: objective -5.000000e+00, 101 iterations, 0.00 seconds (0.00 work units)\n",
      "\n",
      "    Nodes    |    Current Node    |     Objective Bounds      |     Work\n",
      " Expl Unexpl |  Obj  Depth IntInf | Incumbent    BestBd   Gap | It/Node Time\n",
      "\n",
      "     0     0   -5.00000    0   32   -9.00000   -5.00000  44.4%     -    0s\n",
      "H    0     0                      -7.0000000   -5.00000  28.6%     -    0s\n",
      "     0     0   -5.67949    0   55   -7.00000   -5.67949  18.9%     -    0s\n",
      "     0     0   -5.68182    0   53   -7.00000   -5.68182  18.8%     -    0s\n",
      "\n",
      "Cutting planes:\n",
      "  Gomory: 5\n",
      "  Zero half: 9\n",
      "  RLT: 3\n",
      "  Relax-and-lift: 3\n",
      "\n",
      "Explored 1 nodes (158 simplex iterations) in 0.10 seconds (0.01 work units)\n",
      "Thread count was 8 (of 8 available processors)\n",
      "\n",
      "Solution count 2: -7 -9 \n",
      "No other solutions better than -7\n",
      "\n",
      "Optimal solution found (tolerance 1.00e-04)\n",
      "Best objective -7.000000000000e+00, best bound -7.000000000000e+00, gap 0.0000%\n",
      "\n",
      "---------------------------------------------------------------------------\n",
      "Multi-objectives: solved in 0.10 seconds (0.01 work units), solution count 5\n",
      "\n"
     ]
    }
   ],
   "source": [
    "model.optimize()"
   ]
  },
  {
   "cell_type": "markdown",
   "id": "dd7689c7",
   "metadata": {},
   "source": [
    "## 7) Results"
   ]
  },
  {
   "cell_type": "code",
   "execution_count": 23,
   "id": "6f57a79e",
   "metadata": {},
   "outputs": [
    {
     "name": "stdout",
     "output_type": "stream",
     "text": [
      "Time taken:  1.17 seconds\n",
      "Time taken:  0.02 minutes\n"
     ]
    }
   ],
   "source": [
    "end = time.time()\n",
    "print(\"Time taken: \", round(end - start,2), \"seconds\")\n",
    "print(\"Time taken: \", round((end - start)/60,2), \"minutes\")\n",
    "# toy : 1s\n",
    "# medium : 53s\n",
    "#large : 3,7 min"
   ]
  },
  {
   "cell_type": "markdown",
   "id": "466a9395",
   "metadata": {},
   "source": [
    "### Objectives"
   ]
  },
  {
   "cell_type": "code",
   "execution_count": 24,
   "id": "6730f370",
   "metadata": {},
   "outputs": [
    {
     "name": "stdout",
     "output_type": "stream",
     "text": [
      "Best Profit :  70.0 \n",
      "Sum possible gains :  80\n"
     ]
    }
   ],
   "source": [
    "# Z1\n",
    "print(\"Best Profit : \",model.objVal,\"\\nSum possible gains : \",Gm.sum())"
   ]
  },
  {
   "cell_type": "code",
   "execution_count": 25,
   "id": "e04a9d6b",
   "metadata": {},
   "outputs": [
    {
     "name": "stdout",
     "output_type": "stream",
     "text": [
      "<gurobi.Var sum_staff_jobs[0] (value 2.0)>\n",
      "<gurobi.Var sum_staff_jobs[1] (value 2.0)>\n",
      "<gurobi.Var sum_staff_jobs[2] (value 3.0)>\n"
     ]
    }
   ],
   "source": [
    "# Z2\n",
    "for i in range(len(data[\"staff\"])):\n",
    "    print(sum_staff_jobs[i])"
   ]
  },
  {
   "cell_type": "code",
   "execution_count": 26,
   "id": "1d4feeb7",
   "metadata": {},
   "outputs": [
    {
     "name": "stdout",
     "output_type": "stream",
     "text": [
      "<gurobi.Var days_per_project[0] (value 3.0)>\n",
      "<gurobi.Var days_per_project[1] (value 3.0)>\n",
      "<gurobi.Var days_per_project[2] (value 3.0)>\n",
      "<gurobi.Var days_per_project[3] (value 3.0)>\n",
      "<gurobi.Var days_per_project[4] (value 0.0)>\n"
     ]
    }
   ],
   "source": [
    "# Z3\n",
    "for i in range(len(data[\"jobs\"])):\n",
    "    print(days_per_project[i])"
   ]
  },
  {
   "cell_type": "code",
   "execution_count": 37,
   "id": "73a5a75d",
   "metadata": {},
   "outputs": [
    {
     "data": {
      "text/plain": [
       "array([1., 1., 1., 1., 1.])"
      ]
     },
     "execution_count": 37,
     "metadata": {},
     "output_type": "execute_result"
    }
   ],
   "source": [
    "begin=np.zeros(projects)\n",
    "for job in range(projects):\n",
    "    val=0\n",
    "    for t in range(horizon):\n",
    "        if(sum(sum(Planning[staff][t].x))==0):\n",
    "                    val+=1      \n",
    "    begin[job]=val\n",
    "begin"
   ]
  },
  {
   "cell_type": "markdown",
   "id": "657873d7",
   "metadata": {},
   "source": [
    "### Constraints"
   ]
  },
  {
   "cell_type": "code",
   "execution_count": 27,
   "id": "6cd34c93",
   "metadata": {},
   "outputs": [
    {
     "name": "stdout",
     "output_type": "stream",
     "text": [
      "<gurobi.Var Realisation[0] (value 1.0)>\n",
      "<gurobi.Var Realisation[1] (value 1.0)>\n",
      "<gurobi.Var Realisation[2] (value 1.0)>\n",
      "<gurobi.Var Realisation[3] (value 1.0)>\n",
      "<gurobi.Var Realisation[4] (value 0.0)>\n"
     ]
    }
   ],
   "source": [
    "for i in range(len(data[\"jobs\"])):\n",
    "    print(Realisation[i])"
   ]
  },
  {
   "cell_type": "code",
   "execution_count": 28,
   "id": "fd062e2f",
   "metadata": {},
   "outputs": [
    {
     "name": "stdout",
     "output_type": "stream",
     "text": [
      "<gurobi.Var Delay_project[0] (value 0.0)>\n",
      "<gurobi.Var Delay_project[1] (value 0.0)>\n",
      "<gurobi.Var Delay_project[2] (value 0.0)>\n",
      "<gurobi.Var Delay_project[3] (value 0.0)>\n",
      "<gurobi.Var Delay_project[4] (value -0.0)>\n"
     ]
    }
   ],
   "source": [
    "for i in range(len(data[\"jobs\"])):\n",
    "    print(Delay_project[i])"
   ]
  },
  {
   "cell_type": "markdown",
   "id": "48725118",
   "metadata": {},
   "source": [
    "### Visualization"
   ]
  },
  {
   "cell_type": "code",
   "execution_count": 29,
   "id": "88ed5642",
   "metadata": {},
   "outputs": [],
   "source": [
    "# 4D matrix, Gurobi variables extraction\n",
    "matrix = np.array([[element.x for element in row] for row in Planning]).reshape(staffs, horizon, projects, qualifs)\n",
    "\n",
    "# 4D matrix to dataframe\n",
    "df = pd.DataFrame(np.reshape(matrix, (staffs * horizon, projects * qualifs)),\n",
    "                  columns=[f\"Project {i+1} - Qualification {j+1}\" for i in range(projects) for j in range(qualifs)],\n",
    "                  index=[f\"Staff {i+1} - Horizon {j+1}\" for i in range(staffs) for j in range(horizon)])\n",
    "\n",
    "# Add a row of sums\n",
    "df.loc['sum_row'] = df.sum()\n",
    "\n",
    "# Add a column of sums\n",
    "df['sum_column'] = df.sum(axis=1)\n",
    "\n",
    "df.to_csv(\"Results/planning_\"+path.split(\"/\")[-1].split('.')[0]+\".csv\",sep=\";\")"
   ]
  },
  {
   "cell_type": "code",
   "execution_count": 30,
   "id": "5c1772bf",
   "metadata": {},
   "outputs": [
    {
     "data": {
      "text/html": [
       "<style type=\"text/css\">\n",
       "#T_a18e3_row0_col0, #T_a18e3_row0_col15, #T_a18e3_row1_col10, #T_a18e3_row1_col15, #T_a18e3_row2_col10, #T_a18e3_row2_col15, #T_a18e3_row3_col1, #T_a18e3_row3_col15, #T_a18e3_row6_col3, #T_a18e3_row6_col15, #T_a18e3_row7_col4, #T_a18e3_row7_col15, #T_a18e3_row8_col4, #T_a18e3_row8_col15, #T_a18e3_row9_col6, #T_a18e3_row9_col15, #T_a18e3_row10_col8, #T_a18e3_row10_col15, #T_a18e3_row12_col2, #T_a18e3_row12_col15, #T_a18e3_row13_col11, #T_a18e3_row13_col15, #T_a18e3_row14_col8, #T_a18e3_row14_col15, #T_a18e3_row15_col0, #T_a18e3_row15_col1, #T_a18e3_row15_col2, #T_a18e3_row15_col3, #T_a18e3_row15_col6, #T_a18e3_row15_col11 {\n",
       "  background-color: yellow;\n",
       "}\n",
       "#T_a18e3_row0_col1, #T_a18e3_row0_col2, #T_a18e3_row0_col3, #T_a18e3_row0_col4, #T_a18e3_row0_col5, #T_a18e3_row0_col6, #T_a18e3_row0_col7, #T_a18e3_row0_col8, #T_a18e3_row0_col9, #T_a18e3_row0_col10, #T_a18e3_row0_col11, #T_a18e3_row0_col12, #T_a18e3_row0_col13, #T_a18e3_row0_col14, #T_a18e3_row1_col0, #T_a18e3_row1_col1, #T_a18e3_row1_col2, #T_a18e3_row1_col3, #T_a18e3_row1_col4, #T_a18e3_row1_col5, #T_a18e3_row1_col6, #T_a18e3_row1_col7, #T_a18e3_row1_col8, #T_a18e3_row1_col9, #T_a18e3_row1_col11, #T_a18e3_row1_col12, #T_a18e3_row1_col13, #T_a18e3_row1_col14, #T_a18e3_row2_col0, #T_a18e3_row2_col1, #T_a18e3_row2_col2, #T_a18e3_row2_col3, #T_a18e3_row2_col4, #T_a18e3_row2_col5, #T_a18e3_row2_col6, #T_a18e3_row2_col7, #T_a18e3_row2_col8, #T_a18e3_row2_col9, #T_a18e3_row2_col11, #T_a18e3_row2_col12, #T_a18e3_row2_col13, #T_a18e3_row2_col14, #T_a18e3_row3_col0, #T_a18e3_row3_col2, #T_a18e3_row3_col3, #T_a18e3_row3_col4, #T_a18e3_row3_col5, #T_a18e3_row3_col6, #T_a18e3_row3_col7, #T_a18e3_row3_col8, #T_a18e3_row3_col9, #T_a18e3_row3_col10, #T_a18e3_row3_col11, #T_a18e3_row3_col12, #T_a18e3_row3_col13, #T_a18e3_row3_col14, #T_a18e3_row4_col0, #T_a18e3_row4_col1, #T_a18e3_row4_col2, #T_a18e3_row4_col3, #T_a18e3_row4_col4, #T_a18e3_row4_col5, #T_a18e3_row4_col6, #T_a18e3_row4_col7, #T_a18e3_row4_col8, #T_a18e3_row4_col9, #T_a18e3_row4_col10, #T_a18e3_row4_col11, #T_a18e3_row4_col12, #T_a18e3_row4_col13, #T_a18e3_row4_col14, #T_a18e3_row4_col15, #T_a18e3_row5_col0, #T_a18e3_row5_col1, #T_a18e3_row5_col2, #T_a18e3_row5_col3, #T_a18e3_row5_col4, #T_a18e3_row5_col5, #T_a18e3_row5_col6, #T_a18e3_row5_col7, #T_a18e3_row5_col8, #T_a18e3_row5_col9, #T_a18e3_row5_col10, #T_a18e3_row5_col11, #T_a18e3_row5_col12, #T_a18e3_row5_col13, #T_a18e3_row5_col14, #T_a18e3_row5_col15, #T_a18e3_row6_col0, #T_a18e3_row6_col1, #T_a18e3_row6_col2, #T_a18e3_row6_col4, #T_a18e3_row6_col5, #T_a18e3_row6_col6, #T_a18e3_row6_col7, #T_a18e3_row6_col8, #T_a18e3_row6_col9, #T_a18e3_row6_col10, #T_a18e3_row6_col11, #T_a18e3_row6_col12, #T_a18e3_row6_col13, #T_a18e3_row6_col14, #T_a18e3_row7_col0, #T_a18e3_row7_col1, #T_a18e3_row7_col2, #T_a18e3_row7_col3, #T_a18e3_row7_col5, #T_a18e3_row7_col6, #T_a18e3_row7_col7, #T_a18e3_row7_col8, #T_a18e3_row7_col9, #T_a18e3_row7_col10, #T_a18e3_row7_col11, #T_a18e3_row7_col12, #T_a18e3_row7_col13, #T_a18e3_row7_col14, #T_a18e3_row8_col0, #T_a18e3_row8_col1, #T_a18e3_row8_col2, #T_a18e3_row8_col3, #T_a18e3_row8_col5, #T_a18e3_row8_col6, #T_a18e3_row8_col7, #T_a18e3_row8_col8, #T_a18e3_row8_col9, #T_a18e3_row8_col10, #T_a18e3_row8_col11, #T_a18e3_row8_col12, #T_a18e3_row8_col13, #T_a18e3_row8_col14, #T_a18e3_row9_col0, #T_a18e3_row9_col1, #T_a18e3_row9_col2, #T_a18e3_row9_col3, #T_a18e3_row9_col4, #T_a18e3_row9_col5, #T_a18e3_row9_col7, #T_a18e3_row9_col8, #T_a18e3_row9_col9, #T_a18e3_row9_col10, #T_a18e3_row9_col11, #T_a18e3_row9_col12, #T_a18e3_row9_col13, #T_a18e3_row9_col14, #T_a18e3_row10_col0, #T_a18e3_row10_col1, #T_a18e3_row10_col2, #T_a18e3_row10_col3, #T_a18e3_row10_col4, #T_a18e3_row10_col5, #T_a18e3_row10_col6, #T_a18e3_row10_col7, #T_a18e3_row10_col9, #T_a18e3_row10_col10, #T_a18e3_row10_col11, #T_a18e3_row10_col12, #T_a18e3_row10_col13, #T_a18e3_row10_col14, #T_a18e3_row11_col0, #T_a18e3_row11_col1, #T_a18e3_row11_col2, #T_a18e3_row11_col3, #T_a18e3_row11_col4, #T_a18e3_row11_col5, #T_a18e3_row11_col6, #T_a18e3_row11_col7, #T_a18e3_row11_col8, #T_a18e3_row11_col9, #T_a18e3_row11_col10, #T_a18e3_row11_col11, #T_a18e3_row11_col12, #T_a18e3_row11_col13, #T_a18e3_row11_col14, #T_a18e3_row11_col15, #T_a18e3_row12_col0, #T_a18e3_row12_col1, #T_a18e3_row12_col3, #T_a18e3_row12_col4, #T_a18e3_row12_col5, #T_a18e3_row12_col6, #T_a18e3_row12_col7, #T_a18e3_row12_col8, #T_a18e3_row12_col9, #T_a18e3_row12_col10, #T_a18e3_row12_col11, #T_a18e3_row12_col12, #T_a18e3_row12_col13, #T_a18e3_row12_col14, #T_a18e3_row13_col0, #T_a18e3_row13_col1, #T_a18e3_row13_col2, #T_a18e3_row13_col3, #T_a18e3_row13_col4, #T_a18e3_row13_col5, #T_a18e3_row13_col6, #T_a18e3_row13_col7, #T_a18e3_row13_col8, #T_a18e3_row13_col9, #T_a18e3_row13_col10, #T_a18e3_row13_col12, #T_a18e3_row13_col13, #T_a18e3_row13_col14, #T_a18e3_row14_col0, #T_a18e3_row14_col1, #T_a18e3_row14_col2, #T_a18e3_row14_col3, #T_a18e3_row14_col4, #T_a18e3_row14_col5, #T_a18e3_row14_col6, #T_a18e3_row14_col7, #T_a18e3_row14_col9, #T_a18e3_row14_col10, #T_a18e3_row14_col11, #T_a18e3_row14_col12, #T_a18e3_row14_col13, #T_a18e3_row14_col14, #T_a18e3_row15_col5, #T_a18e3_row15_col7, #T_a18e3_row15_col9, #T_a18e3_row15_col12, #T_a18e3_row15_col13, #T_a18e3_row15_col14 {\n",
       "  background-color: ;\n",
       "}\n",
       "#T_a18e3_row15_col4, #T_a18e3_row15_col8, #T_a18e3_row15_col10, #T_a18e3_row15_col15 {\n",
       "  background-color: red;\n",
       "}\n",
       "</style>\n",
       "<table id=\"T_a18e3_\">\n",
       "  <thead>\n",
       "    <tr>\n",
       "      <th class=\"blank level0\" >&nbsp;</th>\n",
       "      <th class=\"col_heading level0 col0\" >Project 1 - Qualification 1</th>\n",
       "      <th class=\"col_heading level0 col1\" >Project 1 - Qualification 2</th>\n",
       "      <th class=\"col_heading level0 col2\" >Project 1 - Qualification 3</th>\n",
       "      <th class=\"col_heading level0 col3\" >Project 2 - Qualification 1</th>\n",
       "      <th class=\"col_heading level0 col4\" >Project 2 - Qualification 2</th>\n",
       "      <th class=\"col_heading level0 col5\" >Project 2 - Qualification 3</th>\n",
       "      <th class=\"col_heading level0 col6\" >Project 3 - Qualification 1</th>\n",
       "      <th class=\"col_heading level0 col7\" >Project 3 - Qualification 2</th>\n",
       "      <th class=\"col_heading level0 col8\" >Project 3 - Qualification 3</th>\n",
       "      <th class=\"col_heading level0 col9\" >Project 4 - Qualification 1</th>\n",
       "      <th class=\"col_heading level0 col10\" >Project 4 - Qualification 2</th>\n",
       "      <th class=\"col_heading level0 col11\" >Project 4 - Qualification 3</th>\n",
       "      <th class=\"col_heading level0 col12\" >Project 5 - Qualification 1</th>\n",
       "      <th class=\"col_heading level0 col13\" >Project 5 - Qualification 2</th>\n",
       "      <th class=\"col_heading level0 col14\" >Project 5 - Qualification 3</th>\n",
       "      <th class=\"col_heading level0 col15\" >sum_column</th>\n",
       "    </tr>\n",
       "  </thead>\n",
       "  <tbody>\n",
       "    <tr>\n",
       "      <th id=\"T_a18e3_level0_row0\" class=\"row_heading level0 row0\" >Staff 1 - Horizon 1</th>\n",
       "      <td id=\"T_a18e3_row0_col0\" class=\"data row0 col0\" >1.000000</td>\n",
       "      <td id=\"T_a18e3_row0_col1\" class=\"data row0 col1\" >0.000000</td>\n",
       "      <td id=\"T_a18e3_row0_col2\" class=\"data row0 col2\" >0.000000</td>\n",
       "      <td id=\"T_a18e3_row0_col3\" class=\"data row0 col3\" >0.000000</td>\n",
       "      <td id=\"T_a18e3_row0_col4\" class=\"data row0 col4\" >0.000000</td>\n",
       "      <td id=\"T_a18e3_row0_col5\" class=\"data row0 col5\" >0.000000</td>\n",
       "      <td id=\"T_a18e3_row0_col6\" class=\"data row0 col6\" >0.000000</td>\n",
       "      <td id=\"T_a18e3_row0_col7\" class=\"data row0 col7\" >0.000000</td>\n",
       "      <td id=\"T_a18e3_row0_col8\" class=\"data row0 col8\" >0.000000</td>\n",
       "      <td id=\"T_a18e3_row0_col9\" class=\"data row0 col9\" >0.000000</td>\n",
       "      <td id=\"T_a18e3_row0_col10\" class=\"data row0 col10\" >0.000000</td>\n",
       "      <td id=\"T_a18e3_row0_col11\" class=\"data row0 col11\" >0.000000</td>\n",
       "      <td id=\"T_a18e3_row0_col12\" class=\"data row0 col12\" >0.000000</td>\n",
       "      <td id=\"T_a18e3_row0_col13\" class=\"data row0 col13\" >0.000000</td>\n",
       "      <td id=\"T_a18e3_row0_col14\" class=\"data row0 col14\" >0.000000</td>\n",
       "      <td id=\"T_a18e3_row0_col15\" class=\"data row0 col15\" >1.000000</td>\n",
       "    </tr>\n",
       "    <tr>\n",
       "      <th id=\"T_a18e3_level0_row1\" class=\"row_heading level0 row1\" >Staff 1 - Horizon 2</th>\n",
       "      <td id=\"T_a18e3_row1_col0\" class=\"data row1 col0\" >0.000000</td>\n",
       "      <td id=\"T_a18e3_row1_col1\" class=\"data row1 col1\" >0.000000</td>\n",
       "      <td id=\"T_a18e3_row1_col2\" class=\"data row1 col2\" >0.000000</td>\n",
       "      <td id=\"T_a18e3_row1_col3\" class=\"data row1 col3\" >0.000000</td>\n",
       "      <td id=\"T_a18e3_row1_col4\" class=\"data row1 col4\" >0.000000</td>\n",
       "      <td id=\"T_a18e3_row1_col5\" class=\"data row1 col5\" >0.000000</td>\n",
       "      <td id=\"T_a18e3_row1_col6\" class=\"data row1 col6\" >0.000000</td>\n",
       "      <td id=\"T_a18e3_row1_col7\" class=\"data row1 col7\" >0.000000</td>\n",
       "      <td id=\"T_a18e3_row1_col8\" class=\"data row1 col8\" >0.000000</td>\n",
       "      <td id=\"T_a18e3_row1_col9\" class=\"data row1 col9\" >0.000000</td>\n",
       "      <td id=\"T_a18e3_row1_col10\" class=\"data row1 col10\" >1.000000</td>\n",
       "      <td id=\"T_a18e3_row1_col11\" class=\"data row1 col11\" >0.000000</td>\n",
       "      <td id=\"T_a18e3_row1_col12\" class=\"data row1 col12\" >0.000000</td>\n",
       "      <td id=\"T_a18e3_row1_col13\" class=\"data row1 col13\" >0.000000</td>\n",
       "      <td id=\"T_a18e3_row1_col14\" class=\"data row1 col14\" >0.000000</td>\n",
       "      <td id=\"T_a18e3_row1_col15\" class=\"data row1 col15\" >1.000000</td>\n",
       "    </tr>\n",
       "    <tr>\n",
       "      <th id=\"T_a18e3_level0_row2\" class=\"row_heading level0 row2\" >Staff 1 - Horizon 3</th>\n",
       "      <td id=\"T_a18e3_row2_col0\" class=\"data row2 col0\" >0.000000</td>\n",
       "      <td id=\"T_a18e3_row2_col1\" class=\"data row2 col1\" >0.000000</td>\n",
       "      <td id=\"T_a18e3_row2_col2\" class=\"data row2 col2\" >0.000000</td>\n",
       "      <td id=\"T_a18e3_row2_col3\" class=\"data row2 col3\" >0.000000</td>\n",
       "      <td id=\"T_a18e3_row2_col4\" class=\"data row2 col4\" >0.000000</td>\n",
       "      <td id=\"T_a18e3_row2_col5\" class=\"data row2 col5\" >0.000000</td>\n",
       "      <td id=\"T_a18e3_row2_col6\" class=\"data row2 col6\" >0.000000</td>\n",
       "      <td id=\"T_a18e3_row2_col7\" class=\"data row2 col7\" >0.000000</td>\n",
       "      <td id=\"T_a18e3_row2_col8\" class=\"data row2 col8\" >0.000000</td>\n",
       "      <td id=\"T_a18e3_row2_col9\" class=\"data row2 col9\" >0.000000</td>\n",
       "      <td id=\"T_a18e3_row2_col10\" class=\"data row2 col10\" >1.000000</td>\n",
       "      <td id=\"T_a18e3_row2_col11\" class=\"data row2 col11\" >0.000000</td>\n",
       "      <td id=\"T_a18e3_row2_col12\" class=\"data row2 col12\" >0.000000</td>\n",
       "      <td id=\"T_a18e3_row2_col13\" class=\"data row2 col13\" >0.000000</td>\n",
       "      <td id=\"T_a18e3_row2_col14\" class=\"data row2 col14\" >0.000000</td>\n",
       "      <td id=\"T_a18e3_row2_col15\" class=\"data row2 col15\" >1.000000</td>\n",
       "    </tr>\n",
       "    <tr>\n",
       "      <th id=\"T_a18e3_level0_row3\" class=\"row_heading level0 row3\" >Staff 1 - Horizon 4</th>\n",
       "      <td id=\"T_a18e3_row3_col0\" class=\"data row3 col0\" >0.000000</td>\n",
       "      <td id=\"T_a18e3_row3_col1\" class=\"data row3 col1\" >1.000000</td>\n",
       "      <td id=\"T_a18e3_row3_col2\" class=\"data row3 col2\" >0.000000</td>\n",
       "      <td id=\"T_a18e3_row3_col3\" class=\"data row3 col3\" >0.000000</td>\n",
       "      <td id=\"T_a18e3_row3_col4\" class=\"data row3 col4\" >0.000000</td>\n",
       "      <td id=\"T_a18e3_row3_col5\" class=\"data row3 col5\" >0.000000</td>\n",
       "      <td id=\"T_a18e3_row3_col6\" class=\"data row3 col6\" >0.000000</td>\n",
       "      <td id=\"T_a18e3_row3_col7\" class=\"data row3 col7\" >0.000000</td>\n",
       "      <td id=\"T_a18e3_row3_col8\" class=\"data row3 col8\" >0.000000</td>\n",
       "      <td id=\"T_a18e3_row3_col9\" class=\"data row3 col9\" >0.000000</td>\n",
       "      <td id=\"T_a18e3_row3_col10\" class=\"data row3 col10\" >0.000000</td>\n",
       "      <td id=\"T_a18e3_row3_col11\" class=\"data row3 col11\" >0.000000</td>\n",
       "      <td id=\"T_a18e3_row3_col12\" class=\"data row3 col12\" >0.000000</td>\n",
       "      <td id=\"T_a18e3_row3_col13\" class=\"data row3 col13\" >0.000000</td>\n",
       "      <td id=\"T_a18e3_row3_col14\" class=\"data row3 col14\" >0.000000</td>\n",
       "      <td id=\"T_a18e3_row3_col15\" class=\"data row3 col15\" >1.000000</td>\n",
       "    </tr>\n",
       "    <tr>\n",
       "      <th id=\"T_a18e3_level0_row4\" class=\"row_heading level0 row4\" >Staff 1 - Horizon 5</th>\n",
       "      <td id=\"T_a18e3_row4_col0\" class=\"data row4 col0\" >0.000000</td>\n",
       "      <td id=\"T_a18e3_row4_col1\" class=\"data row4 col1\" >0.000000</td>\n",
       "      <td id=\"T_a18e3_row4_col2\" class=\"data row4 col2\" >0.000000</td>\n",
       "      <td id=\"T_a18e3_row4_col3\" class=\"data row4 col3\" >0.000000</td>\n",
       "      <td id=\"T_a18e3_row4_col4\" class=\"data row4 col4\" >0.000000</td>\n",
       "      <td id=\"T_a18e3_row4_col5\" class=\"data row4 col5\" >0.000000</td>\n",
       "      <td id=\"T_a18e3_row4_col6\" class=\"data row4 col6\" >0.000000</td>\n",
       "      <td id=\"T_a18e3_row4_col7\" class=\"data row4 col7\" >0.000000</td>\n",
       "      <td id=\"T_a18e3_row4_col8\" class=\"data row4 col8\" >0.000000</td>\n",
       "      <td id=\"T_a18e3_row4_col9\" class=\"data row4 col9\" >0.000000</td>\n",
       "      <td id=\"T_a18e3_row4_col10\" class=\"data row4 col10\" >0.000000</td>\n",
       "      <td id=\"T_a18e3_row4_col11\" class=\"data row4 col11\" >0.000000</td>\n",
       "      <td id=\"T_a18e3_row4_col12\" class=\"data row4 col12\" >0.000000</td>\n",
       "      <td id=\"T_a18e3_row4_col13\" class=\"data row4 col13\" >0.000000</td>\n",
       "      <td id=\"T_a18e3_row4_col14\" class=\"data row4 col14\" >0.000000</td>\n",
       "      <td id=\"T_a18e3_row4_col15\" class=\"data row4 col15\" >0.000000</td>\n",
       "    </tr>\n",
       "    <tr>\n",
       "      <th id=\"T_a18e3_level0_row5\" class=\"row_heading level0 row5\" >Staff 2 - Horizon 1</th>\n",
       "      <td id=\"T_a18e3_row5_col0\" class=\"data row5 col0\" >0.000000</td>\n",
       "      <td id=\"T_a18e3_row5_col1\" class=\"data row5 col1\" >0.000000</td>\n",
       "      <td id=\"T_a18e3_row5_col2\" class=\"data row5 col2\" >0.000000</td>\n",
       "      <td id=\"T_a18e3_row5_col3\" class=\"data row5 col3\" >0.000000</td>\n",
       "      <td id=\"T_a18e3_row5_col4\" class=\"data row5 col4\" >0.000000</td>\n",
       "      <td id=\"T_a18e3_row5_col5\" class=\"data row5 col5\" >0.000000</td>\n",
       "      <td id=\"T_a18e3_row5_col6\" class=\"data row5 col6\" >0.000000</td>\n",
       "      <td id=\"T_a18e3_row5_col7\" class=\"data row5 col7\" >0.000000</td>\n",
       "      <td id=\"T_a18e3_row5_col8\" class=\"data row5 col8\" >0.000000</td>\n",
       "      <td id=\"T_a18e3_row5_col9\" class=\"data row5 col9\" >0.000000</td>\n",
       "      <td id=\"T_a18e3_row5_col10\" class=\"data row5 col10\" >0.000000</td>\n",
       "      <td id=\"T_a18e3_row5_col11\" class=\"data row5 col11\" >0.000000</td>\n",
       "      <td id=\"T_a18e3_row5_col12\" class=\"data row5 col12\" >0.000000</td>\n",
       "      <td id=\"T_a18e3_row5_col13\" class=\"data row5 col13\" >0.000000</td>\n",
       "      <td id=\"T_a18e3_row5_col14\" class=\"data row5 col14\" >0.000000</td>\n",
       "      <td id=\"T_a18e3_row5_col15\" class=\"data row5 col15\" >0.000000</td>\n",
       "    </tr>\n",
       "    <tr>\n",
       "      <th id=\"T_a18e3_level0_row6\" class=\"row_heading level0 row6\" >Staff 2 - Horizon 2</th>\n",
       "      <td id=\"T_a18e3_row6_col0\" class=\"data row6 col0\" >0.000000</td>\n",
       "      <td id=\"T_a18e3_row6_col1\" class=\"data row6 col1\" >0.000000</td>\n",
       "      <td id=\"T_a18e3_row6_col2\" class=\"data row6 col2\" >0.000000</td>\n",
       "      <td id=\"T_a18e3_row6_col3\" class=\"data row6 col3\" >1.000000</td>\n",
       "      <td id=\"T_a18e3_row6_col4\" class=\"data row6 col4\" >0.000000</td>\n",
       "      <td id=\"T_a18e3_row6_col5\" class=\"data row6 col5\" >0.000000</td>\n",
       "      <td id=\"T_a18e3_row6_col6\" class=\"data row6 col6\" >0.000000</td>\n",
       "      <td id=\"T_a18e3_row6_col7\" class=\"data row6 col7\" >0.000000</td>\n",
       "      <td id=\"T_a18e3_row6_col8\" class=\"data row6 col8\" >0.000000</td>\n",
       "      <td id=\"T_a18e3_row6_col9\" class=\"data row6 col9\" >0.000000</td>\n",
       "      <td id=\"T_a18e3_row6_col10\" class=\"data row6 col10\" >0.000000</td>\n",
       "      <td id=\"T_a18e3_row6_col11\" class=\"data row6 col11\" >0.000000</td>\n",
       "      <td id=\"T_a18e3_row6_col12\" class=\"data row6 col12\" >0.000000</td>\n",
       "      <td id=\"T_a18e3_row6_col13\" class=\"data row6 col13\" >0.000000</td>\n",
       "      <td id=\"T_a18e3_row6_col14\" class=\"data row6 col14\" >0.000000</td>\n",
       "      <td id=\"T_a18e3_row6_col15\" class=\"data row6 col15\" >1.000000</td>\n",
       "    </tr>\n",
       "    <tr>\n",
       "      <th id=\"T_a18e3_level0_row7\" class=\"row_heading level0 row7\" >Staff 2 - Horizon 3</th>\n",
       "      <td id=\"T_a18e3_row7_col0\" class=\"data row7 col0\" >0.000000</td>\n",
       "      <td id=\"T_a18e3_row7_col1\" class=\"data row7 col1\" >0.000000</td>\n",
       "      <td id=\"T_a18e3_row7_col2\" class=\"data row7 col2\" >0.000000</td>\n",
       "      <td id=\"T_a18e3_row7_col3\" class=\"data row7 col3\" >0.000000</td>\n",
       "      <td id=\"T_a18e3_row7_col4\" class=\"data row7 col4\" >1.000000</td>\n",
       "      <td id=\"T_a18e3_row7_col5\" class=\"data row7 col5\" >0.000000</td>\n",
       "      <td id=\"T_a18e3_row7_col6\" class=\"data row7 col6\" >0.000000</td>\n",
       "      <td id=\"T_a18e3_row7_col7\" class=\"data row7 col7\" >0.000000</td>\n",
       "      <td id=\"T_a18e3_row7_col8\" class=\"data row7 col8\" >0.000000</td>\n",
       "      <td id=\"T_a18e3_row7_col9\" class=\"data row7 col9\" >0.000000</td>\n",
       "      <td id=\"T_a18e3_row7_col10\" class=\"data row7 col10\" >0.000000</td>\n",
       "      <td id=\"T_a18e3_row7_col11\" class=\"data row7 col11\" >0.000000</td>\n",
       "      <td id=\"T_a18e3_row7_col12\" class=\"data row7 col12\" >0.000000</td>\n",
       "      <td id=\"T_a18e3_row7_col13\" class=\"data row7 col13\" >0.000000</td>\n",
       "      <td id=\"T_a18e3_row7_col14\" class=\"data row7 col14\" >0.000000</td>\n",
       "      <td id=\"T_a18e3_row7_col15\" class=\"data row7 col15\" >1.000000</td>\n",
       "    </tr>\n",
       "    <tr>\n",
       "      <th id=\"T_a18e3_level0_row8\" class=\"row_heading level0 row8\" >Staff 2 - Horizon 4</th>\n",
       "      <td id=\"T_a18e3_row8_col0\" class=\"data row8 col0\" >0.000000</td>\n",
       "      <td id=\"T_a18e3_row8_col1\" class=\"data row8 col1\" >0.000000</td>\n",
       "      <td id=\"T_a18e3_row8_col2\" class=\"data row8 col2\" >0.000000</td>\n",
       "      <td id=\"T_a18e3_row8_col3\" class=\"data row8 col3\" >0.000000</td>\n",
       "      <td id=\"T_a18e3_row8_col4\" class=\"data row8 col4\" >1.000000</td>\n",
       "      <td id=\"T_a18e3_row8_col5\" class=\"data row8 col5\" >0.000000</td>\n",
       "      <td id=\"T_a18e3_row8_col6\" class=\"data row8 col6\" >0.000000</td>\n",
       "      <td id=\"T_a18e3_row8_col7\" class=\"data row8 col7\" >0.000000</td>\n",
       "      <td id=\"T_a18e3_row8_col8\" class=\"data row8 col8\" >0.000000</td>\n",
       "      <td id=\"T_a18e3_row8_col9\" class=\"data row8 col9\" >0.000000</td>\n",
       "      <td id=\"T_a18e3_row8_col10\" class=\"data row8 col10\" >0.000000</td>\n",
       "      <td id=\"T_a18e3_row8_col11\" class=\"data row8 col11\" >0.000000</td>\n",
       "      <td id=\"T_a18e3_row8_col12\" class=\"data row8 col12\" >0.000000</td>\n",
       "      <td id=\"T_a18e3_row8_col13\" class=\"data row8 col13\" >0.000000</td>\n",
       "      <td id=\"T_a18e3_row8_col14\" class=\"data row8 col14\" >0.000000</td>\n",
       "      <td id=\"T_a18e3_row8_col15\" class=\"data row8 col15\" >1.000000</td>\n",
       "    </tr>\n",
       "    <tr>\n",
       "      <th id=\"T_a18e3_level0_row9\" class=\"row_heading level0 row9\" >Staff 2 - Horizon 5</th>\n",
       "      <td id=\"T_a18e3_row9_col0\" class=\"data row9 col0\" >0.000000</td>\n",
       "      <td id=\"T_a18e3_row9_col1\" class=\"data row9 col1\" >0.000000</td>\n",
       "      <td id=\"T_a18e3_row9_col2\" class=\"data row9 col2\" >0.000000</td>\n",
       "      <td id=\"T_a18e3_row9_col3\" class=\"data row9 col3\" >0.000000</td>\n",
       "      <td id=\"T_a18e3_row9_col4\" class=\"data row9 col4\" >0.000000</td>\n",
       "      <td id=\"T_a18e3_row9_col5\" class=\"data row9 col5\" >0.000000</td>\n",
       "      <td id=\"T_a18e3_row9_col6\" class=\"data row9 col6\" >1.000000</td>\n",
       "      <td id=\"T_a18e3_row9_col7\" class=\"data row9 col7\" >0.000000</td>\n",
       "      <td id=\"T_a18e3_row9_col8\" class=\"data row9 col8\" >0.000000</td>\n",
       "      <td id=\"T_a18e3_row9_col9\" class=\"data row9 col9\" >0.000000</td>\n",
       "      <td id=\"T_a18e3_row9_col10\" class=\"data row9 col10\" >0.000000</td>\n",
       "      <td id=\"T_a18e3_row9_col11\" class=\"data row9 col11\" >0.000000</td>\n",
       "      <td id=\"T_a18e3_row9_col12\" class=\"data row9 col12\" >0.000000</td>\n",
       "      <td id=\"T_a18e3_row9_col13\" class=\"data row9 col13\" >0.000000</td>\n",
       "      <td id=\"T_a18e3_row9_col14\" class=\"data row9 col14\" >0.000000</td>\n",
       "      <td id=\"T_a18e3_row9_col15\" class=\"data row9 col15\" >1.000000</td>\n",
       "    </tr>\n",
       "    <tr>\n",
       "      <th id=\"T_a18e3_level0_row10\" class=\"row_heading level0 row10\" >Staff 3 - Horizon 1</th>\n",
       "      <td id=\"T_a18e3_row10_col0\" class=\"data row10 col0\" >0.000000</td>\n",
       "      <td id=\"T_a18e3_row10_col1\" class=\"data row10 col1\" >0.000000</td>\n",
       "      <td id=\"T_a18e3_row10_col2\" class=\"data row10 col2\" >0.000000</td>\n",
       "      <td id=\"T_a18e3_row10_col3\" class=\"data row10 col3\" >0.000000</td>\n",
       "      <td id=\"T_a18e3_row10_col4\" class=\"data row10 col4\" >0.000000</td>\n",
       "      <td id=\"T_a18e3_row10_col5\" class=\"data row10 col5\" >0.000000</td>\n",
       "      <td id=\"T_a18e3_row10_col6\" class=\"data row10 col6\" >0.000000</td>\n",
       "      <td id=\"T_a18e3_row10_col7\" class=\"data row10 col7\" >0.000000</td>\n",
       "      <td id=\"T_a18e3_row10_col8\" class=\"data row10 col8\" >1.000000</td>\n",
       "      <td id=\"T_a18e3_row10_col9\" class=\"data row10 col9\" >0.000000</td>\n",
       "      <td id=\"T_a18e3_row10_col10\" class=\"data row10 col10\" >0.000000</td>\n",
       "      <td id=\"T_a18e3_row10_col11\" class=\"data row10 col11\" >0.000000</td>\n",
       "      <td id=\"T_a18e3_row10_col12\" class=\"data row10 col12\" >0.000000</td>\n",
       "      <td id=\"T_a18e3_row10_col13\" class=\"data row10 col13\" >0.000000</td>\n",
       "      <td id=\"T_a18e3_row10_col14\" class=\"data row10 col14\" >0.000000</td>\n",
       "      <td id=\"T_a18e3_row10_col15\" class=\"data row10 col15\" >1.000000</td>\n",
       "    </tr>\n",
       "    <tr>\n",
       "      <th id=\"T_a18e3_level0_row11\" class=\"row_heading level0 row11\" >Staff 3 - Horizon 2</th>\n",
       "      <td id=\"T_a18e3_row11_col0\" class=\"data row11 col0\" >0.000000</td>\n",
       "      <td id=\"T_a18e3_row11_col1\" class=\"data row11 col1\" >0.000000</td>\n",
       "      <td id=\"T_a18e3_row11_col2\" class=\"data row11 col2\" >0.000000</td>\n",
       "      <td id=\"T_a18e3_row11_col3\" class=\"data row11 col3\" >0.000000</td>\n",
       "      <td id=\"T_a18e3_row11_col4\" class=\"data row11 col4\" >0.000000</td>\n",
       "      <td id=\"T_a18e3_row11_col5\" class=\"data row11 col5\" >0.000000</td>\n",
       "      <td id=\"T_a18e3_row11_col6\" class=\"data row11 col6\" >0.000000</td>\n",
       "      <td id=\"T_a18e3_row11_col7\" class=\"data row11 col7\" >0.000000</td>\n",
       "      <td id=\"T_a18e3_row11_col8\" class=\"data row11 col8\" >0.000000</td>\n",
       "      <td id=\"T_a18e3_row11_col9\" class=\"data row11 col9\" >0.000000</td>\n",
       "      <td id=\"T_a18e3_row11_col10\" class=\"data row11 col10\" >0.000000</td>\n",
       "      <td id=\"T_a18e3_row11_col11\" class=\"data row11 col11\" >0.000000</td>\n",
       "      <td id=\"T_a18e3_row11_col12\" class=\"data row11 col12\" >0.000000</td>\n",
       "      <td id=\"T_a18e3_row11_col13\" class=\"data row11 col13\" >0.000000</td>\n",
       "      <td id=\"T_a18e3_row11_col14\" class=\"data row11 col14\" >0.000000</td>\n",
       "      <td id=\"T_a18e3_row11_col15\" class=\"data row11 col15\" >0.000000</td>\n",
       "    </tr>\n",
       "    <tr>\n",
       "      <th id=\"T_a18e3_level0_row12\" class=\"row_heading level0 row12\" >Staff 3 - Horizon 3</th>\n",
       "      <td id=\"T_a18e3_row12_col0\" class=\"data row12 col0\" >0.000000</td>\n",
       "      <td id=\"T_a18e3_row12_col1\" class=\"data row12 col1\" >0.000000</td>\n",
       "      <td id=\"T_a18e3_row12_col2\" class=\"data row12 col2\" >1.000000</td>\n",
       "      <td id=\"T_a18e3_row12_col3\" class=\"data row12 col3\" >0.000000</td>\n",
       "      <td id=\"T_a18e3_row12_col4\" class=\"data row12 col4\" >0.000000</td>\n",
       "      <td id=\"T_a18e3_row12_col5\" class=\"data row12 col5\" >0.000000</td>\n",
       "      <td id=\"T_a18e3_row12_col6\" class=\"data row12 col6\" >0.000000</td>\n",
       "      <td id=\"T_a18e3_row12_col7\" class=\"data row12 col7\" >0.000000</td>\n",
       "      <td id=\"T_a18e3_row12_col8\" class=\"data row12 col8\" >0.000000</td>\n",
       "      <td id=\"T_a18e3_row12_col9\" class=\"data row12 col9\" >0.000000</td>\n",
       "      <td id=\"T_a18e3_row12_col10\" class=\"data row12 col10\" >0.000000</td>\n",
       "      <td id=\"T_a18e3_row12_col11\" class=\"data row12 col11\" >0.000000</td>\n",
       "      <td id=\"T_a18e3_row12_col12\" class=\"data row12 col12\" >0.000000</td>\n",
       "      <td id=\"T_a18e3_row12_col13\" class=\"data row12 col13\" >0.000000</td>\n",
       "      <td id=\"T_a18e3_row12_col14\" class=\"data row12 col14\" >0.000000</td>\n",
       "      <td id=\"T_a18e3_row12_col15\" class=\"data row12 col15\" >1.000000</td>\n",
       "    </tr>\n",
       "    <tr>\n",
       "      <th id=\"T_a18e3_level0_row13\" class=\"row_heading level0 row13\" >Staff 3 - Horizon 4</th>\n",
       "      <td id=\"T_a18e3_row13_col0\" class=\"data row13 col0\" >0.000000</td>\n",
       "      <td id=\"T_a18e3_row13_col1\" class=\"data row13 col1\" >0.000000</td>\n",
       "      <td id=\"T_a18e3_row13_col2\" class=\"data row13 col2\" >0.000000</td>\n",
       "      <td id=\"T_a18e3_row13_col3\" class=\"data row13 col3\" >0.000000</td>\n",
       "      <td id=\"T_a18e3_row13_col4\" class=\"data row13 col4\" >0.000000</td>\n",
       "      <td id=\"T_a18e3_row13_col5\" class=\"data row13 col5\" >0.000000</td>\n",
       "      <td id=\"T_a18e3_row13_col6\" class=\"data row13 col6\" >0.000000</td>\n",
       "      <td id=\"T_a18e3_row13_col7\" class=\"data row13 col7\" >0.000000</td>\n",
       "      <td id=\"T_a18e3_row13_col8\" class=\"data row13 col8\" >0.000000</td>\n",
       "      <td id=\"T_a18e3_row13_col9\" class=\"data row13 col9\" >0.000000</td>\n",
       "      <td id=\"T_a18e3_row13_col10\" class=\"data row13 col10\" >0.000000</td>\n",
       "      <td id=\"T_a18e3_row13_col11\" class=\"data row13 col11\" >1.000000</td>\n",
       "      <td id=\"T_a18e3_row13_col12\" class=\"data row13 col12\" >0.000000</td>\n",
       "      <td id=\"T_a18e3_row13_col13\" class=\"data row13 col13\" >0.000000</td>\n",
       "      <td id=\"T_a18e3_row13_col14\" class=\"data row13 col14\" >0.000000</td>\n",
       "      <td id=\"T_a18e3_row13_col15\" class=\"data row13 col15\" >1.000000</td>\n",
       "    </tr>\n",
       "    <tr>\n",
       "      <th id=\"T_a18e3_level0_row14\" class=\"row_heading level0 row14\" >Staff 3 - Horizon 5</th>\n",
       "      <td id=\"T_a18e3_row14_col0\" class=\"data row14 col0\" >0.000000</td>\n",
       "      <td id=\"T_a18e3_row14_col1\" class=\"data row14 col1\" >0.000000</td>\n",
       "      <td id=\"T_a18e3_row14_col2\" class=\"data row14 col2\" >0.000000</td>\n",
       "      <td id=\"T_a18e3_row14_col3\" class=\"data row14 col3\" >0.000000</td>\n",
       "      <td id=\"T_a18e3_row14_col4\" class=\"data row14 col4\" >0.000000</td>\n",
       "      <td id=\"T_a18e3_row14_col5\" class=\"data row14 col5\" >0.000000</td>\n",
       "      <td id=\"T_a18e3_row14_col6\" class=\"data row14 col6\" >0.000000</td>\n",
       "      <td id=\"T_a18e3_row14_col7\" class=\"data row14 col7\" >0.000000</td>\n",
       "      <td id=\"T_a18e3_row14_col8\" class=\"data row14 col8\" >1.000000</td>\n",
       "      <td id=\"T_a18e3_row14_col9\" class=\"data row14 col9\" >0.000000</td>\n",
       "      <td id=\"T_a18e3_row14_col10\" class=\"data row14 col10\" >0.000000</td>\n",
       "      <td id=\"T_a18e3_row14_col11\" class=\"data row14 col11\" >0.000000</td>\n",
       "      <td id=\"T_a18e3_row14_col12\" class=\"data row14 col12\" >0.000000</td>\n",
       "      <td id=\"T_a18e3_row14_col13\" class=\"data row14 col13\" >0.000000</td>\n",
       "      <td id=\"T_a18e3_row14_col14\" class=\"data row14 col14\" >0.000000</td>\n",
       "      <td id=\"T_a18e3_row14_col15\" class=\"data row14 col15\" >1.000000</td>\n",
       "    </tr>\n",
       "    <tr>\n",
       "      <th id=\"T_a18e3_level0_row15\" class=\"row_heading level0 row15\" >sum_row</th>\n",
       "      <td id=\"T_a18e3_row15_col0\" class=\"data row15 col0\" >1.000000</td>\n",
       "      <td id=\"T_a18e3_row15_col1\" class=\"data row15 col1\" >1.000000</td>\n",
       "      <td id=\"T_a18e3_row15_col2\" class=\"data row15 col2\" >1.000000</td>\n",
       "      <td id=\"T_a18e3_row15_col3\" class=\"data row15 col3\" >1.000000</td>\n",
       "      <td id=\"T_a18e3_row15_col4\" class=\"data row15 col4\" >2.000000</td>\n",
       "      <td id=\"T_a18e3_row15_col5\" class=\"data row15 col5\" >0.000000</td>\n",
       "      <td id=\"T_a18e3_row15_col6\" class=\"data row15 col6\" >1.000000</td>\n",
       "      <td id=\"T_a18e3_row15_col7\" class=\"data row15 col7\" >0.000000</td>\n",
       "      <td id=\"T_a18e3_row15_col8\" class=\"data row15 col8\" >2.000000</td>\n",
       "      <td id=\"T_a18e3_row15_col9\" class=\"data row15 col9\" >0.000000</td>\n",
       "      <td id=\"T_a18e3_row15_col10\" class=\"data row15 col10\" >2.000000</td>\n",
       "      <td id=\"T_a18e3_row15_col11\" class=\"data row15 col11\" >1.000000</td>\n",
       "      <td id=\"T_a18e3_row15_col12\" class=\"data row15 col12\" >0.000000</td>\n",
       "      <td id=\"T_a18e3_row15_col13\" class=\"data row15 col13\" >0.000000</td>\n",
       "      <td id=\"T_a18e3_row15_col14\" class=\"data row15 col14\" >0.000000</td>\n",
       "      <td id=\"T_a18e3_row15_col15\" class=\"data row15 col15\" >12.000000</td>\n",
       "    </tr>\n",
       "  </tbody>\n",
       "</table>\n"
      ],
      "text/plain": [
       "<pandas.io.formats.style.Styler at 0x7fde00ce99d0>"
      ]
     },
     "execution_count": 30,
     "metadata": {},
     "output_type": "execute_result"
    }
   ],
   "source": [
    "def highlight_cells(val):\n",
    "    color = 'yellow' if val == 1 else 'red' if val > 1 else ''\n",
    "    return 'background-color: %s' % color\n",
    "\n",
    "df.style.applymap(highlight_cells)"
   ]
  }
 ],
 "metadata": {
  "kernelspec": {
   "display_name": "Python 3 (ipykernel)",
   "language": "python",
   "name": "python3"
  },
  "language_info": {
   "codemirror_mode": {
    "name": "ipython",
    "version": 3
   },
   "file_extension": ".py",
   "mimetype": "text/x-python",
   "name": "python",
   "nbconvert_exporter": "python",
   "pygments_lexer": "ipython3",
   "version": "3.8.8"
  }
 },
 "nbformat": 4,
 "nbformat_minor": 5
}
