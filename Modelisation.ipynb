{
 "cells": [
  {
   "cell_type": "markdown",
   "id": "2481595c",
   "metadata": {},
   "source": [
    "## Frameworks"
   ]
  },
  {
   "cell_type": "code",
   "execution_count": 1,
   "id": "9d5b1fdd",
   "metadata": {},
   "outputs": [],
   "source": [
    "import gurobipy as gp\n",
    "from gurobipy import GRB\n",
    "import json\n",
    "import numpy as np\n",
    "import pandas as pd\n",
    "import time"
   ]
  },
  {
   "cell_type": "markdown",
   "id": "3cf4d4ed",
   "metadata": {},
   "source": [
    "## 1) Load Instance"
   ]
  },
  {
   "cell_type": "code",
   "execution_count": 2,
   "id": "b1760e52",
   "metadata": {},
   "outputs": [],
   "source": [
    "start = time.time()"
   ]
  },
  {
   "cell_type": "code",
   "execution_count": 3,
   "id": "46f90a5b",
   "metadata": {},
   "outputs": [],
   "source": [
    "#path=\"instances/test.json\"\n",
    "path=\"instances/toy_instance.json\"\n",
    "#path=\"instances/medium_instance.json\"\n",
    "#path=\"instances/large_instance.json\"\n",
    "\n",
    "# JSON file\n",
    "f = open (path, \"r\")\n",
    "  \n",
    "# Reading from file\n",
    "data = json.loads(f.read())"
   ]
  },
  {
   "cell_type": "code",
   "execution_count": 4,
   "id": "3f435815",
   "metadata": {},
   "outputs": [],
   "source": [
    "# Gains\n",
    "Gm=[]\n",
    "for job in data[\"jobs\"]:\n",
    "    Gm.append(job['gain'])\n",
    "Gm=np.array(Gm)\n",
    "\n",
    "# Penalty\n",
    "Pm=[]\n",
    "for job in data[\"jobs\"]:\n",
    "    Pm.append(job['daily_penalty'])\n",
    "Pm=np.array(Pm)\n",
    "\n",
    "# Due Date\n",
    "Dm=[]\n",
    "for job in data[\"jobs\"]:\n",
    "    Dm.append(job['due_date'])\n",
    "Dm=np.array(Dm)\n",
    "\n",
    "# Penalty per day\n",
    "Penalty=[]\n",
    "for job in data[\"jobs\"]:\n",
    "    job_penalty=[]\n",
    "    p=0\n",
    "    for t in range(data[\"horizon\"]):\n",
    "        if (t>job[\"due_date\"]-1):\n",
    "            p+=job[\"daily_penalty\"]\n",
    "        job_penalty.append(p)\n",
    "    Penalty.append(job_penalty)\n",
    "Penalty=np.array(Penalty)\n",
    "\n",
    "# Profit per day\n",
    "Profit=[]\n",
    "for job in data[\"jobs\"]:\n",
    "    job_benef=[]\n",
    "    p=job['gain']\n",
    "    for t in range(data[\"horizon\"]):\n",
    "        if (t>job[\"due_date\"]-1):\n",
    "            p-=job[\"daily_penalty\"]\n",
    "        job_benef.append(p)\n",
    "    Profit.append(job_benef)\n",
    "Profit=np.array(Profit)\n",
    "\n",
    "# Vacations per day and per employee\n",
    "Vacations=[]\n",
    "for e in data[\"staff\"]:\n",
    "    e_planning=[]\n",
    "    v=e['vacations']\n",
    "    for t in range(data[\"horizon\"]):\n",
    "        if (t+1 in v):\n",
    "            e_planning.append(1)\n",
    "        else:\n",
    "            e_planning.append(0)\n",
    "    Vacations.append(e_planning)\n",
    "Vacations=np.array(Vacations)\n",
    "\n",
    "# Employee qualifications\n",
    "Qualifications_staff=[]\n",
    "for staff in data[\"staff\"]:\n",
    "    list_staff=[]\n",
    "    for q in data[\"qualifications\"]:\n",
    "        if(q in staff[\"qualifications\"]):\n",
    "            list_staff.append(1)\n",
    "        else:\n",
    "            list_staff.append(0)\n",
    "    Qualifications_staff.append(list_staff)\n",
    "Qualifications_staff = np.array(Qualifications_staff)\n",
    "\n",
    "# Jobs Qualifications\n",
    "Qualifications_job=[]\n",
    "for job in data[\"jobs\"]:\n",
    "    #working_days_per_qualification\n",
    "    list_job=[]\n",
    "    for q in data[\"qualifications\"]:\n",
    "        try:\n",
    "            val=job['working_days_per_qualification'][q]\n",
    "        except:\n",
    "            val=0\n",
    "        list_job.append(val)\n",
    "    Qualifications_job.append(list_job)\n",
    "Qualifications_job=np.array(Qualifications_job)"
   ]
  },
  {
   "cell_type": "markdown",
   "id": "85bfd93b",
   "metadata": {},
   "source": [
    "## 2) Model"
   ]
  },
  {
   "cell_type": "code",
   "execution_count": 5,
   "id": "ff8425e9",
   "metadata": {},
   "outputs": [
    {
     "name": "stdout",
     "output_type": "stream",
     "text": [
      "Set parameter Username\n",
      "Academic license - for non-commercial use only - expires 2023-12-29\n"
     ]
    }
   ],
   "source": [
    "###\n",
    "# MODEL\n",
    "model = gp.Model()\n",
    "\n",
    "horizon=data[\"horizon\"]\n",
    "qualifs=len(data[\"qualifications\"])\n",
    "projects=len(data[\"jobs\"])\n",
    "staffs=len(data[\"staff\"])"
   ]
  },
  {
   "cell_type": "markdown",
   "id": "1a61da37",
   "metadata": {},
   "source": [
    "## 3) Variables"
   ]
  },
  {
   "cell_type": "code",
   "execution_count": 6,
   "id": "912db859",
   "metadata": {},
   "outputs": [],
   "source": [
    "###\n",
    "# VARIABLES\n",
    "\n",
    "# Planning \n",
    "Planning = model.addMVar(\n",
    "                        shape=(staffs,horizon,projects,qualifs),\n",
    "                        vtype=GRB.BINARY,\n",
    "                        name=\"Planning\"\n",
    "                        )\n",
    "\n",
    "# Delay \n",
    "Delay_project = model.addVars(\n",
    "                                projects,\n",
    "                                lb=0,\n",
    "                                ub=horizon,\n",
    "                                vtype=GRB.INTEGER,\n",
    "                                name=\"Delay_project\"\n",
    "                            ) \n",
    "\n",
    "# End Date \n",
    "End_project = model.addVars(\n",
    "                                projects,\n",
    "                                lb=1,\n",
    "                                ub=horizon,\n",
    "                                vtype=GRB.INTEGER,\n",
    "                                name=\"End_project\"\n",
    "                            ) \n",
    "\n",
    "# Realisation Boolean\n",
    "Realisation = model.addVars(\n",
    "                                projects,\n",
    "                                vtype=GRB.BINARY,\n",
    "                                name=\"Realisation\"\n",
    "                            )\n",
    "\n",
    "# Begin \n",
    "\n",
    "Begin_project = model.addVars(\n",
    "                                projects,\n",
    "                                lb=1,\n",
    "                                ub=horizon,\n",
    "                                vtype=GRB.INTEGER,\n",
    "                                name=\"End_project\"\n",
    "                            ) "
   ]
  },
  {
   "cell_type": "markdown",
   "id": "9c6c6007",
   "metadata": {},
   "source": [
    "## 4) Constraints"
   ]
  },
  {
   "cell_type": "code",
   "execution_count": 7,
   "id": "dca64a2b",
   "metadata": {},
   "outputs": [
    {
     "name": "stdout",
     "output_type": "stream",
     "text": [
      "Warning for adding constraints: zero or small (< 1e-13) coefficients, ignored\n",
      "#8 Begin Date to compute Z3\n",
      "#9 Don't begin a project that is not done\n"
     ]
    }
   ],
   "source": [
    "###\n",
    "# CONSTRAINTS\n",
    "\n",
    "#1 Uicity of affectation \n",
    "model.addConstrs(\n",
    "    (gp.quicksum(gp.quicksum(Planning[staff][t]))<= 1\n",
    "        for staff in range(len(data[\"staff\"]))\n",
    "        for t in range(data[\"horizon\"])\n",
    "    ),\n",
    "    name=\"staff_qualif_unicity\"\n",
    ") \n",
    "\n",
    "#2 Vacations\n",
    "model.addConstrs(\n",
    "    (Planning[staff][t][job][qualif]<=1-Vacations[staff][t] \n",
    "        for staff in range(len(data[\"staff\"]))\n",
    "        for t in range(data[\"horizon\"])\n",
    "        for job in range(len(data[\"jobs\"]))\n",
    "        for qualif in range(len(data[\"qualifications\"]))\n",
    "    ),\n",
    "    name=\"Vacations_constraint\"\n",
    ") \n",
    "\n",
    "\n",
    "#3 Qualification staff\n",
    "model.addConstrs(\n",
    "    (Planning[staff][t][job][qualif]<=Qualifications_staff[staff][qualif]\n",
    "        for staff in range(len(data[\"staff\"]))\n",
    "        for t in range(data[\"horizon\"])\n",
    "        for job in range(len(data[\"jobs\"]))\n",
    "        for qualif in range(len(data[\"qualifications\"]))\n",
    "    ),\n",
    "    name=\"Qualif_staff_constraint\"\n",
    ") \n",
    "\n",
    "\n",
    "# Definition d'une liste de la somme des temps de qualifs par projet\n",
    "Max_temp_qualif_job=[]\n",
    "for job in range(len(data[\"jobs\"])):\n",
    "    l_job=[]\n",
    "    for qualif in range(len(data[\"qualifications\"])):\n",
    "        temp_qualif_job=0\n",
    "        for t in range(data[\"horizon\"]):\n",
    "            for staff in range(len(data[\"staff\"])):\n",
    "                temp_qualif_job+=Planning[staff][t][job][qualif]\n",
    "        l_job.append(temp_qualif_job)\n",
    "    Max_temp_qualif_job.append(l_job)\n",
    "Max_temp_qualif_job\n",
    "\n",
    "\n",
    "#4 Couverture des qualifs => realisation\n",
    "model.addConstrs(\n",
    "        (Max_temp_qualif_job[job][qualif] >= Realisation[job] *  Qualifications_job[job][qualif]\n",
    "            for job in range(len(data[\"jobs\"]))\n",
    "            for qualif in range(len(data[\"qualifications\"]))\n",
    "        ), name = \"cover_qualif\"\n",
    ")\n",
    "\n",
    "#5 Unicity realisation\n",
    "model.addConstrs(\n",
    "    (Max_temp_qualif_job[job][qualif] <= Qualifications_job[job][qualif]\n",
    "            for job in range(len(data[\"jobs\"]))\n",
    "            for qualif in range(len(data[\"qualifications\"]))\n",
    "), name = \"project_done_once\")\n",
    "\n",
    "#6 end project \n",
    "model.addConstrs(\n",
    "   (Planning[staff][t][job][qualif] * t+1 <= End_project[job]\n",
    "        for staff in range(len(data[\"staff\"]))\n",
    "        for t in range(data[\"horizon\"])\n",
    "        for job in range(len(data[\"jobs\"]))\n",
    "        for qualif in range(len(data[\"qualifications\"]))\n",
    "), name = \"end_project_date\")\n",
    "\n",
    "#7 Delay \n",
    "model.addConstrs(\n",
    "    (End_project[job] - Dm[job] <= Delay_project[job]\n",
    "       for job in range(len(data[\"jobs\"]))\n",
    "    ), name=\"delay_project\"\n",
    ")\n",
    "\n",
    "#8 Begin Date to compute Z3\n",
    "print(\"#8 Begin Date to compute Z3\")\n",
    "\n",
    "\n",
    "#9 Don't begin a project that is not done\n",
    "print(\"#9 Don't begin a project that is not done\")\n",
    "\n"
   ]
  },
  {
   "cell_type": "markdown",
   "id": "5a324d9c",
   "metadata": {},
   "source": [
    "## 5) Objectives"
   ]
  },
  {
   "cell_type": "code",
   "execution_count": 8,
   "id": "2d76e748",
   "metadata": {},
   "outputs": [],
   "source": [
    "model.ModelSense = GRB.MAXIMIZE"
   ]
  },
  {
   "cell_type": "markdown",
   "id": "06804c28",
   "metadata": {},
   "source": [
    "### Z1: Maximize Profit"
   ]
  },
  {
   "cell_type": "code",
   "execution_count": 9,
   "id": "4a34787c",
   "metadata": {},
   "outputs": [],
   "source": [
    "# Objectif Unique : \n",
    "# Z1 = gp.quicksum(Realisation.values()*(Gm-Pm*Delay_project.values()))\n",
    "# model.setObjective(Z1,GRB.MAXIMIZE)"
   ]
  },
  {
   "cell_type": "code",
   "execution_count": 10,
   "id": "8249be68",
   "metadata": {},
   "outputs": [],
   "source": [
    "# ici on suppose que si le projet n'est pas réalisé alors il n'est pas commencé donc pas de delay ?\n",
    "# à vérifier ! (ajouter constraint #9 ?)\n",
    "\n",
    "Z1 = gp.quicksum((Realisation.values()*Gm)-(Pm*Delay_project.values()))"
   ]
  },
  {
   "cell_type": "code",
   "execution_count": 11,
   "id": "223f2e70",
   "metadata": {},
   "outputs": [],
   "source": [
    "model.setObjectiveN(\n",
    "    Z1, \n",
    "    index=0, \n",
    "    priority=3, \n",
    "    name='Profit', \n",
    "    weight=1)"
   ]
  },
  {
   "cell_type": "markdown",
   "id": "501c63ee",
   "metadata": {},
   "source": [
    "### Z2: Minimize Number of Projects per Employee"
   ]
  },
  {
   "cell_type": "code",
   "execution_count": 12,
   "id": "69b7c64c",
   "metadata": {},
   "outputs": [],
   "source": [
    "Include_Z2 = True"
   ]
  },
  {
   "cell_type": "code",
   "execution_count": 13,
   "id": "1b5ed2db",
   "metadata": {},
   "outputs": [],
   "source": [
    "# Jobs done by one staff\n",
    "jobs_staffeur = model.addMVar(shape=(staffs,projects),vtype=GRB.BINARY,name=\"jobs_staffeur\")\n",
    "\n",
    "for staff in range(staffs):\n",
    "    for job in range(projects):\n",
    "        val=[]\n",
    "        for t in range(horizon):\n",
    "            for qualif in range(qualifs):\n",
    "                val.append(Planning[staff][t][job][qualif])\n",
    "        #real_jobs_staffeur[staff][job]=max(val)\n",
    "        model.addConstr((jobs_staffeur[staff][job] == gp.max_(val)))\n",
    "\n",
    "# Sum of all jobs for one staff\n",
    "sum_staff_jobs = model.addVars(staffs,vtype=GRB.INTEGER, name=\"sum_staff_jobs\")         \n",
    "\n",
    "for staff in range(staffs):\n",
    "    model.addConstr((sum_staff_jobs[staff]==gp.quicksum(jobs_staffeur[staff])))\n"
   ]
  },
  {
   "cell_type": "code",
   "execution_count": 14,
   "id": "c1658bc4",
   "metadata": {},
   "outputs": [],
   "source": [
    "if Include_Z2:\n",
    "    for staff in range(staffs):\n",
    "        model.setObjectiveN(sum_staff_jobs[staff], \n",
    "                            index=1+staff, \n",
    "                            priority=2, \n",
    "                            weight=-1)  #weight = -1 to minimize\n"
   ]
  },
  {
   "cell_type": "markdown",
   "id": "b8aaf937",
   "metadata": {},
   "source": [
    "### Z3: Minimize Realisation Time"
   ]
  },
  {
   "cell_type": "code",
   "execution_count": 15,
   "id": "59ee8970",
   "metadata": {},
   "outputs": [],
   "source": [
    "Include_Z3 = False"
   ]
  },
  {
   "cell_type": "code",
   "execution_count": 16,
   "id": "d981fd38",
   "metadata": {
    "scrolled": false
   },
   "outputs": [
    {
     "data": {
      "text/plain": [
       "'Begin_project = model.addVars(projects, lb=1, ub=horizon, vtype=gp.GRB.INTEGER)\\n\\nfor job in range(projects):\\n    print(gp.min_(days_project[job]))\\n    print(Begin_project[job])\\n    model.addConstr(Begin_project[job] == gp.min_(days_project[job]))'"
      ]
     },
     "execution_count": 16,
     "metadata": {},
     "output_type": "execute_result"
    }
   ],
   "source": [
    "days_project = model.addMVar((projects,horizon), vtype=gp.GRB.INTEGER)\n",
    "\n",
    "## création d'une liste pour chaque jour met soit 0 si le projet n'est pas travaillé soit le jour en question\n",
    "## l'idée est d'ensuite récupérer le min de cette liste\n",
    "for job in range(projects):\n",
    "    for t in range(horizon):\n",
    "        for staff in range(staffs):\n",
    "            for qualif in range(qualifs):\n",
    "                                                    #>= (1 ou 0) * le jour =>si le jour 2 est travaillé on aura 2\n",
    "                model.addConstr(days_project[job][t] >= Planning[staff][t][job][qualif]*(t+1))\n",
    "\n",
    "## Je suis en train d'essayer de dire que Begin_project est le minimum de la liste précédemment construite \n",
    "\"\"\"Begin_project = model.addVars(projects, lb=1, ub=horizon, vtype=gp.GRB.INTEGER)\n",
    "\n",
    "for job in range(projects):\n",
    "    print(gp.min_(days_project[job]))\n",
    "    print(Begin_project[job])\n",
    "    model.addConstr(Begin_project[job] == gp.min_(days_project[job]))\"\"\"\n"
   ]
  },
  {
   "cell_type": "code",
   "execution_count": 17,
   "id": "184002cf",
   "metadata": {},
   "outputs": [
    {
     "data": {
      "text/plain": [
       "'Begin_project = model.addVars(projects, lb=0, ub=horizon, vtype=gp.GRB.INTEGER)\\n\\nfor job in range(projects):\\n    for t in range(horizon):\\n        for staff in range(staffs):\\n            for qualif in range(qualifs):\\n                model.addConstr(Begin_project[job] >= Planning[staff][t][job][qualif]*t+1)'"
      ]
     },
     "execution_count": 17,
     "metadata": {},
     "output_type": "execute_result"
    }
   ],
   "source": [
    "\"\"\"Begin_project = model.addVars(projects, lb=0, ub=horizon, vtype=gp.GRB.INTEGER)\n",
    "\n",
    "for job in range(projects):\n",
    "    for t in range(horizon):\n",
    "        for staff in range(staffs):\n",
    "            for qualif in range(qualifs):\n",
    "                model.addConstr(Begin_project[job] >= Planning[staff][t][job][qualif]*t+1)\"\"\""
   ]
  },
  {
   "cell_type": "code",
   "execution_count": 18,
   "id": "49719e81",
   "metadata": {},
   "outputs": [],
   "source": [
    "if Include_Z3:\n",
    "    for job in range(projects):\n",
    "        model.setObjectiveN((End_project[job]-Begin_project[job]) , \n",
    "                            index=1+job, \n",
    "                            priority=3, \n",
    "                            weight=-1)  #weight = -1 to minimize"
   ]
  },
  {
   "cell_type": "markdown",
   "id": "bccf66ff",
   "metadata": {},
   "source": [
    "## 6) Optimize"
   ]
  },
  {
   "cell_type": "code",
   "execution_count": 19,
   "id": "e4ed23cf",
   "metadata": {},
   "outputs": [],
   "source": [
    "# epsilon"
   ]
  },
  {
   "cell_type": "code",
   "execution_count": 20,
   "id": "621069d4",
   "metadata": {},
   "outputs": [
    {
     "name": "stdout",
     "output_type": "stream",
     "text": [
      "Gurobi Optimizer version 10.0.0 build v10.0.0rc2 (mac64[x86])\n",
      "\n",
      "CPU model: Intel(R) Core(TM) i5-8259U CPU @ 2.30GHz\n",
      "Thread count: 4 physical cores, 8 logical processors, using up to 8 threads\n",
      "\n",
      "Optimize a model with 953 rows, 288 columns and 2018 nonzeros\n",
      "Model fingerprint: 0x0f3d3498\n",
      "Model has 15 general constraints\n",
      "Variable types: 0 continuous, 288 integer (245 binary)\n",
      "Coefficient statistics:\n",
      "  Matrix range     [1e+00, 5e+00]\n",
      "  Objective range  [1e+00, 2e+01]\n",
      "  Bounds range     [1e+00, 5e+00]\n",
      "  RHS range        [1e+00, 5e+00]\n",
      "\n",
      "---------------------------------------------------------------------------\n",
      "Multi-objectives: starting optimization with 4 objectives (2 combined) ...\n",
      "---------------------------------------------------------------------------\n",
      "\n",
      "Multi-objectives: applying initial presolve ...\n",
      "---------------------------------------------------------------------------\n",
      "\n",
      "Presolve removed 733 rows and 140 columns\n",
      "Presolve time: 0.01s\n",
      "Presolved: 220 rows and 148 columns\n",
      "---------------------------------------------------------------------------\n",
      "\n",
      "Multi-objectives: optimize objective 1 (Profit) ...\n",
      "---------------------------------------------------------------------------\n",
      "\n",
      "Found heuristic solution: objective -0.0000000\n",
      "Presolve removed 117 rows and 39 columns\n",
      "Presolve time: 0.00s\n",
      "Presolved: 103 rows, 109 columns, 552 nonzeros\n",
      "Variable types: 0 continuous, 109 integer (105 binary)\n",
      "\n",
      "Root relaxation: objective 7.200000e+01, 158 iterations, 0.00 seconds (0.00 work units)\n",
      "\n",
      "    Nodes    |    Current Node    |     Objective Bounds      |     Work\n",
      " Expl Unexpl |  Obj  Depth IntInf | Incumbent    BestBd   Gap | It/Node Time\n",
      "\n",
      "     0     0   72.00000    0    8   -0.00000   72.00000      -     -    0s\n",
      "H    0     0                      59.0000000   72.00000  22.0%     -    0s\n",
      "H    0     0                      65.0000000   72.00000  10.8%     -    0s\n",
      "     0     0   71.50000    0   30   65.00000   71.50000  10.0%     -    0s\n",
      "     0     0   66.00000    0   14   65.00000   66.00000  1.54%     -    0s\n",
      "     0     0   66.00000    0   19   65.00000   66.00000  1.54%     -    0s\n",
      "\n",
      "Cutting planes:\n",
      "  Gomory: 3\n",
      "  MIR: 1\n",
      "  Zero half: 1\n",
      "  RLT: 4\n",
      "  Relax-and-lift: 1\n",
      "\n",
      "Explored 1 nodes (364 simplex iterations) in 0.07 seconds (0.01 work units)\n",
      "Thread count was 8 (of 8 available processors)\n",
      "\n",
      "Solution count 3: 65 59 -0 \n",
      "\n",
      "Optimal solution found (tolerance 1.00e-04)\n",
      "Best objective 6.500000000000e+01, best bound 6.500000000000e+01, gap 0.0000%\n",
      "---------------------------------------------------------------------------\n",
      "\n",
      "Multi-objectives: optimize objective 2 (weighted) ...\n",
      "---------------------------------------------------------------------------\n",
      "\n",
      "\n",
      "Loaded user MIP start with objective -11\n",
      "\n",
      "Presolve removed 132 rows and 41 columns\n",
      "Presolve time: 0.00s\n",
      "Presolved: 89 rows, 107 columns, 421 nonzeros\n",
      "Variable types: 0 continuous, 107 integer (103 binary)\n",
      "Found heuristic solution: objective -10.0000000\n",
      "\n",
      "Root relaxation: objective -3.789737e+00, 140 iterations, 0.00 seconds (0.00 work units)\n",
      "\n",
      "    Nodes    |    Current Node    |     Objective Bounds      |     Work\n",
      " Expl Unexpl |  Obj  Depth IntInf | Incumbent    BestBd   Gap | It/Node Time\n",
      "\n",
      "     0     0   -3.78974    0   45  -10.00000   -3.78974  62.1%     -    0s\n",
      "H    0     0                      -8.0000000   -3.78974  52.6%     -    0s\n",
      "H    0     0                      -6.0000000   -4.92610  17.9%     -    0s\n",
      "     0     0   -6.00000    0   66   -6.00000   -6.00000  0.00%     -    0s\n",
      "\n",
      "Cutting planes:\n",
      "  Gomory: 9\n",
      "  Clique: 2\n",
      "  MIR: 3\n",
      "  GUB cover: 1\n",
      "  Zero half: 10\n",
      "  RLT: 7\n",
      "  Relax-and-lift: 1\n",
      "\n",
      "Explored 1 nodes (234 simplex iterations) in 0.11 seconds (0.01 work units)\n",
      "Thread count was 8 (of 8 available processors)\n",
      "\n",
      "Solution count 4: -6 -8 -10 -11 \n",
      "No other solutions better than -6\n",
      "\n",
      "Optimal solution found (tolerance 1.00e-04)\n",
      "Best objective -6.000000000000e+00, best bound -6.000000000000e+00, gap 0.0000%\n",
      "\n",
      "---------------------------------------------------------------------------\n",
      "Multi-objectives: solved in 0.12 seconds (0.01 work units), solution count 6\n",
      "\n"
     ]
    }
   ],
   "source": [
    "model.optimize()"
   ]
  },
  {
   "cell_type": "markdown",
   "id": "dd7689c7",
   "metadata": {},
   "source": [
    "## 7) Results"
   ]
  },
  {
   "cell_type": "code",
   "execution_count": 21,
   "id": "9b3d505b",
   "metadata": {},
   "outputs": [
    {
     "name": "stdout",
     "output_type": "stream",
     "text": [
      "Time taken:  1.3 seconds\n",
      "Time taken:  0.02 minutes\n"
     ]
    }
   ],
   "source": [
    "end = time.time()\n",
    "print(\"Time taken: \", round(end - start,2), \"seconds\")\n",
    "print(\"Time taken: \", round((end - start)/60,2), \"minutes\")\n",
    "# toy : 1s\n",
    "# medium : 53s\n",
    "#large : 3,7 min"
   ]
  },
  {
   "cell_type": "markdown",
   "id": "466a9395",
   "metadata": {},
   "source": [
    "### Objectives"
   ]
  },
  {
   "cell_type": "code",
   "execution_count": 22,
   "id": "6730f370",
   "metadata": {},
   "outputs": [
    {
     "name": "stdout",
     "output_type": "stream",
     "text": [
      "Z1: Maximize Profit\n",
      "\n",
      "Solution || Best \n",
      "  65.0   ||  80\n"
     ]
    }
   ],
   "source": [
    "# Z1\n",
    "print(\"Z1: Maximize Profit\\n\")\n",
    "print(\"Solution || Best \")\n",
    "print(\" \",model.objVal,\"  || \",Gm.sum())\n",
    "#print(\"Solution Profit : \",model.objVal,\"\\nBest Profit     : \",Gm.sum())"
   ]
  },
  {
   "cell_type": "code",
   "execution_count": 23,
   "id": "e04a9d6b",
   "metadata": {},
   "outputs": [
    {
     "name": "stdout",
     "output_type": "stream",
     "text": [
      "Z2: Minimize Number of Projects per Employee\n",
      "\n",
      "staff || job(s)\n",
      "  0   ||  2.0\n",
      "  1   ||  2.0\n",
      "  2   ||  2.0\n"
     ]
    }
   ],
   "source": [
    "# Z2\n",
    "print(\"Z2: Minimize Number of Projects per Employee\\n\")\n",
    "print(\"staff || job(s)\")\n",
    "for i in range(len(data[\"staff\"])):\n",
    "    print(\" \",i,\"  || \",sum_staff_jobs[i].x)\n",
    "    #print(\"staff\",i,\":\",sum_staff_jobs[i].x,\"job\")"
   ]
  },
  {
   "cell_type": "code",
   "execution_count": 24,
   "id": "1d4feeb7",
   "metadata": {},
   "outputs": [
    {
     "name": "stdout",
     "output_type": "stream",
     "text": [
      "Z3: Minimize Realisation Time\n",
      "\n",
      "Project || Begin ||  End  || Delta\n",
      "0       ||  1.0  ||  3.0  ||  2.0\n",
      "1       ||  1.0  ||  3.0  ||  2.0\n",
      "2       ||  1.0  ||  4.0  ||  3.0\n",
      "3       ||  1.0  ||  3.0  ||  2.0\n",
      "4       ||  1.0  ||  5.0  ||  4.0\n"
     ]
    }
   ],
   "source": [
    "# Z3\n",
    "print(\"Z3: Minimize Realisation Time\\n\")\n",
    "print(\"Project || Begin ||  End  || Delta\")\n",
    "for i in range(len(data[\"jobs\"])):\n",
    "    print(i,\"      || \",Begin_project[i].x,\" || \",End_project[i].x,\" || \",End_project[i].x-Begin_project[i].x)\n",
    "    #print(\"project\",i,\"|| begin:\",Begin_project[i].x,\"-end:\",End_project[i].x,\"|| delta:\",End_project[i].x-Begin_project[i].x)\n",
    "    "
   ]
  },
  {
   "cell_type": "code",
   "execution_count": 25,
   "id": "95814eb3",
   "metadata": {},
   "outputs": [],
   "source": [
    "#Explo pour Z3"
   ]
  },
  {
   "cell_type": "code",
   "execution_count": 26,
   "id": "c807e4ae",
   "metadata": {},
   "outputs": [
    {
     "name": "stdout",
     "output_type": "stream",
     "text": [
      "[ 1.  2.  3. -0. -0.]\n",
      "-0.0\n",
      "[-0.  0. -0. -0.  0.]\n",
      "-0.0\n",
      "[ 1. -0.  0.  4. -0.]\n",
      "-0.0\n",
      "[ 0.  2.  3. -0. -0.]\n",
      "0.0\n",
      "[-0. -0. -0.  4.  5.]\n",
      "-0.0\n"
     ]
    },
    {
     "data": {
      "text/plain": [
       "array([1., 5., 1., 2., 4.])"
      ]
     },
     "execution_count": 26,
     "metadata": {},
     "output_type": "execute_result"
    }
   ],
   "source": [
    "for i in range(len(data[\"jobs\"])):\n",
    "    print(days_project[i].x)\n",
    "    print(min(days_project[i].x))\n",
    "    \n",
    "begin=np.zeros(projects)\n",
    "for job in range(projects):\n",
    "    val=[horizon]\n",
    "    for t in range(horizon):\n",
    "        for staff in range(staffs):\n",
    "            for qualif in range(qualifs):\n",
    "                if(int(Planning[staff][t][job][qualif].x)==1.0):\n",
    "                    val.append(t+1) \n",
    "    begin[job]=min(val)\n",
    "begin"
   ]
  },
  {
   "cell_type": "code",
   "execution_count": 27,
   "id": "9ba1bb06",
   "metadata": {},
   "outputs": [
    {
     "data": {
      "text/plain": [
       "array([1., 5., 1., 2., 4.])"
      ]
     },
     "execution_count": 27,
     "metadata": {},
     "output_type": "execute_result"
    }
   ],
   "source": [
    "begin=np.zeros(projects)\n",
    "for job in range(projects):\n",
    "    val=[horizon]\n",
    "    for t in range(horizon):\n",
    "        for staff in range(staffs):\n",
    "            for qualif in range(qualifs):\n",
    "                if(int(Planning[staff][t][job][qualif].x)==1.0):\n",
    "                    val.append(t+1) \n",
    "    begin[job]=min(val)\n",
    "begin"
   ]
  },
  {
   "cell_type": "markdown",
   "id": "657873d7",
   "metadata": {},
   "source": [
    "### Constraints"
   ]
  },
  {
   "cell_type": "code",
   "execution_count": 28,
   "id": "6cd34c93",
   "metadata": {},
   "outputs": [
    {
     "name": "stdout",
     "output_type": "stream",
     "text": [
      "<gurobi.Var Realisation[0] (value 1.0)>\n",
      "<gurobi.Var Realisation[1] (value -0.0)>\n",
      "<gurobi.Var Realisation[2] (value 1.0)>\n",
      "<gurobi.Var Realisation[3] (value 1.0)>\n",
      "<gurobi.Var Realisation[4] (value 1.0)>\n"
     ]
    }
   ],
   "source": [
    "for i in range(len(data[\"jobs\"])):\n",
    "    print(Realisation[i])"
   ]
  },
  {
   "cell_type": "code",
   "execution_count": 29,
   "id": "fd062e2f",
   "metadata": {},
   "outputs": [
    {
     "name": "stdout",
     "output_type": "stream",
     "text": [
      "<gurobi.Var Delay_project[0] (value 0.0)>\n",
      "<gurobi.Var Delay_project[1] (value 0.0)>\n",
      "<gurobi.Var Delay_project[2] (value 0.0)>\n",
      "<gurobi.Var Delay_project[3] (value 0.0)>\n",
      "<gurobi.Var Delay_project[4] (value -0.0)>\n"
     ]
    }
   ],
   "source": [
    "for i in range(len(data[\"jobs\"])):\n",
    "    print(Delay_project[i])"
   ]
  },
  {
   "cell_type": "markdown",
   "id": "48725118",
   "metadata": {},
   "source": [
    "### Visualization"
   ]
  },
  {
   "cell_type": "code",
   "execution_count": 30,
   "id": "88ed5642",
   "metadata": {},
   "outputs": [],
   "source": [
    "# 4D matrix, Gurobi variables extraction\n",
    "matrix = np.array([[element.x for element in row] for row in Planning]).reshape(staffs, horizon, projects, qualifs)\n",
    "\n",
    "# 4D matrix to dataframe\n",
    "df = pd.DataFrame(np.reshape(matrix, (staffs * horizon, projects * qualifs)),\n",
    "                  columns=[f\"Project {i+1} - Qualification {j+1}\" for i in range(projects) for j in range(qualifs)],\n",
    "                  index=[f\"Staff {i+1} - Horizon {j+1}\" for i in range(staffs) for j in range(horizon)])\n",
    "\n",
    "# Add a row of sums\n",
    "df.loc['sum_row'] = df.sum()\n",
    "\n",
    "# Add a column of sums\n",
    "df['sum_column'] = df.sum(axis=1)\n",
    "\n",
    "df.to_csv(\"Results/planning_\"+path.split(\"/\")[-1].split('.')[0]+\".csv\",sep=\";\")"
   ]
  },
  {
   "cell_type": "code",
   "execution_count": 31,
   "id": "fc5baeb3",
   "metadata": {},
   "outputs": [
    {
     "data": {
      "text/html": [
       "<style type=\"text/css\">\n",
       "#T_c1336_row0_col0, #T_c1336_row0_col2, #T_c1336_row0_col3, #T_c1336_row0_col4, #T_c1336_row0_col5, #T_c1336_row0_col6, #T_c1336_row0_col7, #T_c1336_row0_col8, #T_c1336_row0_col9, #T_c1336_row0_col10, #T_c1336_row0_col11, #T_c1336_row0_col12, #T_c1336_row0_col13, #T_c1336_row0_col14, #T_c1336_row1_col1, #T_c1336_row1_col2, #T_c1336_row1_col3, #T_c1336_row1_col4, #T_c1336_row1_col5, #T_c1336_row1_col6, #T_c1336_row1_col7, #T_c1336_row1_col8, #T_c1336_row1_col9, #T_c1336_row1_col10, #T_c1336_row1_col11, #T_c1336_row1_col12, #T_c1336_row1_col13, #T_c1336_row1_col14, #T_c1336_row2_col0, #T_c1336_row2_col1, #T_c1336_row2_col3, #T_c1336_row2_col4, #T_c1336_row2_col5, #T_c1336_row2_col6, #T_c1336_row2_col7, #T_c1336_row2_col8, #T_c1336_row2_col9, #T_c1336_row2_col10, #T_c1336_row2_col11, #T_c1336_row2_col12, #T_c1336_row2_col13, #T_c1336_row2_col14, #T_c1336_row3_col0, #T_c1336_row3_col1, #T_c1336_row3_col2, #T_c1336_row3_col3, #T_c1336_row3_col4, #T_c1336_row3_col5, #T_c1336_row3_col6, #T_c1336_row3_col7, #T_c1336_row3_col8, #T_c1336_row3_col9, #T_c1336_row3_col10, #T_c1336_row3_col11, #T_c1336_row3_col12, #T_c1336_row3_col13, #T_c1336_row4_col0, #T_c1336_row4_col1, #T_c1336_row4_col2, #T_c1336_row4_col3, #T_c1336_row4_col4, #T_c1336_row4_col5, #T_c1336_row4_col6, #T_c1336_row4_col7, #T_c1336_row4_col8, #T_c1336_row4_col9, #T_c1336_row4_col10, #T_c1336_row4_col11, #T_c1336_row4_col12, #T_c1336_row4_col13, #T_c1336_row5_col0, #T_c1336_row5_col1, #T_c1336_row5_col2, #T_c1336_row5_col3, #T_c1336_row5_col4, #T_c1336_row5_col5, #T_c1336_row5_col6, #T_c1336_row5_col7, #T_c1336_row5_col8, #T_c1336_row5_col9, #T_c1336_row5_col10, #T_c1336_row5_col11, #T_c1336_row5_col12, #T_c1336_row5_col13, #T_c1336_row5_col14, #T_c1336_row5_col15, #T_c1336_row6_col0, #T_c1336_row6_col1, #T_c1336_row6_col2, #T_c1336_row6_col3, #T_c1336_row6_col4, #T_c1336_row6_col5, #T_c1336_row6_col6, #T_c1336_row6_col7, #T_c1336_row6_col8, #T_c1336_row6_col9, #T_c1336_row6_col11, #T_c1336_row6_col12, #T_c1336_row6_col13, #T_c1336_row6_col14, #T_c1336_row7_col0, #T_c1336_row7_col1, #T_c1336_row7_col2, #T_c1336_row7_col3, #T_c1336_row7_col4, #T_c1336_row7_col5, #T_c1336_row7_col6, #T_c1336_row7_col7, #T_c1336_row7_col8, #T_c1336_row7_col9, #T_c1336_row7_col11, #T_c1336_row7_col12, #T_c1336_row7_col13, #T_c1336_row7_col14, #T_c1336_row8_col0, #T_c1336_row8_col1, #T_c1336_row8_col2, #T_c1336_row8_col3, #T_c1336_row8_col4, #T_c1336_row8_col5, #T_c1336_row8_col7, #T_c1336_row8_col8, #T_c1336_row8_col9, #T_c1336_row8_col10, #T_c1336_row8_col11, #T_c1336_row8_col12, #T_c1336_row8_col13, #T_c1336_row8_col14, #T_c1336_row9_col0, #T_c1336_row9_col1, #T_c1336_row9_col2, #T_c1336_row9_col3, #T_c1336_row9_col4, #T_c1336_row9_col5, #T_c1336_row9_col6, #T_c1336_row9_col7, #T_c1336_row9_col8, #T_c1336_row9_col9, #T_c1336_row9_col10, #T_c1336_row9_col11, #T_c1336_row9_col12, #T_c1336_row9_col13, #T_c1336_row9_col14, #T_c1336_row9_col15, #T_c1336_row10_col0, #T_c1336_row10_col1, #T_c1336_row10_col2, #T_c1336_row10_col3, #T_c1336_row10_col4, #T_c1336_row10_col5, #T_c1336_row10_col6, #T_c1336_row10_col7, #T_c1336_row10_col9, #T_c1336_row10_col10, #T_c1336_row10_col11, #T_c1336_row10_col12, #T_c1336_row10_col13, #T_c1336_row10_col14, #T_c1336_row11_col0, #T_c1336_row11_col1, #T_c1336_row11_col2, #T_c1336_row11_col3, #T_c1336_row11_col4, #T_c1336_row11_col5, #T_c1336_row11_col6, #T_c1336_row11_col7, #T_c1336_row11_col8, #T_c1336_row11_col9, #T_c1336_row11_col10, #T_c1336_row11_col11, #T_c1336_row11_col12, #T_c1336_row11_col13, #T_c1336_row11_col14, #T_c1336_row11_col15, #T_c1336_row12_col0, #T_c1336_row12_col1, #T_c1336_row12_col2, #T_c1336_row12_col3, #T_c1336_row12_col4, #T_c1336_row12_col5, #T_c1336_row12_col6, #T_c1336_row12_col7, #T_c1336_row12_col8, #T_c1336_row12_col9, #T_c1336_row12_col10, #T_c1336_row12_col12, #T_c1336_row12_col13, #T_c1336_row12_col14, #T_c1336_row13_col0, #T_c1336_row13_col1, #T_c1336_row13_col2, #T_c1336_row13_col3, #T_c1336_row13_col4, #T_c1336_row13_col5, #T_c1336_row13_col6, #T_c1336_row13_col7, #T_c1336_row13_col9, #T_c1336_row13_col10, #T_c1336_row13_col11, #T_c1336_row13_col12, #T_c1336_row13_col13, #T_c1336_row13_col14, #T_c1336_row14_col0, #T_c1336_row14_col1, #T_c1336_row14_col2, #T_c1336_row14_col3, #T_c1336_row14_col4, #T_c1336_row14_col5, #T_c1336_row14_col6, #T_c1336_row14_col7, #T_c1336_row14_col8, #T_c1336_row14_col9, #T_c1336_row14_col10, #T_c1336_row14_col11, #T_c1336_row14_col12, #T_c1336_row14_col13, #T_c1336_row14_col14, #T_c1336_row14_col15, #T_c1336_row15_col3, #T_c1336_row15_col4, #T_c1336_row15_col5, #T_c1336_row15_col7, #T_c1336_row15_col9, #T_c1336_row15_col12, #T_c1336_row15_col13 {\n",
       "  background-color: ;\n",
       "}\n",
       "#T_c1336_row0_col1, #T_c1336_row0_col15, #T_c1336_row1_col0, #T_c1336_row1_col15, #T_c1336_row2_col2, #T_c1336_row2_col15, #T_c1336_row3_col14, #T_c1336_row3_col15, #T_c1336_row4_col14, #T_c1336_row4_col15, #T_c1336_row6_col10, #T_c1336_row6_col15, #T_c1336_row7_col10, #T_c1336_row7_col15, #T_c1336_row8_col6, #T_c1336_row8_col15, #T_c1336_row10_col8, #T_c1336_row10_col15, #T_c1336_row12_col11, #T_c1336_row12_col15, #T_c1336_row13_col8, #T_c1336_row13_col15, #T_c1336_row15_col0, #T_c1336_row15_col1, #T_c1336_row15_col2, #T_c1336_row15_col6, #T_c1336_row15_col11 {\n",
       "  background-color: yellow;\n",
       "}\n",
       "#T_c1336_row15_col8, #T_c1336_row15_col10, #T_c1336_row15_col14, #T_c1336_row15_col15 {\n",
       "  background-color: red;\n",
       "}\n",
       "</style>\n",
       "<table id=\"T_c1336_\">\n",
       "  <thead>\n",
       "    <tr>\n",
       "      <th class=\"blank level0\" >&nbsp;</th>\n",
       "      <th class=\"col_heading level0 col0\" >Project 1 - Qualification 1</th>\n",
       "      <th class=\"col_heading level0 col1\" >Project 1 - Qualification 2</th>\n",
       "      <th class=\"col_heading level0 col2\" >Project 1 - Qualification 3</th>\n",
       "      <th class=\"col_heading level0 col3\" >Project 2 - Qualification 1</th>\n",
       "      <th class=\"col_heading level0 col4\" >Project 2 - Qualification 2</th>\n",
       "      <th class=\"col_heading level0 col5\" >Project 2 - Qualification 3</th>\n",
       "      <th class=\"col_heading level0 col6\" >Project 3 - Qualification 1</th>\n",
       "      <th class=\"col_heading level0 col7\" >Project 3 - Qualification 2</th>\n",
       "      <th class=\"col_heading level0 col8\" >Project 3 - Qualification 3</th>\n",
       "      <th class=\"col_heading level0 col9\" >Project 4 - Qualification 1</th>\n",
       "      <th class=\"col_heading level0 col10\" >Project 4 - Qualification 2</th>\n",
       "      <th class=\"col_heading level0 col11\" >Project 4 - Qualification 3</th>\n",
       "      <th class=\"col_heading level0 col12\" >Project 5 - Qualification 1</th>\n",
       "      <th class=\"col_heading level0 col13\" >Project 5 - Qualification 2</th>\n",
       "      <th class=\"col_heading level0 col14\" >Project 5 - Qualification 3</th>\n",
       "      <th class=\"col_heading level0 col15\" >sum_column</th>\n",
       "    </tr>\n",
       "  </thead>\n",
       "  <tbody>\n",
       "    <tr>\n",
       "      <th id=\"T_c1336_level0_row0\" class=\"row_heading level0 row0\" >Staff 1 - Horizon 1</th>\n",
       "      <td id=\"T_c1336_row0_col0\" class=\"data row0 col0\" >-0.000000</td>\n",
       "      <td id=\"T_c1336_row0_col1\" class=\"data row0 col1\" >1.000000</td>\n",
       "      <td id=\"T_c1336_row0_col2\" class=\"data row0 col2\" >-0.000000</td>\n",
       "      <td id=\"T_c1336_row0_col3\" class=\"data row0 col3\" >-0.000000</td>\n",
       "      <td id=\"T_c1336_row0_col4\" class=\"data row0 col4\" >-0.000000</td>\n",
       "      <td id=\"T_c1336_row0_col5\" class=\"data row0 col5\" >0.000000</td>\n",
       "      <td id=\"T_c1336_row0_col6\" class=\"data row0 col6\" >-0.000000</td>\n",
       "      <td id=\"T_c1336_row0_col7\" class=\"data row0 col7\" >0.000000</td>\n",
       "      <td id=\"T_c1336_row0_col8\" class=\"data row0 col8\" >-0.000000</td>\n",
       "      <td id=\"T_c1336_row0_col9\" class=\"data row0 col9\" >0.000000</td>\n",
       "      <td id=\"T_c1336_row0_col10\" class=\"data row0 col10\" >-0.000000</td>\n",
       "      <td id=\"T_c1336_row0_col11\" class=\"data row0 col11\" >0.000000</td>\n",
       "      <td id=\"T_c1336_row0_col12\" class=\"data row0 col12\" >0.000000</td>\n",
       "      <td id=\"T_c1336_row0_col13\" class=\"data row0 col13\" >0.000000</td>\n",
       "      <td id=\"T_c1336_row0_col14\" class=\"data row0 col14\" >-0.000000</td>\n",
       "      <td id=\"T_c1336_row0_col15\" class=\"data row0 col15\" >1.000000</td>\n",
       "    </tr>\n",
       "    <tr>\n",
       "      <th id=\"T_c1336_level0_row1\" class=\"row_heading level0 row1\" >Staff 1 - Horizon 2</th>\n",
       "      <td id=\"T_c1336_row1_col0\" class=\"data row1 col0\" >1.000000</td>\n",
       "      <td id=\"T_c1336_row1_col1\" class=\"data row1 col1\" >-0.000000</td>\n",
       "      <td id=\"T_c1336_row1_col2\" class=\"data row1 col2\" >-0.000000</td>\n",
       "      <td id=\"T_c1336_row1_col3\" class=\"data row1 col3\" >-0.000000</td>\n",
       "      <td id=\"T_c1336_row1_col4\" class=\"data row1 col4\" >-0.000000</td>\n",
       "      <td id=\"T_c1336_row1_col5\" class=\"data row1 col5\" >0.000000</td>\n",
       "      <td id=\"T_c1336_row1_col6\" class=\"data row1 col6\" >-0.000000</td>\n",
       "      <td id=\"T_c1336_row1_col7\" class=\"data row1 col7\" >0.000000</td>\n",
       "      <td id=\"T_c1336_row1_col8\" class=\"data row1 col8\" >-0.000000</td>\n",
       "      <td id=\"T_c1336_row1_col9\" class=\"data row1 col9\" >0.000000</td>\n",
       "      <td id=\"T_c1336_row1_col10\" class=\"data row1 col10\" >0.000000</td>\n",
       "      <td id=\"T_c1336_row1_col11\" class=\"data row1 col11\" >-0.000000</td>\n",
       "      <td id=\"T_c1336_row1_col12\" class=\"data row1 col12\" >0.000000</td>\n",
       "      <td id=\"T_c1336_row1_col13\" class=\"data row1 col13\" >0.000000</td>\n",
       "      <td id=\"T_c1336_row1_col14\" class=\"data row1 col14\" >-0.000000</td>\n",
       "      <td id=\"T_c1336_row1_col15\" class=\"data row1 col15\" >1.000000</td>\n",
       "    </tr>\n",
       "    <tr>\n",
       "      <th id=\"T_c1336_level0_row2\" class=\"row_heading level0 row2\" >Staff 1 - Horizon 3</th>\n",
       "      <td id=\"T_c1336_row2_col0\" class=\"data row2 col0\" >0.000000</td>\n",
       "      <td id=\"T_c1336_row2_col1\" class=\"data row2 col1\" >0.000000</td>\n",
       "      <td id=\"T_c1336_row2_col2\" class=\"data row2 col2\" >1.000000</td>\n",
       "      <td id=\"T_c1336_row2_col3\" class=\"data row2 col3\" >0.000000</td>\n",
       "      <td id=\"T_c1336_row2_col4\" class=\"data row2 col4\" >-0.000000</td>\n",
       "      <td id=\"T_c1336_row2_col5\" class=\"data row2 col5\" >0.000000</td>\n",
       "      <td id=\"T_c1336_row2_col6\" class=\"data row2 col6\" >-0.000000</td>\n",
       "      <td id=\"T_c1336_row2_col7\" class=\"data row2 col7\" >0.000000</td>\n",
       "      <td id=\"T_c1336_row2_col8\" class=\"data row2 col8\" >-0.000000</td>\n",
       "      <td id=\"T_c1336_row2_col9\" class=\"data row2 col9\" >0.000000</td>\n",
       "      <td id=\"T_c1336_row2_col10\" class=\"data row2 col10\" >-0.000000</td>\n",
       "      <td id=\"T_c1336_row2_col11\" class=\"data row2 col11\" >0.000000</td>\n",
       "      <td id=\"T_c1336_row2_col12\" class=\"data row2 col12\" >0.000000</td>\n",
       "      <td id=\"T_c1336_row2_col13\" class=\"data row2 col13\" >0.000000</td>\n",
       "      <td id=\"T_c1336_row2_col14\" class=\"data row2 col14\" >-0.000000</td>\n",
       "      <td id=\"T_c1336_row2_col15\" class=\"data row2 col15\" >1.000000</td>\n",
       "    </tr>\n",
       "    <tr>\n",
       "      <th id=\"T_c1336_level0_row3\" class=\"row_heading level0 row3\" >Staff 1 - Horizon 4</th>\n",
       "      <td id=\"T_c1336_row3_col0\" class=\"data row3 col0\" >-0.000000</td>\n",
       "      <td id=\"T_c1336_row3_col1\" class=\"data row3 col1\" >0.000000</td>\n",
       "      <td id=\"T_c1336_row3_col2\" class=\"data row3 col2\" >-0.000000</td>\n",
       "      <td id=\"T_c1336_row3_col3\" class=\"data row3 col3\" >-0.000000</td>\n",
       "      <td id=\"T_c1336_row3_col4\" class=\"data row3 col4\" >-0.000000</td>\n",
       "      <td id=\"T_c1336_row3_col5\" class=\"data row3 col5\" >0.000000</td>\n",
       "      <td id=\"T_c1336_row3_col6\" class=\"data row3 col6\" >0.000000</td>\n",
       "      <td id=\"T_c1336_row3_col7\" class=\"data row3 col7\" >0.000000</td>\n",
       "      <td id=\"T_c1336_row3_col8\" class=\"data row3 col8\" >-0.000000</td>\n",
       "      <td id=\"T_c1336_row3_col9\" class=\"data row3 col9\" >0.000000</td>\n",
       "      <td id=\"T_c1336_row3_col10\" class=\"data row3 col10\" >-0.000000</td>\n",
       "      <td id=\"T_c1336_row3_col11\" class=\"data row3 col11\" >-0.000000</td>\n",
       "      <td id=\"T_c1336_row3_col12\" class=\"data row3 col12\" >0.000000</td>\n",
       "      <td id=\"T_c1336_row3_col13\" class=\"data row3 col13\" >0.000000</td>\n",
       "      <td id=\"T_c1336_row3_col14\" class=\"data row3 col14\" >1.000000</td>\n",
       "      <td id=\"T_c1336_row3_col15\" class=\"data row3 col15\" >1.000000</td>\n",
       "    </tr>\n",
       "    <tr>\n",
       "      <th id=\"T_c1336_level0_row4\" class=\"row_heading level0 row4\" >Staff 1 - Horizon 5</th>\n",
       "      <td id=\"T_c1336_row4_col0\" class=\"data row4 col0\" >0.000000</td>\n",
       "      <td id=\"T_c1336_row4_col1\" class=\"data row4 col1\" >-0.000000</td>\n",
       "      <td id=\"T_c1336_row4_col2\" class=\"data row4 col2\" >0.000000</td>\n",
       "      <td id=\"T_c1336_row4_col3\" class=\"data row4 col3\" >-0.000000</td>\n",
       "      <td id=\"T_c1336_row4_col4\" class=\"data row4 col4\" >-0.000000</td>\n",
       "      <td id=\"T_c1336_row4_col5\" class=\"data row4 col5\" >0.000000</td>\n",
       "      <td id=\"T_c1336_row4_col6\" class=\"data row4 col6\" >-0.000000</td>\n",
       "      <td id=\"T_c1336_row4_col7\" class=\"data row4 col7\" >0.000000</td>\n",
       "      <td id=\"T_c1336_row4_col8\" class=\"data row4 col8\" >-0.000000</td>\n",
       "      <td id=\"T_c1336_row4_col9\" class=\"data row4 col9\" >0.000000</td>\n",
       "      <td id=\"T_c1336_row4_col10\" class=\"data row4 col10\" >-0.000000</td>\n",
       "      <td id=\"T_c1336_row4_col11\" class=\"data row4 col11\" >0.000000</td>\n",
       "      <td id=\"T_c1336_row4_col12\" class=\"data row4 col12\" >0.000000</td>\n",
       "      <td id=\"T_c1336_row4_col13\" class=\"data row4 col13\" >0.000000</td>\n",
       "      <td id=\"T_c1336_row4_col14\" class=\"data row4 col14\" >1.000000</td>\n",
       "      <td id=\"T_c1336_row4_col15\" class=\"data row4 col15\" >1.000000</td>\n",
       "    </tr>\n",
       "    <tr>\n",
       "      <th id=\"T_c1336_level0_row5\" class=\"row_heading level0 row5\" >Staff 2 - Horizon 1</th>\n",
       "      <td id=\"T_c1336_row5_col0\" class=\"data row5 col0\" >0.000000</td>\n",
       "      <td id=\"T_c1336_row5_col1\" class=\"data row5 col1\" >0.000000</td>\n",
       "      <td id=\"T_c1336_row5_col2\" class=\"data row5 col2\" >0.000000</td>\n",
       "      <td id=\"T_c1336_row5_col3\" class=\"data row5 col3\" >0.000000</td>\n",
       "      <td id=\"T_c1336_row5_col4\" class=\"data row5 col4\" >0.000000</td>\n",
       "      <td id=\"T_c1336_row5_col5\" class=\"data row5 col5\" >0.000000</td>\n",
       "      <td id=\"T_c1336_row5_col6\" class=\"data row5 col6\" >0.000000</td>\n",
       "      <td id=\"T_c1336_row5_col7\" class=\"data row5 col7\" >0.000000</td>\n",
       "      <td id=\"T_c1336_row5_col8\" class=\"data row5 col8\" >0.000000</td>\n",
       "      <td id=\"T_c1336_row5_col9\" class=\"data row5 col9\" >0.000000</td>\n",
       "      <td id=\"T_c1336_row5_col10\" class=\"data row5 col10\" >0.000000</td>\n",
       "      <td id=\"T_c1336_row5_col11\" class=\"data row5 col11\" >0.000000</td>\n",
       "      <td id=\"T_c1336_row5_col12\" class=\"data row5 col12\" >0.000000</td>\n",
       "      <td id=\"T_c1336_row5_col13\" class=\"data row5 col13\" >0.000000</td>\n",
       "      <td id=\"T_c1336_row5_col14\" class=\"data row5 col14\" >0.000000</td>\n",
       "      <td id=\"T_c1336_row5_col15\" class=\"data row5 col15\" >0.000000</td>\n",
       "    </tr>\n",
       "    <tr>\n",
       "      <th id=\"T_c1336_level0_row6\" class=\"row_heading level0 row6\" >Staff 2 - Horizon 2</th>\n",
       "      <td id=\"T_c1336_row6_col0\" class=\"data row6 col0\" >-0.000000</td>\n",
       "      <td id=\"T_c1336_row6_col1\" class=\"data row6 col1\" >0.000000</td>\n",
       "      <td id=\"T_c1336_row6_col2\" class=\"data row6 col2\" >0.000000</td>\n",
       "      <td id=\"T_c1336_row6_col3\" class=\"data row6 col3\" >-0.000000</td>\n",
       "      <td id=\"T_c1336_row6_col4\" class=\"data row6 col4\" >0.000000</td>\n",
       "      <td id=\"T_c1336_row6_col5\" class=\"data row6 col5\" >0.000000</td>\n",
       "      <td id=\"T_c1336_row6_col6\" class=\"data row6 col6\" >-0.000000</td>\n",
       "      <td id=\"T_c1336_row6_col7\" class=\"data row6 col7\" >0.000000</td>\n",
       "      <td id=\"T_c1336_row6_col8\" class=\"data row6 col8\" >0.000000</td>\n",
       "      <td id=\"T_c1336_row6_col9\" class=\"data row6 col9\" >0.000000</td>\n",
       "      <td id=\"T_c1336_row6_col10\" class=\"data row6 col10\" >1.000000</td>\n",
       "      <td id=\"T_c1336_row6_col11\" class=\"data row6 col11\" >0.000000</td>\n",
       "      <td id=\"T_c1336_row6_col12\" class=\"data row6 col12\" >0.000000</td>\n",
       "      <td id=\"T_c1336_row6_col13\" class=\"data row6 col13\" >0.000000</td>\n",
       "      <td id=\"T_c1336_row6_col14\" class=\"data row6 col14\" >0.000000</td>\n",
       "      <td id=\"T_c1336_row6_col15\" class=\"data row6 col15\" >1.000000</td>\n",
       "    </tr>\n",
       "    <tr>\n",
       "      <th id=\"T_c1336_level0_row7\" class=\"row_heading level0 row7\" >Staff 2 - Horizon 3</th>\n",
       "      <td id=\"T_c1336_row7_col0\" class=\"data row7 col0\" >0.000000</td>\n",
       "      <td id=\"T_c1336_row7_col1\" class=\"data row7 col1\" >0.000000</td>\n",
       "      <td id=\"T_c1336_row7_col2\" class=\"data row7 col2\" >0.000000</td>\n",
       "      <td id=\"T_c1336_row7_col3\" class=\"data row7 col3\" >0.000000</td>\n",
       "      <td id=\"T_c1336_row7_col4\" class=\"data row7 col4\" >-0.000000</td>\n",
       "      <td id=\"T_c1336_row7_col5\" class=\"data row7 col5\" >0.000000</td>\n",
       "      <td id=\"T_c1336_row7_col6\" class=\"data row7 col6\" >-0.000000</td>\n",
       "      <td id=\"T_c1336_row7_col7\" class=\"data row7 col7\" >0.000000</td>\n",
       "      <td id=\"T_c1336_row7_col8\" class=\"data row7 col8\" >0.000000</td>\n",
       "      <td id=\"T_c1336_row7_col9\" class=\"data row7 col9\" >0.000000</td>\n",
       "      <td id=\"T_c1336_row7_col10\" class=\"data row7 col10\" >1.000000</td>\n",
       "      <td id=\"T_c1336_row7_col11\" class=\"data row7 col11\" >0.000000</td>\n",
       "      <td id=\"T_c1336_row7_col12\" class=\"data row7 col12\" >0.000000</td>\n",
       "      <td id=\"T_c1336_row7_col13\" class=\"data row7 col13\" >0.000000</td>\n",
       "      <td id=\"T_c1336_row7_col14\" class=\"data row7 col14\" >0.000000</td>\n",
       "      <td id=\"T_c1336_row7_col15\" class=\"data row7 col15\" >1.000000</td>\n",
       "    </tr>\n",
       "    <tr>\n",
       "      <th id=\"T_c1336_level0_row8\" class=\"row_heading level0 row8\" >Staff 2 - Horizon 4</th>\n",
       "      <td id=\"T_c1336_row8_col0\" class=\"data row8 col0\" >-0.000000</td>\n",
       "      <td id=\"T_c1336_row8_col1\" class=\"data row8 col1\" >-0.000000</td>\n",
       "      <td id=\"T_c1336_row8_col2\" class=\"data row8 col2\" >0.000000</td>\n",
       "      <td id=\"T_c1336_row8_col3\" class=\"data row8 col3\" >0.000000</td>\n",
       "      <td id=\"T_c1336_row8_col4\" class=\"data row8 col4\" >-0.000000</td>\n",
       "      <td id=\"T_c1336_row8_col5\" class=\"data row8 col5\" >0.000000</td>\n",
       "      <td id=\"T_c1336_row8_col6\" class=\"data row8 col6\" >1.000000</td>\n",
       "      <td id=\"T_c1336_row8_col7\" class=\"data row8 col7\" >0.000000</td>\n",
       "      <td id=\"T_c1336_row8_col8\" class=\"data row8 col8\" >0.000000</td>\n",
       "      <td id=\"T_c1336_row8_col9\" class=\"data row8 col9\" >0.000000</td>\n",
       "      <td id=\"T_c1336_row8_col10\" class=\"data row8 col10\" >-0.000000</td>\n",
       "      <td id=\"T_c1336_row8_col11\" class=\"data row8 col11\" >0.000000</td>\n",
       "      <td id=\"T_c1336_row8_col12\" class=\"data row8 col12\" >0.000000</td>\n",
       "      <td id=\"T_c1336_row8_col13\" class=\"data row8 col13\" >0.000000</td>\n",
       "      <td id=\"T_c1336_row8_col14\" class=\"data row8 col14\" >0.000000</td>\n",
       "      <td id=\"T_c1336_row8_col15\" class=\"data row8 col15\" >1.000000</td>\n",
       "    </tr>\n",
       "    <tr>\n",
       "      <th id=\"T_c1336_level0_row9\" class=\"row_heading level0 row9\" >Staff 2 - Horizon 5</th>\n",
       "      <td id=\"T_c1336_row9_col0\" class=\"data row9 col0\" >-0.000000</td>\n",
       "      <td id=\"T_c1336_row9_col1\" class=\"data row9 col1\" >-0.000000</td>\n",
       "      <td id=\"T_c1336_row9_col2\" class=\"data row9 col2\" >0.000000</td>\n",
       "      <td id=\"T_c1336_row9_col3\" class=\"data row9 col3\" >-0.000000</td>\n",
       "      <td id=\"T_c1336_row9_col4\" class=\"data row9 col4\" >0.000000</td>\n",
       "      <td id=\"T_c1336_row9_col5\" class=\"data row9 col5\" >0.000000</td>\n",
       "      <td id=\"T_c1336_row9_col6\" class=\"data row9 col6\" >0.000000</td>\n",
       "      <td id=\"T_c1336_row9_col7\" class=\"data row9 col7\" >0.000000</td>\n",
       "      <td id=\"T_c1336_row9_col8\" class=\"data row9 col8\" >0.000000</td>\n",
       "      <td id=\"T_c1336_row9_col9\" class=\"data row9 col9\" >0.000000</td>\n",
       "      <td id=\"T_c1336_row9_col10\" class=\"data row9 col10\" >0.000000</td>\n",
       "      <td id=\"T_c1336_row9_col11\" class=\"data row9 col11\" >0.000000</td>\n",
       "      <td id=\"T_c1336_row9_col12\" class=\"data row9 col12\" >0.000000</td>\n",
       "      <td id=\"T_c1336_row9_col13\" class=\"data row9 col13\" >0.000000</td>\n",
       "      <td id=\"T_c1336_row9_col14\" class=\"data row9 col14\" >0.000000</td>\n",
       "      <td id=\"T_c1336_row9_col15\" class=\"data row9 col15\" >0.000000</td>\n",
       "    </tr>\n",
       "    <tr>\n",
       "      <th id=\"T_c1336_level0_row10\" class=\"row_heading level0 row10\" >Staff 3 - Horizon 1</th>\n",
       "      <td id=\"T_c1336_row10_col0\" class=\"data row10 col0\" >0.000000</td>\n",
       "      <td id=\"T_c1336_row10_col1\" class=\"data row10 col1\" >0.000000</td>\n",
       "      <td id=\"T_c1336_row10_col2\" class=\"data row10 col2\" >0.000000</td>\n",
       "      <td id=\"T_c1336_row10_col3\" class=\"data row10 col3\" >0.000000</td>\n",
       "      <td id=\"T_c1336_row10_col4\" class=\"data row10 col4\" >0.000000</td>\n",
       "      <td id=\"T_c1336_row10_col5\" class=\"data row10 col5\" >0.000000</td>\n",
       "      <td id=\"T_c1336_row10_col6\" class=\"data row10 col6\" >0.000000</td>\n",
       "      <td id=\"T_c1336_row10_col7\" class=\"data row10 col7\" >0.000000</td>\n",
       "      <td id=\"T_c1336_row10_col8\" class=\"data row10 col8\" >1.000000</td>\n",
       "      <td id=\"T_c1336_row10_col9\" class=\"data row10 col9\" >0.000000</td>\n",
       "      <td id=\"T_c1336_row10_col10\" class=\"data row10 col10\" >0.000000</td>\n",
       "      <td id=\"T_c1336_row10_col11\" class=\"data row10 col11\" >0.000000</td>\n",
       "      <td id=\"T_c1336_row10_col12\" class=\"data row10 col12\" >0.000000</td>\n",
       "      <td id=\"T_c1336_row10_col13\" class=\"data row10 col13\" >0.000000</td>\n",
       "      <td id=\"T_c1336_row10_col14\" class=\"data row10 col14\" >-0.000000</td>\n",
       "      <td id=\"T_c1336_row10_col15\" class=\"data row10 col15\" >1.000000</td>\n",
       "    </tr>\n",
       "    <tr>\n",
       "      <th id=\"T_c1336_level0_row11\" class=\"row_heading level0 row11\" >Staff 3 - Horizon 2</th>\n",
       "      <td id=\"T_c1336_row11_col0\" class=\"data row11 col0\" >0.000000</td>\n",
       "      <td id=\"T_c1336_row11_col1\" class=\"data row11 col1\" >0.000000</td>\n",
       "      <td id=\"T_c1336_row11_col2\" class=\"data row11 col2\" >0.000000</td>\n",
       "      <td id=\"T_c1336_row11_col3\" class=\"data row11 col3\" >0.000000</td>\n",
       "      <td id=\"T_c1336_row11_col4\" class=\"data row11 col4\" >0.000000</td>\n",
       "      <td id=\"T_c1336_row11_col5\" class=\"data row11 col5\" >0.000000</td>\n",
       "      <td id=\"T_c1336_row11_col6\" class=\"data row11 col6\" >0.000000</td>\n",
       "      <td id=\"T_c1336_row11_col7\" class=\"data row11 col7\" >0.000000</td>\n",
       "      <td id=\"T_c1336_row11_col8\" class=\"data row11 col8\" >0.000000</td>\n",
       "      <td id=\"T_c1336_row11_col9\" class=\"data row11 col9\" >0.000000</td>\n",
       "      <td id=\"T_c1336_row11_col10\" class=\"data row11 col10\" >0.000000</td>\n",
       "      <td id=\"T_c1336_row11_col11\" class=\"data row11 col11\" >0.000000</td>\n",
       "      <td id=\"T_c1336_row11_col12\" class=\"data row11 col12\" >0.000000</td>\n",
       "      <td id=\"T_c1336_row11_col13\" class=\"data row11 col13\" >0.000000</td>\n",
       "      <td id=\"T_c1336_row11_col14\" class=\"data row11 col14\" >0.000000</td>\n",
       "      <td id=\"T_c1336_row11_col15\" class=\"data row11 col15\" >0.000000</td>\n",
       "    </tr>\n",
       "    <tr>\n",
       "      <th id=\"T_c1336_level0_row12\" class=\"row_heading level0 row12\" >Staff 3 - Horizon 3</th>\n",
       "      <td id=\"T_c1336_row12_col0\" class=\"data row12 col0\" >0.000000</td>\n",
       "      <td id=\"T_c1336_row12_col1\" class=\"data row12 col1\" >0.000000</td>\n",
       "      <td id=\"T_c1336_row12_col2\" class=\"data row12 col2\" >-0.000000</td>\n",
       "      <td id=\"T_c1336_row12_col3\" class=\"data row12 col3\" >0.000000</td>\n",
       "      <td id=\"T_c1336_row12_col4\" class=\"data row12 col4\" >0.000000</td>\n",
       "      <td id=\"T_c1336_row12_col5\" class=\"data row12 col5\" >0.000000</td>\n",
       "      <td id=\"T_c1336_row12_col6\" class=\"data row12 col6\" >0.000000</td>\n",
       "      <td id=\"T_c1336_row12_col7\" class=\"data row12 col7\" >0.000000</td>\n",
       "      <td id=\"T_c1336_row12_col8\" class=\"data row12 col8\" >0.000000</td>\n",
       "      <td id=\"T_c1336_row12_col9\" class=\"data row12 col9\" >0.000000</td>\n",
       "      <td id=\"T_c1336_row12_col10\" class=\"data row12 col10\" >0.000000</td>\n",
       "      <td id=\"T_c1336_row12_col11\" class=\"data row12 col11\" >1.000000</td>\n",
       "      <td id=\"T_c1336_row12_col12\" class=\"data row12 col12\" >0.000000</td>\n",
       "      <td id=\"T_c1336_row12_col13\" class=\"data row12 col13\" >0.000000</td>\n",
       "      <td id=\"T_c1336_row12_col14\" class=\"data row12 col14\" >-0.000000</td>\n",
       "      <td id=\"T_c1336_row12_col15\" class=\"data row12 col15\" >1.000000</td>\n",
       "    </tr>\n",
       "    <tr>\n",
       "      <th id=\"T_c1336_level0_row13\" class=\"row_heading level0 row13\" >Staff 3 - Horizon 4</th>\n",
       "      <td id=\"T_c1336_row13_col0\" class=\"data row13 col0\" >0.000000</td>\n",
       "      <td id=\"T_c1336_row13_col1\" class=\"data row13 col1\" >0.000000</td>\n",
       "      <td id=\"T_c1336_row13_col2\" class=\"data row13 col2\" >-0.000000</td>\n",
       "      <td id=\"T_c1336_row13_col3\" class=\"data row13 col3\" >0.000000</td>\n",
       "      <td id=\"T_c1336_row13_col4\" class=\"data row13 col4\" >0.000000</td>\n",
       "      <td id=\"T_c1336_row13_col5\" class=\"data row13 col5\" >0.000000</td>\n",
       "      <td id=\"T_c1336_row13_col6\" class=\"data row13 col6\" >0.000000</td>\n",
       "      <td id=\"T_c1336_row13_col7\" class=\"data row13 col7\" >0.000000</td>\n",
       "      <td id=\"T_c1336_row13_col8\" class=\"data row13 col8\" >1.000000</td>\n",
       "      <td id=\"T_c1336_row13_col9\" class=\"data row13 col9\" >0.000000</td>\n",
       "      <td id=\"T_c1336_row13_col10\" class=\"data row13 col10\" >0.000000</td>\n",
       "      <td id=\"T_c1336_row13_col11\" class=\"data row13 col11\" >-0.000000</td>\n",
       "      <td id=\"T_c1336_row13_col12\" class=\"data row13 col12\" >0.000000</td>\n",
       "      <td id=\"T_c1336_row13_col13\" class=\"data row13 col13\" >0.000000</td>\n",
       "      <td id=\"T_c1336_row13_col14\" class=\"data row13 col14\" >0.000000</td>\n",
       "      <td id=\"T_c1336_row13_col15\" class=\"data row13 col15\" >1.000000</td>\n",
       "    </tr>\n",
       "    <tr>\n",
       "      <th id=\"T_c1336_level0_row14\" class=\"row_heading level0 row14\" >Staff 3 - Horizon 5</th>\n",
       "      <td id=\"T_c1336_row14_col0\" class=\"data row14 col0\" >0.000000</td>\n",
       "      <td id=\"T_c1336_row14_col1\" class=\"data row14 col1\" >0.000000</td>\n",
       "      <td id=\"T_c1336_row14_col2\" class=\"data row14 col2\" >-0.000000</td>\n",
       "      <td id=\"T_c1336_row14_col3\" class=\"data row14 col3\" >0.000000</td>\n",
       "      <td id=\"T_c1336_row14_col4\" class=\"data row14 col4\" >0.000000</td>\n",
       "      <td id=\"T_c1336_row14_col5\" class=\"data row14 col5\" >0.000000</td>\n",
       "      <td id=\"T_c1336_row14_col6\" class=\"data row14 col6\" >0.000000</td>\n",
       "      <td id=\"T_c1336_row14_col7\" class=\"data row14 col7\" >0.000000</td>\n",
       "      <td id=\"T_c1336_row14_col8\" class=\"data row14 col8\" >-0.000000</td>\n",
       "      <td id=\"T_c1336_row14_col9\" class=\"data row14 col9\" >0.000000</td>\n",
       "      <td id=\"T_c1336_row14_col10\" class=\"data row14 col10\" >0.000000</td>\n",
       "      <td id=\"T_c1336_row14_col11\" class=\"data row14 col11\" >-0.000000</td>\n",
       "      <td id=\"T_c1336_row14_col12\" class=\"data row14 col12\" >0.000000</td>\n",
       "      <td id=\"T_c1336_row14_col13\" class=\"data row14 col13\" >0.000000</td>\n",
       "      <td id=\"T_c1336_row14_col14\" class=\"data row14 col14\" >0.000000</td>\n",
       "      <td id=\"T_c1336_row14_col15\" class=\"data row14 col15\" >0.000000</td>\n",
       "    </tr>\n",
       "    <tr>\n",
       "      <th id=\"T_c1336_level0_row15\" class=\"row_heading level0 row15\" >sum_row</th>\n",
       "      <td id=\"T_c1336_row15_col0\" class=\"data row15 col0\" >1.000000</td>\n",
       "      <td id=\"T_c1336_row15_col1\" class=\"data row15 col1\" >1.000000</td>\n",
       "      <td id=\"T_c1336_row15_col2\" class=\"data row15 col2\" >1.000000</td>\n",
       "      <td id=\"T_c1336_row15_col3\" class=\"data row15 col3\" >0.000000</td>\n",
       "      <td id=\"T_c1336_row15_col4\" class=\"data row15 col4\" >0.000000</td>\n",
       "      <td id=\"T_c1336_row15_col5\" class=\"data row15 col5\" >0.000000</td>\n",
       "      <td id=\"T_c1336_row15_col6\" class=\"data row15 col6\" >1.000000</td>\n",
       "      <td id=\"T_c1336_row15_col7\" class=\"data row15 col7\" >0.000000</td>\n",
       "      <td id=\"T_c1336_row15_col8\" class=\"data row15 col8\" >2.000000</td>\n",
       "      <td id=\"T_c1336_row15_col9\" class=\"data row15 col9\" >0.000000</td>\n",
       "      <td id=\"T_c1336_row15_col10\" class=\"data row15 col10\" >2.000000</td>\n",
       "      <td id=\"T_c1336_row15_col11\" class=\"data row15 col11\" >1.000000</td>\n",
       "      <td id=\"T_c1336_row15_col12\" class=\"data row15 col12\" >0.000000</td>\n",
       "      <td id=\"T_c1336_row15_col13\" class=\"data row15 col13\" >0.000000</td>\n",
       "      <td id=\"T_c1336_row15_col14\" class=\"data row15 col14\" >2.000000</td>\n",
       "      <td id=\"T_c1336_row15_col15\" class=\"data row15 col15\" >11.000000</td>\n",
       "    </tr>\n",
       "  </tbody>\n",
       "</table>\n"
      ],
      "text/plain": [
       "<pandas.io.formats.style.Styler at 0x7f88dfd3b520>"
      ]
     },
     "execution_count": 31,
     "metadata": {},
     "output_type": "execute_result"
    }
   ],
   "source": [
    "def highlight_cells(val):\n",
    "    color = 'yellow' if val == 1 else 'red' if val > 1 else ''\n",
    "    return 'background-color: %s' % color\n",
    "\n",
    "df.style.applymap(highlight_cells)"
   ]
  }
 ],
 "metadata": {
  "kernelspec": {
   "display_name": "Python 3 (ipykernel)",
   "language": "python",
   "name": "python3"
  },
  "language_info": {
   "codemirror_mode": {
    "name": "ipython",
    "version": 3
   },
   "file_extension": ".py",
   "mimetype": "text/x-python",
   "name": "python",
   "nbconvert_exporter": "python",
   "pygments_lexer": "ipython3",
   "version": "3.8.8"
  }
 },
 "nbformat": 4,
 "nbformat_minor": 5
}
