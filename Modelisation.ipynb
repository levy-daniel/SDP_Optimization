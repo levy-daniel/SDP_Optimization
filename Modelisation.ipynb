{
 "cells": [
  {
   "attachments": {},
   "cell_type": "markdown",
   "id": "72867539",
   "metadata": {},
   "source": [
    "# SDP Project : CompuOpti Society Plannification"
   ]
  },
  {
   "attachments": {},
   "cell_type": "markdown",
   "id": "bfdfd3b8",
   "metadata": {},
   "source": [
    "## Table of contents"
   ]
  },
  {
   "attachments": {},
   "cell_type": "markdown",
   "id": "7c445cb1",
   "metadata": {},
   "source": [
    "1. [Load Instance](#1-load-instance)\n",
    "2. [Model](#model)"
   ]
  },
  {
   "cell_type": "markdown",
   "id": "2481595c",
   "metadata": {},
   "source": [
    "## Frameworks"
   ]
  },
  {
   "cell_type": "code",
   "execution_count": 826,
   "id": "9d5b1fdd",
   "metadata": {},
   "outputs": [],
   "source": [
    "import gurobipy as gp\n",
    "from gurobipy import GRB\n",
    "import json\n",
    "import numpy as np\n",
    "import pandas as pd\n",
    "import time\n",
    "import tqdm\n",
    "from mpl_toolkits.mplot3d import Axes3D\n",
    "import matplotlib.pyplot as plt\n",
    "from matplotlib import cm\n",
    "import plotly.graph_objects as go\n",
    "from scipy.interpolate import griddata"
   ]
  },
  {
   "cell_type": "markdown",
   "id": "3cf4d4ed",
   "metadata": {},
   "source": [
    "## 1) Load Instance"
   ]
  },
  {
   "cell_type": "code",
   "execution_count": 827,
   "id": "b1760e52",
   "metadata": {},
   "outputs": [],
   "source": [
    "start = time.time()"
   ]
  },
  {
   "cell_type": "code",
   "execution_count": 828,
   "id": "46f90a5b",
   "metadata": {},
   "outputs": [],
   "source": [
    "#path=\"instances/test.json\"\n",
    "path=\"instances/toy_instance.json\"\n",
    "#path=\"instances/medium_instance.json\"\n",
    "#path=\"instances/large_instance.json\"\n",
    "\n",
    "# JSON file\n",
    "f = open (path, \"r\")\n",
    "  \n",
    "# Reading from file\n",
    "data = json.loads(f.read())"
   ]
  },
  {
   "cell_type": "code",
   "execution_count": 829,
   "id": "3f435815",
   "metadata": {},
   "outputs": [],
   "source": [
    "# Gains\n",
    "Gm=[]\n",
    "for job in data[\"jobs\"]:\n",
    "    Gm.append(job['gain'])\n",
    "Gm=np.array(Gm)\n",
    "\n",
    "# Penalty\n",
    "Pm=[]\n",
    "for job in data[\"jobs\"]:\n",
    "    Pm.append(job['daily_penalty'])\n",
    "Pm=np.array(Pm)\n",
    "\n",
    "# Due Date\n",
    "Dm=[]\n",
    "for job in data[\"jobs\"]:\n",
    "    Dm.append(job['due_date'])\n",
    "Dm=np.array(Dm)\n",
    "\n",
    "# Penalty per day\n",
    "Penalty=[]\n",
    "for job in data[\"jobs\"]:\n",
    "    job_penalty=[]\n",
    "    p=0\n",
    "    for t in range(data[\"horizon\"]):\n",
    "        if (t>job[\"due_date\"]-1):\n",
    "            p+=job[\"daily_penalty\"]\n",
    "        job_penalty.append(p)\n",
    "    Penalty.append(job_penalty)\n",
    "Penalty=np.array(Penalty)\n",
    "\n",
    "# Profit per day\n",
    "Profit=[]\n",
    "for job in data[\"jobs\"]:\n",
    "    job_benef=[]\n",
    "    p=job['gain']\n",
    "    for t in range(data[\"horizon\"]):\n",
    "        if (t>job[\"due_date\"]-1):\n",
    "            p-=job[\"daily_penalty\"]\n",
    "        job_benef.append(p)\n",
    "    Profit.append(job_benef)\n",
    "Profit=np.array(Profit)\n",
    "\n",
    "# Vacations per day and per employee\n",
    "Vacations=[]\n",
    "for e in data[\"staff\"]:\n",
    "    e_planning=[]\n",
    "    v=e['vacations']\n",
    "    for t in range(data[\"horizon\"]):\n",
    "        if (t+1 in v):\n",
    "            e_planning.append(1)\n",
    "        else:\n",
    "            e_planning.append(0)\n",
    "    Vacations.append(e_planning)\n",
    "Vacations=np.array(Vacations)\n",
    "\n",
    "# Employee qualifications\n",
    "Qualifications_staff=[]\n",
    "for staff in data[\"staff\"]:\n",
    "    list_staff=[]\n",
    "    for q in data[\"qualifications\"]:\n",
    "        if(q in staff[\"qualifications\"]):\n",
    "            list_staff.append(1)\n",
    "        else:\n",
    "            list_staff.append(0)\n",
    "    Qualifications_staff.append(list_staff)\n",
    "Qualifications_staff = np.array(Qualifications_staff)\n",
    "\n",
    "# Jobs Qualifications\n",
    "Qualifications_job=[]\n",
    "for job in data[\"jobs\"]:\n",
    "    #working_days_per_qualification\n",
    "    list_job=[]\n",
    "    for q in data[\"qualifications\"]:\n",
    "        try:\n",
    "            val=job['working_days_per_qualification'][q]\n",
    "        except:\n",
    "            val=0\n",
    "        list_job.append(val)\n",
    "    Qualifications_job.append(list_job)\n",
    "Qualifications_job=np.array(Qualifications_job)"
   ]
  },
  {
   "cell_type": "markdown",
   "id": "85bfd93b",
   "metadata": {},
   "source": [
    "## 2) Model <a id='model'></a>"
   ]
  },
  {
   "cell_type": "code",
   "execution_count": 830,
   "id": "ff8425e9",
   "metadata": {},
   "outputs": [],
   "source": [
    "###\n",
    "# MODEL\n",
    "model = gp.Model()\n",
    "\n",
    "horizon=data[\"horizon\"]\n",
    "qualifs=len(data[\"qualifications\"])\n",
    "projects=len(data[\"jobs\"])\n",
    "staffs=len(data[\"staff\"])"
   ]
  },
  {
   "cell_type": "markdown",
   "id": "1a61da37",
   "metadata": {},
   "source": [
    "## 3) Variables"
   ]
  },
  {
   "attachments": {},
   "cell_type": "markdown",
   "id": "31e7c295",
   "metadata": {},
   "source": [
    "### Common variables and 1st objective variables"
   ]
  },
  {
   "cell_type": "code",
   "execution_count": 831,
   "id": "912db859",
   "metadata": {},
   "outputs": [],
   "source": [
    "###\n",
    "# VARIABLES\n",
    "\n",
    "# Planning \n",
    "Planning = model.addMVar(\n",
    "                        shape=(staffs,horizon,projects,qualifs),\n",
    "                        vtype=GRB.BINARY,\n",
    "                        name=\"Planning\"\n",
    "                        )\n",
    "\n",
    "# Delay \n",
    "Delay_project = model.addVars(\n",
    "                                projects,\n",
    "                                lb=0,\n",
    "                                ub=horizon,\n",
    "                                vtype=GRB.INTEGER,\n",
    "                                name=\"Delay_project\"\n",
    "                            ) \n",
    "\n",
    "# End Date \n",
    "End_project = model.addVars(\n",
    "                                projects,\n",
    "                                vtype=GRB.INTEGER,\n",
    "                                name=\"End_project\"\n",
    "                            ) \n",
    "\n",
    "# Realisation Boolean\n",
    "Realisation = model.addVars(\n",
    "                                projects,\n",
    "                                vtype=GRB.BINARY,\n",
    "                                name=\"Realisation\"\n",
    "                            )\n"
   ]
  },
  {
   "attachments": {},
   "cell_type": "markdown",
   "id": "1100e017",
   "metadata": {},
   "source": [
    "### 2nd objective variables"
   ]
  },
  {
   "cell_type": "code",
   "execution_count": 832,
   "id": "fcf33589",
   "metadata": {},
   "outputs": [],
   "source": [
    "# Jobs done by one staff\n",
    "jobs_staffeur = model.addMVar(shape=(staffs,projects),vtype=GRB.BINARY,name=\"jobs_staffeur\")\n",
    "\n",
    "# Sum of all jobs for one staff\n",
    "sum_staff_jobs = model.addVars(staffs,vtype=GRB.INTEGER, name=\"sum_staff_jobs\")  "
   ]
  },
  {
   "attachments": {},
   "cell_type": "markdown",
   "id": "55ebf585",
   "metadata": {},
   "source": [
    "### 3rd objective variables"
   ]
  },
  {
   "cell_type": "code",
   "execution_count": 833,
   "id": "c7897686",
   "metadata": {},
   "outputs": [],
   "source": [
    "# Begin \n",
    "Begin_project = model.addVars(\n",
    "                                projects,\n",
    "                                lb = 1,\n",
    "                                vtype=GRB.INTEGER,\n",
    "                                name=\"Begin_project\"\n",
    "                            ) \n",
    "# Lenght of one project\n",
    "Lenght_project = model.addVars(\n",
    "                                projects, \n",
    "                                vtype=GRB.INTEGER, \n",
    "                                name=\"Lenght_project\"\n",
    "                            )\n",
    "#Lenght of the longest project\n",
    "Max_duration_lenght = model.addVar(\n",
    "                                    vtype = GRB.INTEGER,\n",
    "                                    name = \"Max_duration_lenght\"\n",
    "                                )"
   ]
  },
  {
   "cell_type": "markdown",
   "id": "9c6c6007",
   "metadata": {},
   "source": [
    "## 4) Constraints"
   ]
  },
  {
   "attachments": {},
   "cell_type": "markdown",
   "id": "9d841699",
   "metadata": {},
   "source": [
    "### Common constraints and 1st objective constraints"
   ]
  },
  {
   "cell_type": "code",
   "execution_count": 834,
   "id": "dca64a2b",
   "metadata": {},
   "outputs": [
    {
     "name": "stdout",
     "output_type": "stream",
     "text": [
      "Warning for adding constraints: zero or small (< 1e-13) coefficients, ignored\n"
     ]
    }
   ],
   "source": [
    "###\n",
    "# CONSTRAINTS\n",
    "\n",
    "#1 Unicity of affectation \n",
    "model.addConstrs(\n",
    "    (gp.quicksum(gp.quicksum(Planning[staff][t]))<= 1\n",
    "        for staff in range(len(data[\"staff\"]))\n",
    "        for t in range(data[\"horizon\"])\n",
    "    ),\n",
    "    name=\"staff_qualif_unicity\"\n",
    ") \n",
    "\n",
    "#2 Vacations\n",
    "model.addConstrs(\n",
    "    (Planning[staff][t][job][qualif]<=1-Vacations[staff][t] \n",
    "        for staff in range(len(data[\"staff\"]))\n",
    "        for t in range(data[\"horizon\"])\n",
    "        for job in range(len(data[\"jobs\"]))\n",
    "        for qualif in range(len(data[\"qualifications\"]))\n",
    "    ),\n",
    "    name=\"Vacations_constraint\"\n",
    ") \n",
    "\n",
    "#3 Qualification staff\n",
    "model.addConstrs(\n",
    "    (Planning[staff][t][job][qualif]<=Qualifications_staff[staff][qualif]\n",
    "        for staff in range(len(data[\"staff\"]))\n",
    "        for t in range(data[\"horizon\"])\n",
    "        for job in range(len(data[\"jobs\"]))\n",
    "        for qualif in range(len(data[\"qualifications\"]))\n",
    "    ),\n",
    "    name=\"Qualif_staff_constraint\"\n",
    ") \n",
    "\n",
    "# List with sum of timespend/qualifs/project\n",
    "Max_temp_qualif_job=[]\n",
    "for job in range(len(data[\"jobs\"])):\n",
    "    l_job=[]\n",
    "    for qualif in range(len(data[\"qualifications\"])):\n",
    "        temp_qualif_job=0\n",
    "        for t in range(data[\"horizon\"]):\n",
    "            for staff in range(len(data[\"staff\"])):\n",
    "                temp_qualif_job+=Planning[staff][t][job][qualif]\n",
    "        l_job.append(temp_qualif_job)\n",
    "    Max_temp_qualif_job.append(l_job)\n",
    "Max_temp_qualif_job\n",
    "\n",
    "\n",
    "#4 Qualifications cover => realisation\n",
    "model.addConstrs(\n",
    "        (Max_temp_qualif_job[job][qualif] >= Realisation[job] *  Qualifications_job[job][qualif]\n",
    "            for job in range(len(data[\"jobs\"]))\n",
    "            for qualif in range(len(data[\"qualifications\"]))\n",
    "        ), name = \"cover_qualif\"\n",
    ")\n",
    "\n",
    "#5 Unicity realisation\n",
    "model.addConstrs(\n",
    "    (Max_temp_qualif_job[job][qualif] <= Qualifications_job[job][qualif]\n",
    "            for job in range(len(data[\"jobs\"]))\n",
    "            for qualif in range(len(data[\"qualifications\"]))\n",
    "), name = \"project_done_once\")\n",
    "\n",
    "#6 End project \n",
    "model.addConstrs(\n",
    "   (Planning[staff][t][job][qualif] * t+1 <= End_project[job]\n",
    "        for staff in range(len(data[\"staff\"]))\n",
    "        for t in range(data[\"horizon\"])\n",
    "        for job in range(len(data[\"jobs\"]))\n",
    "        for qualif in range(len(data[\"qualifications\"]))\n",
    "), name = \"end_project_date\")\n",
    "\n",
    "#7 Delay \n",
    "model.addConstrs(\n",
    "    (End_project[job] - Dm[job] <= Delay_project[job]\n",
    "       for job in range(len(data[\"jobs\"]))\n",
    "    ), name=\"delay_project\"\n",
    ")\n",
    "\n",
    "#8 We cannot start a job before day 1\n",
    "for job in range(projects):\n",
    "    model.addConstr(Begin_project[job] >= 1)\n",
    "\n"
   ]
  },
  {
   "attachments": {},
   "cell_type": "markdown",
   "id": "30e88d5f",
   "metadata": {},
   "source": [
    "### 2nd objective constraints"
   ]
  },
  {
   "cell_type": "code",
   "execution_count": 8,
   "id": "d7fc7dcc",
   "metadata": {},
   "outputs": [],
   "source": [
    "#9\n",
    "for staff in range(staffs):\n",
    "    for job in range(projects):\n",
    "        val=[]\n",
    "        for t in range(horizon):\n",
    "            for qualif in range(qualifs):\n",
    "                val.append(Planning[staff][t][job][qualif])\n",
    "        model.addConstr((jobs_staffeur[staff][job] == gp.max_(val)))\n",
    "\n",
    "#10\n",
    "for staff in range(staffs):\n",
    "    model.addConstr((sum_staff_jobs[staff]==gp.quicksum(jobs_staffeur[staff])))"
   ]
  },
  {
   "attachments": {},
   "cell_type": "markdown",
   "id": "7a8650af",
   "metadata": {},
   "source": [
    "### 3rd objective constraints"
   ]
  },
  {
   "cell_type": "code",
   "execution_count": 836,
   "id": "2d34d73b",
   "metadata": {},
   "outputs": [],
   "source": [
    "#11\n",
    "for job in range(projects):\n",
    "    for t in range(horizon):\n",
    "        for staff in range(staffs):\n",
    "            for qualif in range(qualifs):\n",
    "                model.addConstr(Begin_project[job] <= Planning[staff][t][job][qualif]*(t+1) +horizon*(1-Planning[staff][t][job][qualif]))\n",
    "\n",
    "#12 Lenght of a project\n",
    "for job in range(projects):\n",
    "    model.addConstr(End_project[job] + 1 - Begin_project[job] <= Lenght_project[job])\n",
    "\n",
    "#13 Max lenght of a project\n",
    "for job in range(projects):\n",
    "    model.addConstr(Lenght_project[job] <= Max_duration_lenght)"
   ]
  },
  {
   "attachments": {},
   "cell_type": "markdown",
   "id": "546ff91f",
   "metadata": {},
   "source": [
    "#### Max or Epsilon"
   ]
  },
  {
   "cell_type": "code",
   "execution_count": 837,
   "id": "49364395",
   "metadata": {},
   "outputs": [],
   "source": [
    "epsilon_constraint = False\n",
    "model.ModelSense = GRB.MAXIMIZE"
   ]
  },
  {
   "cell_type": "markdown",
   "id": "5a324d9c",
   "metadata": {},
   "source": [
    "## 5) Objectives"
   ]
  },
  {
   "cell_type": "markdown",
   "id": "06804c28",
   "metadata": {},
   "source": [
    "### Z1: Maximize Profit"
   ]
  },
  {
   "cell_type": "code",
   "execution_count": 838,
   "id": "8249be68",
   "metadata": {},
   "outputs": [],
   "source": [
    "# ici on suppose que si le projet n'est pas réalisé alors il n'est pas commencé donc pas de delay ?\n",
    "# à vérifier ! (ajouter constraint #9 ?)\n",
    "if epsilon_constraint == False:\n",
    "    Z1 = gp.quicksum((Realisation.values()*Gm)-(Pm*Delay_project.values()))\n",
    "    model.setObjectiveN(\n",
    "        Z1, \n",
    "        index=0, \n",
    "        priority=2, \n",
    "        name='Profit')"
   ]
  },
  {
   "cell_type": "markdown",
   "id": "501c63ee",
   "metadata": {},
   "source": [
    "### Z2: Minimize Number of Projects per Employee"
   ]
  },
  {
   "cell_type": "code",
   "execution_count": 839,
   "id": "c1658bc4",
   "metadata": {},
   "outputs": [],
   "source": [
    "if epsilon_constraint == False:\n",
    "    for staff in range(staffs):\n",
    "        model.setObjectiveN(sum_staff_jobs[staff], \n",
    "                            index=1+staff, \n",
    "                            priority=1, \n",
    "                            weight=-1,\n",
    "                            name='Staff_Assign')  #weight = -1 to minimize\n"
   ]
  },
  {
   "cell_type": "markdown",
   "id": "b8aaf937",
   "metadata": {},
   "source": [
    "### Z3: Minimize Realisation Time"
   ]
  },
  {
   "cell_type": "code",
   "execution_count": 840,
   "id": "54bbb9a5",
   "metadata": {},
   "outputs": [],
   "source": [
    "if epsilon_constraint == False:\n",
    "    model.setObjectiveN(-Max_duration_lenght,\n",
    "                        index = 2,\n",
    "                        priority = 0,\n",
    "                        name='Max_Duration')"
   ]
  },
  {
   "attachments": {},
   "cell_type": "markdown",
   "id": "19ece881",
   "metadata": {},
   "source": [
    "## 6) Optimize"
   ]
  },
  {
   "attachments": {},
   "cell_type": "markdown",
   "id": "4ec58f3d",
   "metadata": {},
   "source": [
    "### Optimize without epsilon"
   ]
  },
  {
   "cell_type": "code",
   "execution_count": 841,
   "id": "621069d4",
   "metadata": {
    "scrolled": false
   },
   "outputs": [
    {
     "name": "stdout",
     "output_type": "stream",
     "text": [
      "Gurobi Optimizer version 10.0.1 build v10.0.1rc0 (win64)\n",
      "\n",
      "CPU model: Intel(R) Core(TM) i7-9750H CPU @ 2.60GHz, instruction set [SSE2|AVX|AVX2]\n",
      "Thread count: 6 physical cores, 12 logical processors, using up to 12 threads\n",
      "\n",
      "Optimize a model with 968 rows, 269 columns and 2003 nonzeros\n",
      "Model fingerprint: 0xa59742ed\n",
      "Model has 15 general constraints\n",
      "Variable types: 0 continuous, 269 integer (245 binary)\n",
      "Coefficient statistics:\n",
      "  Matrix range     [1e+00, 4e+00]\n",
      "  Objective range  [1e+00, 2e+01]\n",
      "  Bounds range     [1e+00, 5e+00]\n",
      "  RHS range        [1e+00, 5e+00]\n",
      "\n",
      "---------------------------------------------------------------------------\n",
      "Multi-objectives: starting optimization with 4 objectives (3 combined) ...\n",
      "---------------------------------------------------------------------------\n",
      "\n",
      "Multi-objectives: applying initial presolve ...\n",
      "---------------------------------------------------------------------------\n",
      "\n",
      "Presolve removed 793 rows and 140 columns\n",
      "Presolve time: 0.00s\n",
      "Presolved: 175 rows and 129 columns\n",
      "---------------------------------------------------------------------------\n",
      "\n",
      "Multi-objectives: optimize objective 1 (Profit) ...\n",
      "---------------------------------------------------------------------------\n",
      "\n",
      "Found heuristic solution: objective -0.0000000\n",
      "Presolve removed 72 rows and 20 columns\n",
      "Presolve time: 0.00s\n",
      "Presolved: 103 rows, 109 columns, 552 nonzeros\n",
      "Variable types: 0 continuous, 109 integer (105 binary)\n",
      "\n",
      "Root relaxation: objective 7.200000e+01, 156 iterations, 0.00 seconds (0.00 work units)\n",
      "\n",
      "    Nodes    |    Current Node    |     Objective Bounds      |     Work\n",
      " Expl Unexpl |  Obj  Depth IntInf | Incumbent    BestBd   Gap | It/Node Time\n",
      "\n",
      "     0     0   72.00000    0    8   -0.00000   72.00000      -     -    0s\n",
      "H    0     0                      59.0000000   72.00000  22.0%     -    0s\n",
      "H    0     0                      65.0000000   72.00000  10.8%     -    0s\n",
      "     0     0   72.00000    0   27   65.00000   72.00000  10.8%     -    0s\n",
      "     0     0   66.43750    0   23   65.00000   66.43750  2.21%     -    0s\n",
      "     0     0   66.43750    0   18   65.00000   66.43750  2.21%     -    0s\n",
      "     0     0   65.00000    0   27   65.00000   65.00000  0.00%     -    0s\n",
      "\n",
      "Cutting planes:\n",
      "  Gomory: 6\n",
      "  MIR: 3\n",
      "  Zero half: 5\n",
      "  RLT: 4\n",
      "  Relax-and-lift: 1\n",
      "\n",
      "Explored 1 nodes (351 simplex iterations) in 0.07 seconds (0.01 work units)\n",
      "Thread count was 12 (of 12 available processors)\n",
      "\n",
      "Solution count 3: 65 59 -0 \n",
      "\n",
      "Optimal solution found (tolerance 1.00e-04)\n",
      "Best objective 6.500000000000e+01, best bound 6.500000000000e+01, gap 0.0000%\n",
      "---------------------------------------------------------------------------\n",
      "\n",
      "Multi-objectives: optimize objective 2 (weighted) ...\n",
      "---------------------------------------------------------------------------\n",
      "\n",
      "\n",
      "Loaded user MIP start with objective -8\n",
      "\n",
      "Presolve removed 84 rows and 22 columns\n",
      "Presolve time: 0.00s\n",
      "Presolved: 92 rows, 107 columns, 444 nonzeros\n",
      "Variable types: 0 continuous, 107 integer (103 binary)\n",
      "\n",
      "Root relaxation: objective -2.149904e+00, 109 iterations, 0.00 seconds (0.00 work units)\n",
      "\n",
      "    Nodes    |    Current Node    |     Objective Bounds      |     Work\n",
      " Expl Unexpl |  Obj  Depth IntInf | Incumbent    BestBd   Gap | It/Node Time\n",
      "\n",
      "     0     0   -2.14990    0   42   -8.00000   -2.14990  73.1%     -    0s\n",
      "H    0     0                      -6.0000000   -2.14990  64.2%     -    0s\n",
      "H    0     0                      -5.0000000   -2.14990  57.0%     -    0s\n",
      "H    0     0                      -4.0000000   -3.13577  21.6%     -    0s\n",
      "     0     0   -3.13577    0   61   -4.00000   -3.13577  21.6%     -    0s\n",
      "\n",
      "Cutting planes:\n",
      "  Gomory: 8\n",
      "  Cover: 2\n",
      "  Clique: 1\n",
      "  MIR: 1\n",
      "  GUB cover: 1\n",
      "  Zero half: 6\n",
      "  RLT: 4\n",
      "  Relax-and-lift: 4\n",
      "\n",
      "Explored 1 nodes (191 simplex iterations) in 0.13 seconds (0.01 work units)\n",
      "Thread count was 12 (of 12 available processors)\n",
      "\n",
      "Solution count 4: -4 -5 -6 -8 \n",
      "No other solutions better than -4\n",
      "\n",
      "Optimal solution found (tolerance 1.00e-04)\n",
      "Best objective -4.000000000000e+00, best bound -4.000000000000e+00, gap 0.0000%\n",
      "---------------------------------------------------------------------------\n",
      "\n",
      "Multi-objectives: optimize objective 3 (Max_Duration) ...\n",
      "---------------------------------------------------------------------------\n",
      "\n",
      "\n",
      "Loaded user MIP start with objective -5\n",
      "\n",
      "Presolve removed 12 rows and 9 columns\n",
      "Presolve time: 0.00s\n",
      "Presolved: 165 rows, 120 columns, 719 nonzeros\n",
      "Variable types: 0 continuous, 120 integer (105 binary)\n",
      "Found heuristic solution: objective -4.0000000\n",
      "\n",
      "Root relaxation: objective -1.000000e+00, 103 iterations, 0.00 seconds (0.00 work units)\n",
      "\n",
      "    Nodes    |    Current Node    |     Objective Bounds      |     Work\n",
      " Expl Unexpl |  Obj  Depth IntInf | Incumbent    BestBd   Gap | It/Node Time\n",
      "\n",
      "     0     0   -1.00000    0   22   -4.00000   -1.00000  75.0%     -    0s\n",
      "     0     0   -1.00000    0   61   -4.00000   -1.00000  75.0%     -    0s\n",
      "H    0     0                      -3.0000000   -1.00000  66.7%     -    0s\n",
      "     0     0   -1.00000    0   55   -3.00000   -1.00000  66.7%     -    0s\n",
      "     0     0   -1.00000    0   52   -3.00000   -1.00000  66.7%     -    0s\n",
      "     0     0   -1.00000    0   57   -3.00000   -1.00000  66.7%     -    0s\n",
      "     0     0   -1.00000    0   42   -3.00000   -1.00000  66.7%     -    0s\n",
      "     0     0   -1.00000    0   46   -3.00000   -1.00000  66.7%     -    0s\n",
      "     0     0   -1.00000    0   39   -3.00000   -1.00000  66.7%     -    0s\n",
      "     0     0   -1.00000    0   32   -3.00000   -1.00000  66.7%     -    0s\n",
      "     0     2   -1.00000    0   24   -3.00000   -1.00000  66.7%     -    0s\n",
      "\n",
      "Cutting planes:\n",
      "  Learned: 8\n",
      "  Gomory: 2\n",
      "  Cover: 29\n",
      "  Implied bound: 17\n",
      "  Clique: 9\n",
      "  MIR: 25\n",
      "  Flow cover: 2\n",
      "  GUB cover: 4\n",
      "  Inf proof: 2\n",
      "  Zero half: 4\n",
      "  RLT: 2\n",
      "  Relax-and-lift: 10\n",
      "\n",
      "Explored 183 nodes (7805 simplex iterations) in 0.33 seconds (0.12 work units)\n",
      "Thread count was 12 (of 12 available processors)\n",
      "\n",
      "Solution count 3: -3 -4 -5 \n",
      "No other solutions better than -3\n",
      "\n",
      "Optimal solution found (tolerance 1.00e-04)\n",
      "Best objective -3.000000000000e+00, best bound -3.000000000000e+00, gap 0.0000%\n",
      "\n",
      "---------------------------------------------------------------------------\n",
      "Multi-objectives: solved in 0.34 seconds (0.12 work units), solution count 8\n",
      "\n"
     ]
    }
   ],
   "source": [
    "if epsilon_constraint == False:\n",
    "    model.optimize()\n",
    "#My Docker : Intel(R) Xeon(R) CPU E5-2640 v4 @ 2.40GHz\n",
    "#Daniel :    Intel(R) Core(TM) i5-8259U CPU @ 2.30GHz\n",
    "#PA :        Intel(R) Core(TM) i7-9750H CPU @ 2.60GHz"
   ]
  },
  {
   "attachments": {},
   "cell_type": "markdown",
   "id": "df858639",
   "metadata": {},
   "source": [
    "### Optimize with epsilon"
   ]
  },
  {
   "cell_type": "code",
   "execution_count": 47,
   "id": "d95c3760",
   "metadata": {},
   "outputs": [],
   "source": [
    "if epsilon_constraint:\n",
    "    epsilon_2nd_cst =  np.arange(projects, 0, -1)\n",
    "    epsilon_3rd_cst =  np.arange(horizon, 0, -1)\n",
    "    pareto_points = []\n",
    "\n",
    "    for job in tqdm.tqdm(epsilon_2nd_cst):\n",
    "        print(job)\n",
    "        for t in epsilon_3rd_cst:\n",
    "            \n",
    "            for staff in range(staffs):\n",
    "                model.addConstr( sum_staff_jobs[staff] <= job , name = f\"max_switch_{job}_{staff}\")\n",
    "\n",
    "            model.addConstr( Max_duration_lenght <= t , name = \"max_len\")\n",
    "            model.addConstr( Max_duration_lenght >= t , name = \"max_len2\")\n",
    "            \n",
    "            Z1 = gp.quicksum((Realisation.values()*Gm)-(Pm*Delay_project.values()))\n",
    "            model.setObjective(\n",
    "                Z1,\n",
    "                GRB.MAXIMIZE\n",
    "            )\n",
    "            \n",
    "            model.params.outputflag = 0\n",
    "            model.optimize()\n",
    "            for staff in range(staffs):\n",
    "                model.remove((model.getConstrByName(f\"max_switch_{job}_{staff}\")))\n",
    "                \n",
    "            model.remove((model.getConstrByName(\"max_len\")))\n",
    "            model.remove((model.getConstrByName(\"max_len2\")))\n",
    "\n",
    "            Z1 = 0\n",
    "            sum_assignation=0\n",
    "            moyenne_assignation=0\n",
    "            for staff in range(staffs):\n",
    "                sum_assignation+=sum_staff_jobs[staff].x\n",
    "        \n",
    "            moyenne_assignation=sum_assignation/len(sum_staff_jobs)\n",
    "            \n",
    "            pareto_points.append((model.objVal, round(moyenne_assignation,2), Max_duration_lenght.X))\n"
   ]
  },
  {
   "attachments": {},
   "cell_type": "markdown",
   "id": "6bc3002f",
   "metadata": {},
   "source": [
    "## 7) Results"
   ]
  },
  {
   "cell_type": "code",
   "execution_count": 843,
   "id": "324cf220",
   "metadata": {},
   "outputs": [
    {
     "name": "stdout",
     "output_type": "stream",
     "text": [
      "Time taken:  2.18 seconds ||  0.04 minutes\n"
     ]
    }
   ],
   "source": [
    "end = time.time()\n",
    "print(\"Time taken: \", round(end - start,2), \"seconds || \",round((end - start)/60,2), \"minutes\" )\n",
    "# instance | time | profit, moyenne_assignation, Max_duration_lenght\n",
    "# toy :  3 s ||  65, 2, 3\n",
    "# medium : 76.94 minutes ||  413, 4.4, 12\n",
    "# large : 3,7 min"
   ]
  },
  {
   "attachments": {},
   "cell_type": "markdown",
   "id": "4a6ffc9f",
   "metadata": {},
   "source": [
    "### With epsilon"
   ]
  },
  {
   "cell_type": "code",
   "execution_count": 48,
   "id": "47865708",
   "metadata": {},
   "outputs": [],
   "source": [
    "if epsilon_constraint:\n",
    "    Profit = [i[0] for i in pareto_points]\n",
    "    Assignation = [i[1] for i in pareto_points]\n",
    "    Duration = [i[2] for i in pareto_points]\n",
    "\n",
    "    fig = plt.figure()\n",
    "    ax = fig.add_subplot(111, projection='3d')\n",
    "\n",
    "    surf=ax.plot_trisurf(Assignation, Duration, Profit, cmap=cm.jet, linewidth=0.1)\n",
    "\n",
    "    ax.set_xlabel('Moyenne Assignation')\n",
    "    ax.set_ylabel('Max duration')\n",
    "    ax.set_zlabel('Profit')\n",
    "    fig.colorbar(surf, shrink=0.5, aspect=5)\n",
    "    plt.show()"
   ]
  },
  {
   "cell_type": "code",
   "execution_count": 49,
   "id": "b13435d9",
   "metadata": {},
   "outputs": [],
   "source": [
    "if epsilon_constraint:\n",
    "    x = Assignation\n",
    "    y = Duration\n",
    "    z = Profit\n",
    "\n",
    "    xi = np.linspace(min(x), max(x), 100)\n",
    "    yi = np.linspace(min(y), max(y), 100)\n",
    "\n",
    "    X,Y = np.meshgrid(xi,yi)\n",
    "\n",
    "    Z = griddata((x,y),z,(X,Y), method='cubic')\n",
    "\n",
    "    fig = go.Figure(go.Surface(x=xi,y=yi,z=Z,surfacecolor=Z, colorscale='jet'))\n",
    "    fig.update_layout(scene=dict(xaxis_title='Moyenne Assignation',\n",
    "                                 yaxis_title='Max duration',\n",
    "                                 zaxis_title='Profit'))\n",
    "    fig.show()"
   ]
  },
  {
   "attachments": {},
   "cell_type": "markdown",
   "id": "dd7689c7",
   "metadata": {},
   "source": [
    "### Without epsilon"
   ]
  },
  {
   "cell_type": "code",
   "execution_count": 50,
   "id": "9b3d505b",
   "metadata": {},
   "outputs": [
    {
     "name": "stdout",
     "output_type": "stream",
     "text": [
      "Time taken:  44643.94 seconds ||  744.07 minutes\n"
     ]
    }
   ],
   "source": [
    "### Results by objectives"
   ]
  },
  {
   "attachments": {},
   "cell_type": "markdown",
   "id": "628a0170",
   "metadata": {},
   "source": [
    "##### Z1"
   ]
  },
  {
   "cell_type": "code",
   "execution_count": 51,
   "id": "6730f370",
   "metadata": {},
   "outputs": [
    {
     "name": "stdout",
     "output_type": "stream",
     "text": [
      "Z1: Maximize Profit\n",
      "\n",
      "Solution || Best \n",
      "  65.0   ||  80\n",
      "\n",
      "Details: Gain - Delay * Daily Penalty\n",
      "\n",
      "Job1 : 20 - 0 * 3\n",
      "Job2 : Not Done\n",
      "Job3 : 15 - 0 * 3\n",
      "Job4 : 20 - 0 * 3\n",
      "Job5 : 10 - 0 * 3\n",
      "------------\n",
      "Total = 65.0\n"
     ]
    }
   ],
   "source": [
    "# Z1\n",
    "print(\"Z1: Maximize Profit\\n\")\n",
    "print(\"Solution || Best \")\n",
    "print(\" \",model.objVal,\"  || \",Gm.sum())\n",
    "print(\"\\nDetails: Gain - Delay * Daily Penalty\\n\")\n",
    "for job in range(projects):\n",
    "    if(int(Realisation[job].x)==1):\n",
    "        print(data[\"jobs\"][job][\"name\"],\":\",data[\"jobs\"][job][\"gain\"],\"-\",int(Delay_project[job].x),\"*\",data[\"jobs\"][job][\"daily_penalty\"])\n",
    "    else:\n",
    "        print(data[\"jobs\"][job][\"name\"],\": Not Done\")\n",
    "print(\"------------\")\n",
    "print(\"Total =\",model.objVal)\n"
   ]
  },
  {
   "attachments": {},
   "cell_type": "markdown",
   "id": "dd8a2b88",
   "metadata": {},
   "source": [
    "##### Z2"
   ]
  },
  {
   "cell_type": "code",
   "execution_count": 52,
   "id": "e04a9d6b",
   "metadata": {},
   "outputs": [
    {
     "name": "stdout",
     "output_type": "stream",
     "text": [
      "Z2: Minimize Number of Projects per Employee\n",
      "\n",
      "Staff || Job(s) ||  Name\n",
      "  0   ||   2    ||  Olivia\n",
      "  1   ||   2    ||  Liam\n",
      "  2   ||   2    ||  Emma\n"
     ]
    }
   ],
   "source": [
    "# Z2\n",
    "print(\"Z2: Minimize Number of Projects per Employee\\n\")\n",
    "print(\"Staff || Job(s) ||  Name\")\n",
    "for i in range(len(data[\"staff\"])):\n",
    "    print(\" \",i,\"  ||  \",int(sum_staff_jobs[i].x),\"   || \",data[\"staff\"][i][\"name\"])"
   ]
  },
  {
   "attachments": {},
   "cell_type": "markdown",
   "id": "286d5c2c",
   "metadata": {},
   "source": [
    "##### Z3"
   ]
  },
  {
   "cell_type": "code",
   "execution_count": 848,
   "id": "5870fcdc",
   "metadata": {},
   "outputs": [],
   "source": [
    "days_work_on_job={}\n",
    "projects_duration=[]\n",
    "for job in range(projects):\n",
    "    val_V=[]\n",
    "    for t in range(horizon):\n",
    "        for staff in range(staffs):\n",
    "            for qualif in range(qualifs):\n",
    "                if(int(Planning[staff][t][job][qualif].x)>0):\n",
    "                    val_V.append(t+1)\n",
    "    days_work_on_job[job+1]=np.array(val_V)\n",
    "\n",
    "\n",
    "for i in days_work_on_job.keys():\n",
    "    projects_duration.append(len(np.unique(days_work_on_job[i])))"
   ]
  },
  {
   "cell_type": "code",
   "execution_count": 862,
   "id": "1d4feeb7",
   "metadata": {
    "scrolled": false
   },
   "outputs": [
    {
     "name": "stdout",
     "output_type": "stream",
     "text": [
      "Z3: Minimize Realisation Time\n",
      "\n",
      "  Job   || Begin ||  End  || Delta\n",
      "   1    ||  0    ||   3   ||  3\n",
      "   2    ||  0    ||   0   ||  0\n",
      "   3    ||  2    ||   4   ||  2\n",
      "   4    ||  0    ||   3   ||  3\n",
      "   5    ||  3    ||   5   ||  2\n"
     ]
    }
   ],
   "source": [
    "# Z3\n",
    "print(\"Z3: Minimize Realisation Time\\n\")\n",
    "print(\"  Job   || Begin ||  End  || Delta\")\n",
    "for i in range(len(data[\"jobs\"])):\n",
    "    if int(Begin_project[i].x) == 1:\n",
    "        print(\"  \",i+1,\"   || \",0,\"   ||  \",int(End_project[i].x*Realisation[i].x),\"  || \", projects_duration[i])\n",
    "    else:\n",
    "        print(\"  \",i+1,\"   || \",int(Begin_project[i].x),\"   ||  \",int(End_project[i].x*Realisation[i].x),\"  || \", projects_duration[i])            "
   ]
  },
  {
   "attachments": {},
   "cell_type": "markdown",
   "id": "657873d7",
   "metadata": {},
   "source": [
    "## 8) Verifying that the constraints are met"
   ]
  },
  {
   "cell_type": "code",
   "execution_count": 54,
   "id": "28b46a4a",
   "metadata": {},
   "outputs": [
    {
     "name": "stdout",
     "output_type": "stream",
     "text": [
      "- Couverture Qualifications -\n",
      "\n",
      "Job1 True\n",
      " . A 1\n",
      " . B 1\n",
      " . C 1\n",
      "Expected [1 1 1]\n",
      "---\n",
      "Job2 False\n",
      " . A 0\n",
      " . B 0\n",
      " . C 0\n",
      "Expected [1 2 0]\n",
      "---\n",
      "Job3 True\n",
      " . A 1\n",
      " . B 0\n",
      " . C 2\n",
      "Expected [1 0 2]\n",
      "---\n",
      "Job4 True\n",
      " . A 0\n",
      " . B 2\n",
      " . C 1\n",
      "Expected [0 2 1]\n",
      "---\n",
      "Job5 True\n",
      " . A 0\n",
      " . B 0\n",
      " . C 2\n",
      "Expected [0 0 2]\n",
      "---\n"
     ]
    }
   ],
   "source": [
    "#Couverture qualif\n",
    "print(\"- Couverture Qualifications -\\n\")\n",
    "for job in range(len(data[\"jobs\"])):\n",
    "    print(data[\"jobs\"][job][\"name\"],int(Realisation[job].x)==1)\n",
    "    for qualif in range(qualifs):\n",
    "        val=0\n",
    "        for t in range(horizon):\n",
    "            for staff in range(staffs):\n",
    "                val+=int(Planning[staff][t][job][qualif].x)\n",
    "        print(\" .\",data[\"qualifications\"][qualif],val)\n",
    "    print(\"Expected\",Qualifications_job[job])\n",
    "    print(\"---\")"
   ]
  },
  {
   "cell_type": "code",
   "execution_count": 55,
   "id": "6cd34c93",
   "metadata": {},
   "outputs": [
    {
     "name": "stdout",
     "output_type": "stream",
     "text": [
      "- Due Dates -\n",
      "\n",
      "Project || Expected || End || Delay\n",
      "   1    ||     3    ||  3  ||  0\n",
      "   2    ||     3    ||  0  ||  0\n",
      "   3    ||     4    ||  4  ||  0\n",
      "   4    ||     3    ||  3  ||  0\n",
      "   5    ||     5    ||  5  ||  0\n"
     ]
    }
   ],
   "source": [
    "# Due dates\n",
    "print(\"- Due Dates -\\n\")\n",
    "print(\"Project || Expected || End || Delay\")\n",
    "for i in range(len(data[\"jobs\"])):\n",
    "    print(\"  \",i+1,\"   ||    \",data[\"jobs\"][i][\"due_date\"],\"   || \",int(End_project[i].x*Realisation[i].x),\" || \",int(Delay_project[i].x))"
   ]
  },
  {
   "cell_type": "code",
   "execution_count": 56,
   "id": "fd062e2f",
   "metadata": {},
   "outputs": [
    {
     "name": "stdout",
     "output_type": "stream",
     "text": [
      "- Unicité Affectation et Congés -\n",
      "\n",
      "Jour 1\n",
      " . Olivia 1\n",
      " . Liam 0 Vacation\n",
      " . Emma 1\n",
      "---\n",
      "Jour 2\n",
      " . Olivia 1\n",
      " . Liam 1\n",
      " . Emma 0 Vacation\n",
      "---\n",
      "Jour 3\n",
      " . Olivia 1\n",
      " . Liam 1\n",
      " . Emma 1\n",
      "---\n",
      "Jour 4\n",
      " . Olivia 1\n",
      " . Liam 1\n",
      " . Emma 1\n",
      "---\n",
      "Jour 5\n",
      " . Olivia 1\n",
      " . Liam 0\n",
      " . Emma 0\n",
      "---\n"
     ]
    }
   ],
   "source": [
    "# Unicité affectation et congé\n",
    "print(\"- Unicité Affectation et Congés -\\n\")\n",
    "for t in range(horizon):\n",
    "    print(\"Jour\",t+1)\n",
    "    for staff in range(staffs):\n",
    "        val=0\n",
    "        for job in range(len(data[\"jobs\"])):\n",
    "            for qualif in range(qualifs):\n",
    "                val+=int(Planning[staff][t][job][qualif].x)\n",
    "        vacation= t+1 in data[\"staff\"][staff][\"vacations\"]\n",
    "        if(vacation):\n",
    "            print(\" .\",data[\"staff\"][staff][\"name\"],val,\"Vacation\")\n",
    "        else:\n",
    "            print(\" .\",data[\"staff\"][staff][\"name\"],val)\n",
    "    print(\"---\")"
   ]
  },
  {
   "attachments": {},
   "cell_type": "markdown",
   "id": "48725118",
   "metadata": {},
   "source": [
    "## 9) Visualization"
   ]
  },
  {
   "cell_type": "code",
   "execution_count": 57,
   "id": "e9cb1fb4",
   "metadata": {},
   "outputs": [
    {
     "data": {
      "image/png": "[encoded data removed]",
      "text/plain": [
       "<Figure size 432x288 with 1 Axes>"
      ]
     },
     "metadata": {
      "needs_background": "light"
     },
     "output_type": "display_data"
    }
   ],
   "source": [
    "projects_duration = [Realisation[i].x*(End_project[i].x-Begin_project[i].x+1) for i in range(len(data[\"jobs\"]))]\n",
    "projects_names = [job[\"name\"] for job in data[\"jobs\"]]\n",
    "starts_dates=[Begin_project[i].x-1 for i in range(len(data[\"jobs\"]))]\n",
    "\n",
    "plt.barh(projects_names, projects_duration,left= starts_dates, height=0.5)\n",
    "\n",
    "plt.xlim(0.5, horizon+0.5)\n",
    "plt.ylabel('Projets')\n",
    "plt.xlabel('Horizon')\n",
    "plt.title(\"Durée des projets par rapport à l'horizon\")\n",
    "\n",
    "plt.show()"
   ]
  },
  {
   "cell_type": "code",
   "execution_count": 58,
   "id": "6f7b54c3",
   "metadata": {},
   "outputs": [
    {
     "data": {
      "text/plain": [
       "{1: [(1, 'Olivia', 'C'), (2, 'Olivia', 'B'), (3, 'Olivia', 'A')],\n",
       " 2: [],\n",
       " 3: [(3, 'Emma', 'C'), (4, 'Liam', 'A'), (4, 'Emma', 'C')],\n",
       " 4: [(1, 'Emma', 'C'), (2, 'Liam', 'B'), (3, 'Liam', 'B')],\n",
       " 5: [(4, 'Olivia', 'C'), (5, 'Olivia', 'C')]}"
      ]
     },
     "execution_count": 58,
     "metadata": {},
     "output_type": "execute_result"
    }
   ],
   "source": [
    "res={}\n",
    "res_V={}\n",
    "for job in range(projects):\n",
    "    val=[]\n",
    "    val_V=[]\n",
    "    for t in range(horizon):\n",
    "        for staff in range(staffs):\n",
    "            for qualif in range(qualifs):\n",
    "                if(int(Planning[staff][t][job][qualif].x)>0):\n",
    "                    val.append((t,staff,qualif))\n",
    "                    val_V.append((t+1,data[\"staff\"][staff][\"name\"],data['qualifications'][qualif]))\n",
    "    res[job]=val\n",
    "    res_V[job+1]=val_V\n",
    "\n",
    "res_V"
   ]
  },
  {
   "cell_type": "code",
   "execution_count": 66,
   "id": "a0d68de7",
   "metadata": {},
   "outputs": [
    {
     "data": {
      "image/png": "[encoded data removed]",
      "text/plain": [
       "<Figure size 1500x1500 with 5 Axes>"
      ]
     },
     "metadata": {},
     "output_type": "display_data"
    }
   ],
   "source": [
    "staff_names=[data[\"staff\"][i][\"name\"] for i in range(staffs)]\n",
    "\n",
    "fig, axs = plt.subplots(projects, 1, figsize=(15, 15), sharex=True)\n",
    "\n",
    "color_map = {}\n",
    "for i in range(qualifs):\n",
    "    color_map[i]='C'+str(i)\n",
    "\n",
    "for job, job_data in res.items():\n",
    "    for day_data in job_data:\n",
    "        t=day_data[0]\n",
    "        staff_data=day_data[1]\n",
    "        qualif_data=day_data[2]\n",
    "        axs[job].barh(data[\"staff\"][staff_data][\"name\"], 1, left=t, color=color_map[qualif_data])\n",
    "    axs[job].set_title(f'Job {job+1}')\n",
    "    axs[job].invert_yaxis()\n",
    "    \n",
    "handles = [plt.Rectangle((0, 0), 1, 1, color=color, ec=\"k\") for color in color_map.values()]\n",
    "labels = [f\"Qualification {data['qualifications'][i]}\" for i in color_map.keys()]\n",
    "fig.legend(handles, labels, loc='upper right', bbox_to_anchor=(1.2, 1))\n",
    "\n",
    "plt.xlim(-0.5, horizon+0.5)\n",
    "plt.xlabel(\"Horizon\")\n",
    "plt.tight_layout()\n",
    "plt.savefig(\"Results/jpg/planning_\"+path.split(\"/\")[-1].split('.')[0]+\".jpg\",bbox_inches='tight')\n",
    "plt.show()\n"
   ]
  },
  {
   "cell_type": "code",
   "execution_count": 61,
   "id": "88ed5642",
   "metadata": {},
   "outputs": [],
   "source": [
    "# 4D matrix, Gurobi variables extraction\n",
    "matrix = np.array([[element.x for element in row] for row in Planning]).reshape(staffs, horizon, projects, qualifs)\n",
    "\n",
    "# 4D matrix to dataframe\n",
    "df = pd.DataFrame(np.reshape(matrix, (staffs * horizon, projects * qualifs)),\n",
    "                  columns=[f\"Project {i+1} - Qualification {j+1}\" for i in range(projects) for j in range(qualifs)],\n",
    "                  index=[f\"Staff {i+1} - Horizon {j+1}\" for i in range(staffs) for j in range(horizon)])\n",
    "\n",
    "df.loc['sum_row'] = df.sum()\n",
    "\n",
    "df['sum_column'] = df.sum(axis=1)\n",
    "\n",
    "df.to_csv(\"Results/csv/planning_\"+path.split(\"/\")[-1].split('.')[0]+\".csv\",sep=\";\")\n",
    "df.to_excel(\"Results/xlsx/planning_\"+path.split(\"/\")[-1].split('.')[0]+\".xlsx\")\n"
   ]
  },
  {
   "cell_type": "code",
   "execution_count": 62,
   "id": "fc5baeb3",
   "metadata": {},
   "outputs": [
    {
     "data": {
      "text/html": [
       "<style type=\"text/css\">\n",
       "#T_19dda_row0_col0, #T_19dda_row0_col1, #T_19dda_row0_col3, #T_19dda_row0_col4, #T_19dda_row0_col5, #T_19dda_row0_col6, #T_19dda_row0_col7, #T_19dda_row0_col8, #T_19dda_row0_col9, #T_19dda_row0_col10, #T_19dda_row0_col11, #T_19dda_row0_col12, #T_19dda_row0_col13, #T_19dda_row0_col14, #T_19dda_row1_col0, #T_19dda_row1_col2, #T_19dda_row1_col3, #T_19dda_row1_col4, #T_19dda_row1_col5, #T_19dda_row1_col6, #T_19dda_row1_col7, #T_19dda_row1_col8, #T_19dda_row1_col9, #T_19dda_row1_col10, #T_19dda_row1_col11, #T_19dda_row1_col12, #T_19dda_row1_col13, #T_19dda_row1_col14, #T_19dda_row2_col1, #T_19dda_row2_col2, #T_19dda_row2_col3, #T_19dda_row2_col4, #T_19dda_row2_col5, #T_19dda_row2_col6, #T_19dda_row2_col7, #T_19dda_row2_col8, #T_19dda_row2_col9, #T_19dda_row2_col10, #T_19dda_row2_col11, #T_19dda_row2_col12, #T_19dda_row2_col13, #T_19dda_row2_col14, #T_19dda_row3_col0, #T_19dda_row3_col1, #T_19dda_row3_col2, #T_19dda_row3_col3, #T_19dda_row3_col4, #T_19dda_row3_col5, #T_19dda_row3_col6, #T_19dda_row3_col7, #T_19dda_row3_col8, #T_19dda_row3_col9, #T_19dda_row3_col10, #T_19dda_row3_col11, #T_19dda_row3_col12, #T_19dda_row3_col13, #T_19dda_row4_col0, #T_19dda_row4_col1, #T_19dda_row4_col2, #T_19dda_row4_col3, #T_19dda_row4_col4, #T_19dda_row4_col5, #T_19dda_row4_col6, #T_19dda_row4_col7, #T_19dda_row4_col8, #T_19dda_row4_col9, #T_19dda_row4_col10, #T_19dda_row4_col11, #T_19dda_row4_col12, #T_19dda_row4_col13, #T_19dda_row5_col0, #T_19dda_row5_col1, #T_19dda_row5_col2, #T_19dda_row5_col3, #T_19dda_row5_col4, #T_19dda_row5_col5, #T_19dda_row5_col6, #T_19dda_row5_col7, #T_19dda_row5_col8, #T_19dda_row5_col9, #T_19dda_row5_col10, #T_19dda_row5_col11, #T_19dda_row5_col12, #T_19dda_row5_col13, #T_19dda_row5_col14, #T_19dda_row5_col15, #T_19dda_row6_col0, #T_19dda_row6_col1, #T_19dda_row6_col2, #T_19dda_row6_col3, #T_19dda_row6_col4, #T_19dda_row6_col5, #T_19dda_row6_col6, #T_19dda_row6_col7, #T_19dda_row6_col8, #T_19dda_row6_col9, #T_19dda_row6_col11, #T_19dda_row6_col12, #T_19dda_row6_col13, #T_19dda_row6_col14, #T_19dda_row7_col0, #T_19dda_row7_col1, #T_19dda_row7_col2, #T_19dda_row7_col3, #T_19dda_row7_col4, #T_19dda_row7_col5, #T_19dda_row7_col6, #T_19dda_row7_col7, #T_19dda_row7_col8, #T_19dda_row7_col9, #T_19dda_row7_col11, #T_19dda_row7_col12, #T_19dda_row7_col13, #T_19dda_row7_col14, #T_19dda_row8_col0, #T_19dda_row8_col1, #T_19dda_row8_col2, #T_19dda_row8_col3, #T_19dda_row8_col4, #T_19dda_row8_col5, #T_19dda_row8_col7, #T_19dda_row8_col8, #T_19dda_row8_col9, #T_19dda_row8_col10, #T_19dda_row8_col11, #T_19dda_row8_col12, #T_19dda_row8_col13, #T_19dda_row8_col14, #T_19dda_row9_col0, #T_19dda_row9_col1, #T_19dda_row9_col2, #T_19dda_row9_col3, #T_19dda_row9_col4, #T_19dda_row9_col5, #T_19dda_row9_col6, #T_19dda_row9_col7, #T_19dda_row9_col8, #T_19dda_row9_col9, #T_19dda_row9_col10, #T_19dda_row9_col11, #T_19dda_row9_col12, #T_19dda_row9_col13, #T_19dda_row9_col14, #T_19dda_row9_col15, #T_19dda_row10_col0, #T_19dda_row10_col1, #T_19dda_row10_col2, #T_19dda_row10_col3, #T_19dda_row10_col4, #T_19dda_row10_col5, #T_19dda_row10_col6, #T_19dda_row10_col7, #T_19dda_row10_col8, #T_19dda_row10_col9, #T_19dda_row10_col10, #T_19dda_row10_col12, #T_19dda_row10_col13, #T_19dda_row10_col14, #T_19dda_row11_col0, #T_19dda_row11_col1, #T_19dda_row11_col2, #T_19dda_row11_col3, #T_19dda_row11_col4, #T_19dda_row11_col5, #T_19dda_row11_col6, #T_19dda_row11_col7, #T_19dda_row11_col8, #T_19dda_row11_col9, #T_19dda_row11_col10, #T_19dda_row11_col11, #T_19dda_row11_col12, #T_19dda_row11_col13, #T_19dda_row11_col14, #T_19dda_row11_col15, #T_19dda_row12_col0, #T_19dda_row12_col1, #T_19dda_row12_col2, #T_19dda_row12_col3, #T_19dda_row12_col4, #T_19dda_row12_col5, #T_19dda_row12_col6, #T_19dda_row12_col7, #T_19dda_row12_col9, #T_19dda_row12_col10, #T_19dda_row12_col11, #T_19dda_row12_col12, #T_19dda_row12_col13, #T_19dda_row12_col14, #T_19dda_row13_col0, #T_19dda_row13_col1, #T_19dda_row13_col2, #T_19dda_row13_col3, #T_19dda_row13_col4, #T_19dda_row13_col5, #T_19dda_row13_col6, #T_19dda_row13_col7, #T_19dda_row13_col9, #T_19dda_row13_col10, #T_19dda_row13_col11, #T_19dda_row13_col12, #T_19dda_row13_col13, #T_19dda_row13_col14, #T_19dda_row14_col0, #T_19dda_row14_col1, #T_19dda_row14_col2, #T_19dda_row14_col3, #T_19dda_row14_col4, #T_19dda_row14_col5, #T_19dda_row14_col6, #T_19dda_row14_col7, #T_19dda_row14_col8, #T_19dda_row14_col9, #T_19dda_row14_col10, #T_19dda_row14_col11, #T_19dda_row14_col12, #T_19dda_row14_col13, #T_19dda_row14_col14, #T_19dda_row14_col15, #T_19dda_row15_col3, #T_19dda_row15_col4, #T_19dda_row15_col5, #T_19dda_row15_col7, #T_19dda_row15_col9, #T_19dda_row15_col12, #T_19dda_row15_col13 {\n",
       "  background-color: ;\n",
       "}\n",
       "#T_19dda_row0_col2, #T_19dda_row0_col15, #T_19dda_row1_col1, #T_19dda_row1_col15, #T_19dda_row2_col0, #T_19dda_row2_col15, #T_19dda_row3_col14, #T_19dda_row3_col15, #T_19dda_row4_col14, #T_19dda_row4_col15, #T_19dda_row6_col10, #T_19dda_row6_col15, #T_19dda_row7_col10, #T_19dda_row7_col15, #T_19dda_row8_col6, #T_19dda_row8_col15, #T_19dda_row10_col11, #T_19dda_row10_col15, #T_19dda_row12_col8, #T_19dda_row12_col15, #T_19dda_row13_col8, #T_19dda_row13_col15, #T_19dda_row15_col0, #T_19dda_row15_col1, #T_19dda_row15_col2, #T_19dda_row15_col6, #T_19dda_row15_col11 {\n",
       "  background-color: yellow;\n",
       "}\n",
       "#T_19dda_row15_col8, #T_19dda_row15_col10, #T_19dda_row15_col14, #T_19dda_row15_col15 {\n",
       "  background-color: red;\n",
       "}\n",
       "</style>\n",
       "<table id=\"T_19dda\">\n",
       "  <thead>\n",
       "    <tr>\n",
       "      <th class=\"blank level0\" >&nbsp;</th>\n",
       "      <th id=\"T_19dda_level0_col0\" class=\"col_heading level0 col0\" >Project 1 - Qualification 1</th>\n",
       "      <th id=\"T_19dda_level0_col1\" class=\"col_heading level0 col1\" >Project 1 - Qualification 2</th>\n",
       "      <th id=\"T_19dda_level0_col2\" class=\"col_heading level0 col2\" >Project 1 - Qualification 3</th>\n",
       "      <th id=\"T_19dda_level0_col3\" class=\"col_heading level0 col3\" >Project 2 - Qualification 1</th>\n",
       "      <th id=\"T_19dda_level0_col4\" class=\"col_heading level0 col4\" >Project 2 - Qualification 2</th>\n",
       "      <th id=\"T_19dda_level0_col5\" class=\"col_heading level0 col5\" >Project 2 - Qualification 3</th>\n",
       "      <th id=\"T_19dda_level0_col6\" class=\"col_heading level0 col6\" >Project 3 - Qualification 1</th>\n",
       "      <th id=\"T_19dda_level0_col7\" class=\"col_heading level0 col7\" >Project 3 - Qualification 2</th>\n",
       "      <th id=\"T_19dda_level0_col8\" class=\"col_heading level0 col8\" >Project 3 - Qualification 3</th>\n",
       "      <th id=\"T_19dda_level0_col9\" class=\"col_heading level0 col9\" >Project 4 - Qualification 1</th>\n",
       "      <th id=\"T_19dda_level0_col10\" class=\"col_heading level0 col10\" >Project 4 - Qualification 2</th>\n",
       "      <th id=\"T_19dda_level0_col11\" class=\"col_heading level0 col11\" >Project 4 - Qualification 3</th>\n",
       "      <th id=\"T_19dda_level0_col12\" class=\"col_heading level0 col12\" >Project 5 - Qualification 1</th>\n",
       "      <th id=\"T_19dda_level0_col13\" class=\"col_heading level0 col13\" >Project 5 - Qualification 2</th>\n",
       "      <th id=\"T_19dda_level0_col14\" class=\"col_heading level0 col14\" >Project 5 - Qualification 3</th>\n",
       "      <th id=\"T_19dda_level0_col15\" class=\"col_heading level0 col15\" >sum_column</th>\n",
       "    </tr>\n",
       "  </thead>\n",
       "  <tbody>\n",
       "    <tr>\n",
       "      <th id=\"T_19dda_level0_row0\" class=\"row_heading level0 row0\" >Staff 1 - Horizon 1</th>\n",
       "      <td id=\"T_19dda_row0_col0\" class=\"data row0 col0\" >-0.000000</td>\n",
       "      <td id=\"T_19dda_row0_col1\" class=\"data row0 col1\" >0.000000</td>\n",
       "      <td id=\"T_19dda_row0_col2\" class=\"data row0 col2\" >1.000000</td>\n",
       "      <td id=\"T_19dda_row0_col3\" class=\"data row0 col3\" >-0.000000</td>\n",
       "      <td id=\"T_19dda_row0_col4\" class=\"data row0 col4\" >-0.000000</td>\n",
       "      <td id=\"T_19dda_row0_col5\" class=\"data row0 col5\" >0.000000</td>\n",
       "      <td id=\"T_19dda_row0_col6\" class=\"data row0 col6\" >-0.000000</td>\n",
       "      <td id=\"T_19dda_row0_col7\" class=\"data row0 col7\" >0.000000</td>\n",
       "      <td id=\"T_19dda_row0_col8\" class=\"data row0 col8\" >-0.000000</td>\n",
       "      <td id=\"T_19dda_row0_col9\" class=\"data row0 col9\" >0.000000</td>\n",
       "      <td id=\"T_19dda_row0_col10\" class=\"data row0 col10\" >-0.000000</td>\n",
       "      <td id=\"T_19dda_row0_col11\" class=\"data row0 col11\" >-0.000000</td>\n",
       "      <td id=\"T_19dda_row0_col12\" class=\"data row0 col12\" >0.000000</td>\n",
       "      <td id=\"T_19dda_row0_col13\" class=\"data row0 col13\" >0.000000</td>\n",
       "      <td id=\"T_19dda_row0_col14\" class=\"data row0 col14\" >-0.000000</td>\n",
       "      <td id=\"T_19dda_row0_col15\" class=\"data row0 col15\" >1.000000</td>\n",
       "    </tr>\n",
       "    <tr>\n",
       "      <th id=\"T_19dda_level0_row1\" class=\"row_heading level0 row1\" >Staff 1 - Horizon 2</th>\n",
       "      <td id=\"T_19dda_row1_col0\" class=\"data row1 col0\" >-0.000000</td>\n",
       "      <td id=\"T_19dda_row1_col1\" class=\"data row1 col1\" >1.000000</td>\n",
       "      <td id=\"T_19dda_row1_col2\" class=\"data row1 col2\" >0.000000</td>\n",
       "      <td id=\"T_19dda_row1_col3\" class=\"data row1 col3\" >-0.000000</td>\n",
       "      <td id=\"T_19dda_row1_col4\" class=\"data row1 col4\" >-0.000000</td>\n",
       "      <td id=\"T_19dda_row1_col5\" class=\"data row1 col5\" >0.000000</td>\n",
       "      <td id=\"T_19dda_row1_col6\" class=\"data row1 col6\" >-0.000000</td>\n",
       "      <td id=\"T_19dda_row1_col7\" class=\"data row1 col7\" >0.000000</td>\n",
       "      <td id=\"T_19dda_row1_col8\" class=\"data row1 col8\" >-0.000000</td>\n",
       "      <td id=\"T_19dda_row1_col9\" class=\"data row1 col9\" >0.000000</td>\n",
       "      <td id=\"T_19dda_row1_col10\" class=\"data row1 col10\" >-0.000000</td>\n",
       "      <td id=\"T_19dda_row1_col11\" class=\"data row1 col11\" >-0.000000</td>\n",
       "      <td id=\"T_19dda_row1_col12\" class=\"data row1 col12\" >0.000000</td>\n",
       "      <td id=\"T_19dda_row1_col13\" class=\"data row1 col13\" >0.000000</td>\n",
       "      <td id=\"T_19dda_row1_col14\" class=\"data row1 col14\" >-0.000000</td>\n",
       "      <td id=\"T_19dda_row1_col15\" class=\"data row1 col15\" >1.000000</td>\n",
       "    </tr>\n",
       "    <tr>\n",
       "      <th id=\"T_19dda_level0_row2\" class=\"row_heading level0 row2\" >Staff 1 - Horizon 3</th>\n",
       "      <td id=\"T_19dda_row2_col0\" class=\"data row2 col0\" >1.000000</td>\n",
       "      <td id=\"T_19dda_row2_col1\" class=\"data row2 col1\" >-0.000000</td>\n",
       "      <td id=\"T_19dda_row2_col2\" class=\"data row2 col2\" >-0.000000</td>\n",
       "      <td id=\"T_19dda_row2_col3\" class=\"data row2 col3\" >-0.000000</td>\n",
       "      <td id=\"T_19dda_row2_col4\" class=\"data row2 col4\" >-0.000000</td>\n",
       "      <td id=\"T_19dda_row2_col5\" class=\"data row2 col5\" >0.000000</td>\n",
       "      <td id=\"T_19dda_row2_col6\" class=\"data row2 col6\" >-0.000000</td>\n",
       "      <td id=\"T_19dda_row2_col7\" class=\"data row2 col7\" >0.000000</td>\n",
       "      <td id=\"T_19dda_row2_col8\" class=\"data row2 col8\" >-0.000000</td>\n",
       "      <td id=\"T_19dda_row2_col9\" class=\"data row2 col9\" >0.000000</td>\n",
       "      <td id=\"T_19dda_row2_col10\" class=\"data row2 col10\" >-0.000000</td>\n",
       "      <td id=\"T_19dda_row2_col11\" class=\"data row2 col11\" >-0.000000</td>\n",
       "      <td id=\"T_19dda_row2_col12\" class=\"data row2 col12\" >0.000000</td>\n",
       "      <td id=\"T_19dda_row2_col13\" class=\"data row2 col13\" >0.000000</td>\n",
       "      <td id=\"T_19dda_row2_col14\" class=\"data row2 col14\" >-0.000000</td>\n",
       "      <td id=\"T_19dda_row2_col15\" class=\"data row2 col15\" >1.000000</td>\n",
       "    </tr>\n",
       "    <tr>\n",
       "      <th id=\"T_19dda_level0_row3\" class=\"row_heading level0 row3\" >Staff 1 - Horizon 4</th>\n",
       "      <td id=\"T_19dda_row3_col0\" class=\"data row3 col0\" >-0.000000</td>\n",
       "      <td id=\"T_19dda_row3_col1\" class=\"data row3 col1\" >-0.000000</td>\n",
       "      <td id=\"T_19dda_row3_col2\" class=\"data row3 col2\" >-0.000000</td>\n",
       "      <td id=\"T_19dda_row3_col3\" class=\"data row3 col3\" >-0.000000</td>\n",
       "      <td id=\"T_19dda_row3_col4\" class=\"data row3 col4\" >-0.000000</td>\n",
       "      <td id=\"T_19dda_row3_col5\" class=\"data row3 col5\" >0.000000</td>\n",
       "      <td id=\"T_19dda_row3_col6\" class=\"data row3 col6\" >-0.000000</td>\n",
       "      <td id=\"T_19dda_row3_col7\" class=\"data row3 col7\" >0.000000</td>\n",
       "      <td id=\"T_19dda_row3_col8\" class=\"data row3 col8\" >-0.000000</td>\n",
       "      <td id=\"T_19dda_row3_col9\" class=\"data row3 col9\" >0.000000</td>\n",
       "      <td id=\"T_19dda_row3_col10\" class=\"data row3 col10\" >-0.000000</td>\n",
       "      <td id=\"T_19dda_row3_col11\" class=\"data row3 col11\" >-0.000000</td>\n",
       "      <td id=\"T_19dda_row3_col12\" class=\"data row3 col12\" >0.000000</td>\n",
       "      <td id=\"T_19dda_row3_col13\" class=\"data row3 col13\" >0.000000</td>\n",
       "      <td id=\"T_19dda_row3_col14\" class=\"data row3 col14\" >1.000000</td>\n",
       "      <td id=\"T_19dda_row3_col15\" class=\"data row3 col15\" >1.000000</td>\n",
       "    </tr>\n",
       "    <tr>\n",
       "      <th id=\"T_19dda_level0_row4\" class=\"row_heading level0 row4\" >Staff 1 - Horizon 5</th>\n",
       "      <td id=\"T_19dda_row4_col0\" class=\"data row4 col0\" >-0.000000</td>\n",
       "      <td id=\"T_19dda_row4_col1\" class=\"data row4 col1\" >-0.000000</td>\n",
       "      <td id=\"T_19dda_row4_col2\" class=\"data row4 col2\" >-0.000000</td>\n",
       "      <td id=\"T_19dda_row4_col3\" class=\"data row4 col3\" >-0.000000</td>\n",
       "      <td id=\"T_19dda_row4_col4\" class=\"data row4 col4\" >-0.000000</td>\n",
       "      <td id=\"T_19dda_row4_col5\" class=\"data row4 col5\" >0.000000</td>\n",
       "      <td id=\"T_19dda_row4_col6\" class=\"data row4 col6\" >-0.000000</td>\n",
       "      <td id=\"T_19dda_row4_col7\" class=\"data row4 col7\" >0.000000</td>\n",
       "      <td id=\"T_19dda_row4_col8\" class=\"data row4 col8\" >-0.000000</td>\n",
       "      <td id=\"T_19dda_row4_col9\" class=\"data row4 col9\" >0.000000</td>\n",
       "      <td id=\"T_19dda_row4_col10\" class=\"data row4 col10\" >-0.000000</td>\n",
       "      <td id=\"T_19dda_row4_col11\" class=\"data row4 col11\" >-0.000000</td>\n",
       "      <td id=\"T_19dda_row4_col12\" class=\"data row4 col12\" >0.000000</td>\n",
       "      <td id=\"T_19dda_row4_col13\" class=\"data row4 col13\" >0.000000</td>\n",
       "      <td id=\"T_19dda_row4_col14\" class=\"data row4 col14\" >1.000000</td>\n",
       "      <td id=\"T_19dda_row4_col15\" class=\"data row4 col15\" >1.000000</td>\n",
       "    </tr>\n",
       "    <tr>\n",
       "      <th id=\"T_19dda_level0_row5\" class=\"row_heading level0 row5\" >Staff 2 - Horizon 1</th>\n",
       "      <td id=\"T_19dda_row5_col0\" class=\"data row5 col0\" >0.000000</td>\n",
       "      <td id=\"T_19dda_row5_col1\" class=\"data row5 col1\" >0.000000</td>\n",
       "      <td id=\"T_19dda_row5_col2\" class=\"data row5 col2\" >0.000000</td>\n",
       "      <td id=\"T_19dda_row5_col3\" class=\"data row5 col3\" >0.000000</td>\n",
       "      <td id=\"T_19dda_row5_col4\" class=\"data row5 col4\" >0.000000</td>\n",
       "      <td id=\"T_19dda_row5_col5\" class=\"data row5 col5\" >0.000000</td>\n",
       "      <td id=\"T_19dda_row5_col6\" class=\"data row5 col6\" >0.000000</td>\n",
       "      <td id=\"T_19dda_row5_col7\" class=\"data row5 col7\" >0.000000</td>\n",
       "      <td id=\"T_19dda_row5_col8\" class=\"data row5 col8\" >0.000000</td>\n",
       "      <td id=\"T_19dda_row5_col9\" class=\"data row5 col9\" >0.000000</td>\n",
       "      <td id=\"T_19dda_row5_col10\" class=\"data row5 col10\" >0.000000</td>\n",
       "      <td id=\"T_19dda_row5_col11\" class=\"data row5 col11\" >0.000000</td>\n",
       "      <td id=\"T_19dda_row5_col12\" class=\"data row5 col12\" >0.000000</td>\n",
       "      <td id=\"T_19dda_row5_col13\" class=\"data row5 col13\" >0.000000</td>\n",
       "      <td id=\"T_19dda_row5_col14\" class=\"data row5 col14\" >0.000000</td>\n",
       "      <td id=\"T_19dda_row5_col15\" class=\"data row5 col15\" >0.000000</td>\n",
       "    </tr>\n",
       "    <tr>\n",
       "      <th id=\"T_19dda_level0_row6\" class=\"row_heading level0 row6\" >Staff 2 - Horizon 2</th>\n",
       "      <td id=\"T_19dda_row6_col0\" class=\"data row6 col0\" >-0.000000</td>\n",
       "      <td id=\"T_19dda_row6_col1\" class=\"data row6 col1\" >-0.000000</td>\n",
       "      <td id=\"T_19dda_row6_col2\" class=\"data row6 col2\" >0.000000</td>\n",
       "      <td id=\"T_19dda_row6_col3\" class=\"data row6 col3\" >-0.000000</td>\n",
       "      <td id=\"T_19dda_row6_col4\" class=\"data row6 col4\" >-0.000000</td>\n",
       "      <td id=\"T_19dda_row6_col5\" class=\"data row6 col5\" >0.000000</td>\n",
       "      <td id=\"T_19dda_row6_col6\" class=\"data row6 col6\" >-0.000000</td>\n",
       "      <td id=\"T_19dda_row6_col7\" class=\"data row6 col7\" >0.000000</td>\n",
       "      <td id=\"T_19dda_row6_col8\" class=\"data row6 col8\" >0.000000</td>\n",
       "      <td id=\"T_19dda_row6_col9\" class=\"data row6 col9\" >0.000000</td>\n",
       "      <td id=\"T_19dda_row6_col10\" class=\"data row6 col10\" >1.000000</td>\n",
       "      <td id=\"T_19dda_row6_col11\" class=\"data row6 col11\" >0.000000</td>\n",
       "      <td id=\"T_19dda_row6_col12\" class=\"data row6 col12\" >0.000000</td>\n",
       "      <td id=\"T_19dda_row6_col13\" class=\"data row6 col13\" >0.000000</td>\n",
       "      <td id=\"T_19dda_row6_col14\" class=\"data row6 col14\" >0.000000</td>\n",
       "      <td id=\"T_19dda_row6_col15\" class=\"data row6 col15\" >1.000000</td>\n",
       "    </tr>\n",
       "    <tr>\n",
       "      <th id=\"T_19dda_level0_row7\" class=\"row_heading level0 row7\" >Staff 2 - Horizon 3</th>\n",
       "      <td id=\"T_19dda_row7_col0\" class=\"data row7 col0\" >-0.000000</td>\n",
       "      <td id=\"T_19dda_row7_col1\" class=\"data row7 col1\" >-0.000000</td>\n",
       "      <td id=\"T_19dda_row7_col2\" class=\"data row7 col2\" >0.000000</td>\n",
       "      <td id=\"T_19dda_row7_col3\" class=\"data row7 col3\" >-0.000000</td>\n",
       "      <td id=\"T_19dda_row7_col4\" class=\"data row7 col4\" >-0.000000</td>\n",
       "      <td id=\"T_19dda_row7_col5\" class=\"data row7 col5\" >0.000000</td>\n",
       "      <td id=\"T_19dda_row7_col6\" class=\"data row7 col6\" >-0.000000</td>\n",
       "      <td id=\"T_19dda_row7_col7\" class=\"data row7 col7\" >0.000000</td>\n",
       "      <td id=\"T_19dda_row7_col8\" class=\"data row7 col8\" >0.000000</td>\n",
       "      <td id=\"T_19dda_row7_col9\" class=\"data row7 col9\" >0.000000</td>\n",
       "      <td id=\"T_19dda_row7_col10\" class=\"data row7 col10\" >1.000000</td>\n",
       "      <td id=\"T_19dda_row7_col11\" class=\"data row7 col11\" >0.000000</td>\n",
       "      <td id=\"T_19dda_row7_col12\" class=\"data row7 col12\" >0.000000</td>\n",
       "      <td id=\"T_19dda_row7_col13\" class=\"data row7 col13\" >0.000000</td>\n",
       "      <td id=\"T_19dda_row7_col14\" class=\"data row7 col14\" >0.000000</td>\n",
       "      <td id=\"T_19dda_row7_col15\" class=\"data row7 col15\" >1.000000</td>\n",
       "    </tr>\n",
       "    <tr>\n",
       "      <th id=\"T_19dda_level0_row8\" class=\"row_heading level0 row8\" >Staff 2 - Horizon 4</th>\n",
       "      <td id=\"T_19dda_row8_col0\" class=\"data row8 col0\" >-0.000000</td>\n",
       "      <td id=\"T_19dda_row8_col1\" class=\"data row8 col1\" >-0.000000</td>\n",
       "      <td id=\"T_19dda_row8_col2\" class=\"data row8 col2\" >0.000000</td>\n",
       "      <td id=\"T_19dda_row8_col3\" class=\"data row8 col3\" >-0.000000</td>\n",
       "      <td id=\"T_19dda_row8_col4\" class=\"data row8 col4\" >-0.000000</td>\n",
       "      <td id=\"T_19dda_row8_col5\" class=\"data row8 col5\" >0.000000</td>\n",
       "      <td id=\"T_19dda_row8_col6\" class=\"data row8 col6\" >1.000000</td>\n",
       "      <td id=\"T_19dda_row8_col7\" class=\"data row8 col7\" >0.000000</td>\n",
       "      <td id=\"T_19dda_row8_col8\" class=\"data row8 col8\" >0.000000</td>\n",
       "      <td id=\"T_19dda_row8_col9\" class=\"data row8 col9\" >0.000000</td>\n",
       "      <td id=\"T_19dda_row8_col10\" class=\"data row8 col10\" >-0.000000</td>\n",
       "      <td id=\"T_19dda_row8_col11\" class=\"data row8 col11\" >0.000000</td>\n",
       "      <td id=\"T_19dda_row8_col12\" class=\"data row8 col12\" >0.000000</td>\n",
       "      <td id=\"T_19dda_row8_col13\" class=\"data row8 col13\" >0.000000</td>\n",
       "      <td id=\"T_19dda_row8_col14\" class=\"data row8 col14\" >0.000000</td>\n",
       "      <td id=\"T_19dda_row8_col15\" class=\"data row8 col15\" >1.000000</td>\n",
       "    </tr>\n",
       "    <tr>\n",
       "      <th id=\"T_19dda_level0_row9\" class=\"row_heading level0 row9\" >Staff 2 - Horizon 5</th>\n",
       "      <td id=\"T_19dda_row9_col0\" class=\"data row9 col0\" >-0.000000</td>\n",
       "      <td id=\"T_19dda_row9_col1\" class=\"data row9 col1\" >-0.000000</td>\n",
       "      <td id=\"T_19dda_row9_col2\" class=\"data row9 col2\" >0.000000</td>\n",
       "      <td id=\"T_19dda_row9_col3\" class=\"data row9 col3\" >-0.000000</td>\n",
       "      <td id=\"T_19dda_row9_col4\" class=\"data row9 col4\" >-0.000000</td>\n",
       "      <td id=\"T_19dda_row9_col5\" class=\"data row9 col5\" >0.000000</td>\n",
       "      <td id=\"T_19dda_row9_col6\" class=\"data row9 col6\" >-0.000000</td>\n",
       "      <td id=\"T_19dda_row9_col7\" class=\"data row9 col7\" >0.000000</td>\n",
       "      <td id=\"T_19dda_row9_col8\" class=\"data row9 col8\" >0.000000</td>\n",
       "      <td id=\"T_19dda_row9_col9\" class=\"data row9 col9\" >0.000000</td>\n",
       "      <td id=\"T_19dda_row9_col10\" class=\"data row9 col10\" >-0.000000</td>\n",
       "      <td id=\"T_19dda_row9_col11\" class=\"data row9 col11\" >0.000000</td>\n",
       "      <td id=\"T_19dda_row9_col12\" class=\"data row9 col12\" >0.000000</td>\n",
       "      <td id=\"T_19dda_row9_col13\" class=\"data row9 col13\" >0.000000</td>\n",
       "      <td id=\"T_19dda_row9_col14\" class=\"data row9 col14\" >0.000000</td>\n",
       "      <td id=\"T_19dda_row9_col15\" class=\"data row9 col15\" >0.000000</td>\n",
       "    </tr>\n",
       "    <tr>\n",
       "      <th id=\"T_19dda_level0_row10\" class=\"row_heading level0 row10\" >Staff 3 - Horizon 1</th>\n",
       "      <td id=\"T_19dda_row10_col0\" class=\"data row10 col0\" >0.000000</td>\n",
       "      <td id=\"T_19dda_row10_col1\" class=\"data row10 col1\" >0.000000</td>\n",
       "      <td id=\"T_19dda_row10_col2\" class=\"data row10 col2\" >-0.000000</td>\n",
       "      <td id=\"T_19dda_row10_col3\" class=\"data row10 col3\" >0.000000</td>\n",
       "      <td id=\"T_19dda_row10_col4\" class=\"data row10 col4\" >0.000000</td>\n",
       "      <td id=\"T_19dda_row10_col5\" class=\"data row10 col5\" >0.000000</td>\n",
       "      <td id=\"T_19dda_row10_col6\" class=\"data row10 col6\" >0.000000</td>\n",
       "      <td id=\"T_19dda_row10_col7\" class=\"data row10 col7\" >0.000000</td>\n",
       "      <td id=\"T_19dda_row10_col8\" class=\"data row10 col8\" >-0.000000</td>\n",
       "      <td id=\"T_19dda_row10_col9\" class=\"data row10 col9\" >0.000000</td>\n",
       "      <td id=\"T_19dda_row10_col10\" class=\"data row10 col10\" >0.000000</td>\n",
       "      <td id=\"T_19dda_row10_col11\" class=\"data row10 col11\" >1.000000</td>\n",
       "      <td id=\"T_19dda_row10_col12\" class=\"data row10 col12\" >0.000000</td>\n",
       "      <td id=\"T_19dda_row10_col13\" class=\"data row10 col13\" >0.000000</td>\n",
       "      <td id=\"T_19dda_row10_col14\" class=\"data row10 col14\" >-0.000000</td>\n",
       "      <td id=\"T_19dda_row10_col15\" class=\"data row10 col15\" >1.000000</td>\n",
       "    </tr>\n",
       "    <tr>\n",
       "      <th id=\"T_19dda_level0_row11\" class=\"row_heading level0 row11\" >Staff 3 - Horizon 2</th>\n",
       "      <td id=\"T_19dda_row11_col0\" class=\"data row11 col0\" >0.000000</td>\n",
       "      <td id=\"T_19dda_row11_col1\" class=\"data row11 col1\" >0.000000</td>\n",
       "      <td id=\"T_19dda_row11_col2\" class=\"data row11 col2\" >0.000000</td>\n",
       "      <td id=\"T_19dda_row11_col3\" class=\"data row11 col3\" >0.000000</td>\n",
       "      <td id=\"T_19dda_row11_col4\" class=\"data row11 col4\" >0.000000</td>\n",
       "      <td id=\"T_19dda_row11_col5\" class=\"data row11 col5\" >0.000000</td>\n",
       "      <td id=\"T_19dda_row11_col6\" class=\"data row11 col6\" >0.000000</td>\n",
       "      <td id=\"T_19dda_row11_col7\" class=\"data row11 col7\" >0.000000</td>\n",
       "      <td id=\"T_19dda_row11_col8\" class=\"data row11 col8\" >0.000000</td>\n",
       "      <td id=\"T_19dda_row11_col9\" class=\"data row11 col9\" >0.000000</td>\n",
       "      <td id=\"T_19dda_row11_col10\" class=\"data row11 col10\" >0.000000</td>\n",
       "      <td id=\"T_19dda_row11_col11\" class=\"data row11 col11\" >0.000000</td>\n",
       "      <td id=\"T_19dda_row11_col12\" class=\"data row11 col12\" >0.000000</td>\n",
       "      <td id=\"T_19dda_row11_col13\" class=\"data row11 col13\" >0.000000</td>\n",
       "      <td id=\"T_19dda_row11_col14\" class=\"data row11 col14\" >0.000000</td>\n",
       "      <td id=\"T_19dda_row11_col15\" class=\"data row11 col15\" >0.000000</td>\n",
       "    </tr>\n",
       "    <tr>\n",
       "      <th id=\"T_19dda_level0_row12\" class=\"row_heading level0 row12\" >Staff 3 - Horizon 3</th>\n",
       "      <td id=\"T_19dda_row12_col0\" class=\"data row12 col0\" >0.000000</td>\n",
       "      <td id=\"T_19dda_row12_col1\" class=\"data row12 col1\" >0.000000</td>\n",
       "      <td id=\"T_19dda_row12_col2\" class=\"data row12 col2\" >-0.000000</td>\n",
       "      <td id=\"T_19dda_row12_col3\" class=\"data row12 col3\" >0.000000</td>\n",
       "      <td id=\"T_19dda_row12_col4\" class=\"data row12 col4\" >0.000000</td>\n",
       "      <td id=\"T_19dda_row12_col5\" class=\"data row12 col5\" >0.000000</td>\n",
       "      <td id=\"T_19dda_row12_col6\" class=\"data row12 col6\" >0.000000</td>\n",
       "      <td id=\"T_19dda_row12_col7\" class=\"data row12 col7\" >0.000000</td>\n",
       "      <td id=\"T_19dda_row12_col8\" class=\"data row12 col8\" >1.000000</td>\n",
       "      <td id=\"T_19dda_row12_col9\" class=\"data row12 col9\" >0.000000</td>\n",
       "      <td id=\"T_19dda_row12_col10\" class=\"data row12 col10\" >0.000000</td>\n",
       "      <td id=\"T_19dda_row12_col11\" class=\"data row12 col11\" >-0.000000</td>\n",
       "      <td id=\"T_19dda_row12_col12\" class=\"data row12 col12\" >0.000000</td>\n",
       "      <td id=\"T_19dda_row12_col13\" class=\"data row12 col13\" >0.000000</td>\n",
       "      <td id=\"T_19dda_row12_col14\" class=\"data row12 col14\" >-0.000000</td>\n",
       "      <td id=\"T_19dda_row12_col15\" class=\"data row12 col15\" >1.000000</td>\n",
       "    </tr>\n",
       "    <tr>\n",
       "      <th id=\"T_19dda_level0_row13\" class=\"row_heading level0 row13\" >Staff 3 - Horizon 4</th>\n",
       "      <td id=\"T_19dda_row13_col0\" class=\"data row13 col0\" >0.000000</td>\n",
       "      <td id=\"T_19dda_row13_col1\" class=\"data row13 col1\" >0.000000</td>\n",
       "      <td id=\"T_19dda_row13_col2\" class=\"data row13 col2\" >-0.000000</td>\n",
       "      <td id=\"T_19dda_row13_col3\" class=\"data row13 col3\" >0.000000</td>\n",
       "      <td id=\"T_19dda_row13_col4\" class=\"data row13 col4\" >0.000000</td>\n",
       "      <td id=\"T_19dda_row13_col5\" class=\"data row13 col5\" >0.000000</td>\n",
       "      <td id=\"T_19dda_row13_col6\" class=\"data row13 col6\" >0.000000</td>\n",
       "      <td id=\"T_19dda_row13_col7\" class=\"data row13 col7\" >0.000000</td>\n",
       "      <td id=\"T_19dda_row13_col8\" class=\"data row13 col8\" >1.000000</td>\n",
       "      <td id=\"T_19dda_row13_col9\" class=\"data row13 col9\" >0.000000</td>\n",
       "      <td id=\"T_19dda_row13_col10\" class=\"data row13 col10\" >0.000000</td>\n",
       "      <td id=\"T_19dda_row13_col11\" class=\"data row13 col11\" >-0.000000</td>\n",
       "      <td id=\"T_19dda_row13_col12\" class=\"data row13 col12\" >0.000000</td>\n",
       "      <td id=\"T_19dda_row13_col13\" class=\"data row13 col13\" >0.000000</td>\n",
       "      <td id=\"T_19dda_row13_col14\" class=\"data row13 col14\" >-0.000000</td>\n",
       "      <td id=\"T_19dda_row13_col15\" class=\"data row13 col15\" >1.000000</td>\n",
       "    </tr>\n",
       "    <tr>\n",
       "      <th id=\"T_19dda_level0_row14\" class=\"row_heading level0 row14\" >Staff 3 - Horizon 5</th>\n",
       "      <td id=\"T_19dda_row14_col0\" class=\"data row14 col0\" >0.000000</td>\n",
       "      <td id=\"T_19dda_row14_col1\" class=\"data row14 col1\" >0.000000</td>\n",
       "      <td id=\"T_19dda_row14_col2\" class=\"data row14 col2\" >-0.000000</td>\n",
       "      <td id=\"T_19dda_row14_col3\" class=\"data row14 col3\" >0.000000</td>\n",
       "      <td id=\"T_19dda_row14_col4\" class=\"data row14 col4\" >0.000000</td>\n",
       "      <td id=\"T_19dda_row14_col5\" class=\"data row14 col5\" >0.000000</td>\n",
       "      <td id=\"T_19dda_row14_col6\" class=\"data row14 col6\" >0.000000</td>\n",
       "      <td id=\"T_19dda_row14_col7\" class=\"data row14 col7\" >0.000000</td>\n",
       "      <td id=\"T_19dda_row14_col8\" class=\"data row14 col8\" >-0.000000</td>\n",
       "      <td id=\"T_19dda_row14_col9\" class=\"data row14 col9\" >0.000000</td>\n",
       "      <td id=\"T_19dda_row14_col10\" class=\"data row14 col10\" >0.000000</td>\n",
       "      <td id=\"T_19dda_row14_col11\" class=\"data row14 col11\" >-0.000000</td>\n",
       "      <td id=\"T_19dda_row14_col12\" class=\"data row14 col12\" >0.000000</td>\n",
       "      <td id=\"T_19dda_row14_col13\" class=\"data row14 col13\" >0.000000</td>\n",
       "      <td id=\"T_19dda_row14_col14\" class=\"data row14 col14\" >-0.000000</td>\n",
       "      <td id=\"T_19dda_row14_col15\" class=\"data row14 col15\" >0.000000</td>\n",
       "    </tr>\n",
       "    <tr>\n",
       "      <th id=\"T_19dda_level0_row15\" class=\"row_heading level0 row15\" >sum_row</th>\n",
       "      <td id=\"T_19dda_row15_col0\" class=\"data row15 col0\" >1.000000</td>\n",
       "      <td id=\"T_19dda_row15_col1\" class=\"data row15 col1\" >1.000000</td>\n",
       "      <td id=\"T_19dda_row15_col2\" class=\"data row15 col2\" >1.000000</td>\n",
       "      <td id=\"T_19dda_row15_col3\" class=\"data row15 col3\" >0.000000</td>\n",
       "      <td id=\"T_19dda_row15_col4\" class=\"data row15 col4\" >0.000000</td>\n",
       "      <td id=\"T_19dda_row15_col5\" class=\"data row15 col5\" >0.000000</td>\n",
       "      <td id=\"T_19dda_row15_col6\" class=\"data row15 col6\" >1.000000</td>\n",
       "      <td id=\"T_19dda_row15_col7\" class=\"data row15 col7\" >0.000000</td>\n",
       "      <td id=\"T_19dda_row15_col8\" class=\"data row15 col8\" >2.000000</td>\n",
       "      <td id=\"T_19dda_row15_col9\" class=\"data row15 col9\" >0.000000</td>\n",
       "      <td id=\"T_19dda_row15_col10\" class=\"data row15 col10\" >2.000000</td>\n",
       "      <td id=\"T_19dda_row15_col11\" class=\"data row15 col11\" >1.000000</td>\n",
       "      <td id=\"T_19dda_row15_col12\" class=\"data row15 col12\" >0.000000</td>\n",
       "      <td id=\"T_19dda_row15_col13\" class=\"data row15 col13\" >0.000000</td>\n",
       "      <td id=\"T_19dda_row15_col14\" class=\"data row15 col14\" >2.000000</td>\n",
       "      <td id=\"T_19dda_row15_col15\" class=\"data row15 col15\" >11.000000</td>\n",
       "    </tr>\n",
       "  </tbody>\n",
       "</table>\n"
      ],
      "text/plain": [
       "<pandas.io.formats.style.Styler at 0x1aac7de6620>"
      ]
     },
     "execution_count": 858,
     "metadata": {},
     "output_type": "execute_result"
    }
   ],
   "source": [
    "def highlight_cells(val):\n",
    "    color = 'yellow' if val == 1 else 'red' if val > 1 else ''\n",
    "    return 'background-color: %s' % color\n",
    "\n",
    "df.style.applymap(highlight_cells)"
   ]
  },
  {
   "attachments": {},
   "cell_type": "markdown",
   "id": "87025782",
   "metadata": {},
   "source": [
    "## 10) Explo"
   ]
  },
  {
   "cell_type": "code",
   "execution_count": 63,
   "id": "ea4e74c4",
   "metadata": {},
   "outputs": [
    {
     "name": "stdout",
     "output_type": "stream",
     "text": [
      "65.0 2.0 3.0\n"
     ]
    }
   ],
   "source": [
    "sum_assignation=0\n",
    "moyenne_assignation=0\n",
    "for staff in range(staffs):\n",
    "    sum_assignation+=sum_staff_jobs[staff].x\n",
    "\n",
    "moyenne_assignation=sum_assignation/len(sum_staff_jobs)\n",
    "\n",
    "print(model.objVal, round(moyenne_assignation,2), Max_duration_lenght.x)"
   ]
  },
  {
   "cell_type": "code",
   "execution_count": 64,
   "id": "801b90ae",
   "metadata": {},
   "outputs": [],
   "source": [
    "# Save the model to a file\n",
    "model.write(\"Results/gurobi_models/model_\"+path.split(\"/\")[-1].split('.')[0]+\".rlp\")"
   ]
  },
  {
   "cell_type": "code",
   "execution_count": 65,
   "id": "9a524b19",
   "metadata": {},
   "outputs": [],
   "source": [
    "def dominated_p(pareto_points):\n",
    "    dominated_points = []\n",
    "    n = len(points)\n",
    "    for i in range(n):\n",
    "        for j in range(n):\n",
    "            if i == j:\n",
    "                continue\n",
    "            if all(points[j][k] <= points[i][k] for k in range(3)) and any(points[j][k] < points[i][k] for k in range(3)):\n",
    "                dominated_points.append(i)\n",
    "                break\n",
    "    return [point for i, point in enumerate(points) if i not in dominated_points]\n"
   ]
  }
 ],
 "metadata": {
  "kernelspec": {
   "display_name": "Python 3 (ipykernel)",
   "language": "python",
   "name": "python3"
  },
  "language_info": {
   "codemirror_mode": {
    "name": "ipython",
    "version": 3
   },
   "file_extension": ".py",
   "mimetype": "text/x-python",
   "name": "python",
   "nbconvert_exporter": "python",
   "pygments_lexer": "ipython3",
   "version": "3.10.7"
  },
  "vscode": {
   "interpreter": {
    "hash": "c1d80ad67319cdf01eb41b135f33e23f51f5b7f0fa6cd51dd5f6d9ed8aa4c9a6"
   }
  }
 },
 "nbformat": 4,
 "nbformat_minor": 5
}
