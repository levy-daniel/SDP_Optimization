{
 "cells": [
  {
   "cell_type": "markdown",
   "id": "2481595c",
   "metadata": {},
   "source": [
    "## Frameworks"
   ]
  },
  {
   "cell_type": "code",
   "execution_count": 1,
   "id": "9d5b1fdd",
   "metadata": {},
   "outputs": [],
   "source": [
    "import gurobipy as gp\n",
    "from gurobipy import GRB\n",
    "import json\n",
    "import numpy as np\n",
    "import pandas as pd\n",
    "import time\n",
    "import matplotlib.pyplot as plt"
   ]
  },
  {
   "cell_type": "markdown",
   "id": "3cf4d4ed",
   "metadata": {},
   "source": [
    "## 1) Load Instance"
   ]
  },
  {
   "cell_type": "code",
   "execution_count": 2,
   "id": "b1760e52",
   "metadata": {},
   "outputs": [],
   "source": [
    "start = time.time()"
   ]
  },
  {
   "cell_type": "code",
   "execution_count": 3,
   "id": "46f90a5b",
   "metadata": {},
   "outputs": [],
   "source": [
    "#path=\"instances/test.json\"\n",
    "path=\"instances/toy_instance.json\"\n",
    "#path=\"instances/medium_instance.json\"\n",
    "#path=\"instances/large_instance.json\"\n",
    "\n",
    "# JSON file\n",
    "f = open (path, \"r\")\n",
    "  \n",
    "# Reading from file\n",
    "data = json.loads(f.read())"
   ]
  },
  {
   "cell_type": "code",
   "execution_count": 4,
   "id": "3f435815",
   "metadata": {},
   "outputs": [],
   "source": [
    "# Gains\n",
    "Gm=[]\n",
    "for job in data[\"jobs\"]:\n",
    "    Gm.append(job['gain'])\n",
    "Gm=np.array(Gm)\n",
    "\n",
    "# Penalty\n",
    "Pm=[]\n",
    "for job in data[\"jobs\"]:\n",
    "    Pm.append(job['daily_penalty'])\n",
    "Pm=np.array(Pm)\n",
    "\n",
    "# Due Date\n",
    "Dm=[]\n",
    "for job in data[\"jobs\"]:\n",
    "    Dm.append(job['due_date'])\n",
    "Dm=np.array(Dm)\n",
    "\n",
    "# Penalty per day\n",
    "Penalty=[]\n",
    "for job in data[\"jobs\"]:\n",
    "    job_penalty=[]\n",
    "    p=0\n",
    "    for t in range(data[\"horizon\"]):\n",
    "        if (t>job[\"due_date\"]-1):\n",
    "            p+=job[\"daily_penalty\"]\n",
    "        job_penalty.append(p)\n",
    "    Penalty.append(job_penalty)\n",
    "Penalty=np.array(Penalty)\n",
    "\n",
    "# Profit per day\n",
    "Profit=[]\n",
    "for job in data[\"jobs\"]:\n",
    "    job_benef=[]\n",
    "    p=job['gain']\n",
    "    for t in range(data[\"horizon\"]):\n",
    "        if (t>job[\"due_date\"]-1):\n",
    "            p-=job[\"daily_penalty\"]\n",
    "        job_benef.append(p)\n",
    "    Profit.append(job_benef)\n",
    "Profit=np.array(Profit)\n",
    "\n",
    "# Vacations per day and per employee\n",
    "Vacations=[]\n",
    "for e in data[\"staff\"]:\n",
    "    e_planning=[]\n",
    "    v=e['vacations']\n",
    "    for t in range(data[\"horizon\"]):\n",
    "        if (t+1 in v):\n",
    "            e_planning.append(1)\n",
    "        else:\n",
    "            e_planning.append(0)\n",
    "    Vacations.append(e_planning)\n",
    "Vacations=np.array(Vacations)\n",
    "\n",
    "# Employee qualifications\n",
    "Qualifications_staff=[]\n",
    "for staff in data[\"staff\"]:\n",
    "    list_staff=[]\n",
    "    for q in data[\"qualifications\"]:\n",
    "        if(q in staff[\"qualifications\"]):\n",
    "            list_staff.append(1)\n",
    "        else:\n",
    "            list_staff.append(0)\n",
    "    Qualifications_staff.append(list_staff)\n",
    "Qualifications_staff = np.array(Qualifications_staff)\n",
    "\n",
    "# Jobs Qualifications\n",
    "Qualifications_job=[]\n",
    "for job in data[\"jobs\"]:\n",
    "    #working_days_per_qualification\n",
    "    list_job=[]\n",
    "    for q in data[\"qualifications\"]:\n",
    "        try:\n",
    "            val=job['working_days_per_qualification'][q]\n",
    "        except:\n",
    "            val=0\n",
    "        list_job.append(val)\n",
    "    Qualifications_job.append(list_job)\n",
    "Qualifications_job=np.array(Qualifications_job)"
   ]
  },
  {
   "cell_type": "markdown",
   "id": "85bfd93b",
   "metadata": {},
   "source": [
    "## 2) Model"
   ]
  },
  {
   "cell_type": "code",
   "execution_count": 5,
   "id": "ff8425e9",
   "metadata": {},
   "outputs": [
    {
     "name": "stdout",
     "output_type": "stream",
     "text": [
      "Set parameter Username\n",
      "Academic license - for non-commercial use only - expires 2023-12-29\n"
     ]
    }
   ],
   "source": [
    "###\n",
    "# MODEL\n",
    "model = gp.Model()\n",
    "\n",
    "horizon=data[\"horizon\"]\n",
    "qualifs=len(data[\"qualifications\"])\n",
    "projects=len(data[\"jobs\"])\n",
    "staffs=len(data[\"staff\"])"
   ]
  },
  {
   "cell_type": "markdown",
   "id": "1a61da37",
   "metadata": {},
   "source": [
    "## 3) Variables"
   ]
  },
  {
   "cell_type": "code",
   "execution_count": 6,
   "id": "912db859",
   "metadata": {},
   "outputs": [],
   "source": [
    "###\n",
    "# VARIABLES\n",
    "\n",
    "# Planning \n",
    "Planning = model.addMVar(\n",
    "                        shape=(staffs,horizon,projects,qualifs),\n",
    "                        vtype=GRB.BINARY,\n",
    "                        name=\"Planning\"\n",
    "                        )\n",
    "\n",
    "# Delay \n",
    "Delay_project = model.addVars(\n",
    "                                projects,\n",
    "                                lb=0,\n",
    "                                ub=horizon,\n",
    "                                vtype=GRB.INTEGER,\n",
    "                                name=\"Delay_project\"\n",
    "                            ) \n",
    "\n",
    "# End Date \n",
    "End_project = model.addVars(\n",
    "                                projects,\n",
    "                                lb=1,\n",
    "                                ub=horizon,\n",
    "                                vtype=GRB.INTEGER,\n",
    "                                name=\"End_project\"\n",
    "                            ) \n",
    "\n",
    "# Realisation Boolean\n",
    "Realisation = model.addVars(\n",
    "                                projects,\n",
    "                                vtype=GRB.BINARY,\n",
    "                                name=\"Realisation\"\n",
    "                            )\n",
    "\n",
    "# Begin \n",
    "\n",
    "Begin_project = model.addVars(\n",
    "                                projects,\n",
    "                                lb=1,\n",
    "                                ub=horizon,\n",
    "                                vtype=GRB.INTEGER,\n",
    "                                name=\"End_project\"\n",
    "                            ) "
   ]
  },
  {
   "cell_type": "markdown",
   "id": "9c6c6007",
   "metadata": {},
   "source": [
    "## 4) Constraints"
   ]
  },
  {
   "cell_type": "code",
   "execution_count": 7,
   "id": "dca64a2b",
   "metadata": {},
   "outputs": [
    {
     "name": "stdout",
     "output_type": "stream",
     "text": [
      "Warning for adding constraints: zero or small (< 1e-13) coefficients, ignored\n",
      "#8 Begin Date to compute Z3\n",
      "#9 Don't begin a project that is not done\n"
     ]
    }
   ],
   "source": [
    "###\n",
    "# CONSTRAINTS\n",
    "\n",
    "#1 Uicity of affectation \n",
    "model.addConstrs(\n",
    "    (gp.quicksum(gp.quicksum(Planning[staff][t]))<= 1\n",
    "        for staff in range(len(data[\"staff\"]))\n",
    "        for t in range(data[\"horizon\"])\n",
    "    ),\n",
    "    name=\"staff_qualif_unicity\"\n",
    ") \n",
    "\n",
    "#2 Vacations\n",
    "model.addConstrs(\n",
    "    (Planning[staff][t][job][qualif]<=1-Vacations[staff][t] \n",
    "        for staff in range(len(data[\"staff\"]))\n",
    "        for t in range(data[\"horizon\"])\n",
    "        for job in range(len(data[\"jobs\"]))\n",
    "        for qualif in range(len(data[\"qualifications\"]))\n",
    "    ),\n",
    "    name=\"Vacations_constraint\"\n",
    ") \n",
    "\n",
    "\n",
    "#3 Qualification staff\n",
    "model.addConstrs(\n",
    "    (Planning[staff][t][job][qualif]<=Qualifications_staff[staff][qualif]\n",
    "        for staff in range(len(data[\"staff\"]))\n",
    "        for t in range(data[\"horizon\"])\n",
    "        for job in range(len(data[\"jobs\"]))\n",
    "        for qualif in range(len(data[\"qualifications\"]))\n",
    "    ),\n",
    "    name=\"Qualif_staff_constraint\"\n",
    ") \n",
    "\n",
    "\n",
    "# Definition d'une liste de la somme des temps de qualifs par projet\n",
    "Max_temp_qualif_job=[]\n",
    "for job in range(len(data[\"jobs\"])):\n",
    "    l_job=[]\n",
    "    for qualif in range(len(data[\"qualifications\"])):\n",
    "        temp_qualif_job=0\n",
    "        for t in range(data[\"horizon\"]):\n",
    "            for staff in range(len(data[\"staff\"])):\n",
    "                temp_qualif_job+=Planning[staff][t][job][qualif]\n",
    "        l_job.append(temp_qualif_job)\n",
    "    Max_temp_qualif_job.append(l_job)\n",
    "Max_temp_qualif_job\n",
    "\n",
    "\n",
    "#4 Couverture des qualifs => realisation\n",
    "model.addConstrs(\n",
    "        (Max_temp_qualif_job[job][qualif] >= Realisation[job] *  Qualifications_job[job][qualif]\n",
    "            for job in range(len(data[\"jobs\"]))\n",
    "            for qualif in range(len(data[\"qualifications\"]))\n",
    "        ), name = \"cover_qualif\"\n",
    ")\n",
    "\n",
    "#5 Unicity realisation\n",
    "model.addConstrs(\n",
    "    (Max_temp_qualif_job[job][qualif] <= Qualifications_job[job][qualif]\n",
    "            for job in range(len(data[\"jobs\"]))\n",
    "            for qualif in range(len(data[\"qualifications\"]))\n",
    "), name = \"project_done_once\")\n",
    "\n",
    "#6 end project \n",
    "model.addConstrs(\n",
    "   (Planning[staff][t][job][qualif] * t+1 <= End_project[job]\n",
    "        for staff in range(len(data[\"staff\"]))\n",
    "        for t in range(data[\"horizon\"])\n",
    "        for job in range(len(data[\"jobs\"]))\n",
    "        for qualif in range(len(data[\"qualifications\"]))\n",
    "), name = \"end_project_date\")\n",
    "\n",
    "#7 Delay \n",
    "model.addConstrs(\n",
    "    (End_project[job] - Dm[job] <= Delay_project[job]\n",
    "       for job in range(len(data[\"jobs\"]))\n",
    "    ), name=\"delay_project\"\n",
    ")\n",
    "\n",
    "#8 Begin Date to compute Z3\n",
    "print(\"#8 Begin Date to compute Z3\")\n",
    "model.addConstrs(\n",
    "   ( Begin_project[job]==1\n",
    "        for staff in range(len(data[\"staff\"]))\n",
    "        for t in range(data[\"horizon\"])\n",
    "        for job in range(len(data[\"jobs\"]))\n",
    "        for qualif in range(len(data[\"qualifications\"]))\n",
    "), name = \"Begin_project_date\")\n",
    "\n",
    "#9 Don't begin a project that is not done\n",
    "print(\"#9 Don't begin a project that is not done\")\n",
    "\n"
   ]
  },
  {
   "cell_type": "markdown",
   "id": "5a324d9c",
   "metadata": {},
   "source": [
    "## 5) Objectives"
   ]
  },
  {
   "cell_type": "code",
   "execution_count": 8,
   "id": "2d76e748",
   "metadata": {},
   "outputs": [],
   "source": [
    "model.ModelSense = GRB.MAXIMIZE"
   ]
  },
  {
   "cell_type": "markdown",
   "id": "06804c28",
   "metadata": {},
   "source": [
    "### Z1: Maximize Profit"
   ]
  },
  {
   "cell_type": "code",
   "execution_count": 9,
   "id": "4a34787c",
   "metadata": {},
   "outputs": [],
   "source": [
    "# Objectif Unique : \n",
    "# Z1 = gp.quicksum(Realisation.values()*(Gm-Pm*Delay_project.values()))\n",
    "# model.setObjective(Z1,GRB.MAXIMIZE)"
   ]
  },
  {
   "cell_type": "code",
   "execution_count": 10,
   "id": "8249be68",
   "metadata": {},
   "outputs": [],
   "source": [
    "# ici on suppose que si le projet n'est pas réalisé alors il n'est pas commencé donc pas de delay ?\n",
    "# à vérifier ! (ajouter constraint #9 ?)\n",
    "\n",
    "Z1 = gp.quicksum((Realisation.values()*Gm)-(Pm*Delay_project.values()))"
   ]
  },
  {
   "cell_type": "code",
   "execution_count": 11,
   "id": "223f2e70",
   "metadata": {},
   "outputs": [],
   "source": [
    "model.setObjectiveN(\n",
    "    Z1, \n",
    "    index=0, \n",
    "    priority=3, \n",
    "    name='Profit', \n",
    "    weight=1)"
   ]
  },
  {
   "cell_type": "markdown",
   "id": "501c63ee",
   "metadata": {},
   "source": [
    "### Z2: Minimize Number of Projects per Employee"
   ]
  },
  {
   "cell_type": "code",
   "execution_count": 12,
   "id": "69b7c64c",
   "metadata": {},
   "outputs": [],
   "source": [
    "Include_Z2 = True"
   ]
  },
  {
   "cell_type": "code",
   "execution_count": 13,
   "id": "1b5ed2db",
   "metadata": {},
   "outputs": [],
   "source": [
    "# Jobs done by one staff\n",
    "jobs_staffeur = model.addMVar(shape=(staffs,projects),vtype=GRB.BINARY,name=\"jobs_staffeur\")\n",
    "\n",
    "for staff in range(staffs):\n",
    "    for job in range(projects):\n",
    "        val=[]\n",
    "        for t in range(horizon):\n",
    "            for qualif in range(qualifs):\n",
    "                val.append(Planning[staff][t][job][qualif])\n",
    "        #real_jobs_staffeur[staff][job]=max(val)\n",
    "        model.addConstr((jobs_staffeur[staff][job] == gp.max_(val)))\n",
    "\n",
    "# Sum of all jobs for one staff\n",
    "sum_staff_jobs = model.addVars(staffs,vtype=GRB.INTEGER, name=\"sum_staff_jobs\")         \n",
    "\n",
    "for staff in range(staffs):\n",
    "    model.addConstr((sum_staff_jobs[staff]==gp.quicksum(jobs_staffeur[staff])))\n"
   ]
  },
  {
   "cell_type": "code",
   "execution_count": 14,
   "id": "c1658bc4",
   "metadata": {},
   "outputs": [],
   "source": [
    "if Include_Z2:\n",
    "    for staff in range(staffs):\n",
    "        model.setObjectiveN(sum_staff_jobs[staff], \n",
    "                            index=1+staff, \n",
    "                            priority=2, \n",
    "                            weight=-1)  #weight = -1 to minimize\n"
   ]
  },
  {
   "cell_type": "markdown",
   "id": "b8aaf937",
   "metadata": {},
   "source": [
    "### Z3: Minimize Realisation Time"
   ]
  },
  {
   "cell_type": "code",
   "execution_count": 15,
   "id": "59ee8970",
   "metadata": {},
   "outputs": [],
   "source": [
    "Include_Z3 = False\n",
    "Include_Z3_test= True"
   ]
  },
  {
   "cell_type": "code",
   "execution_count": 16,
   "id": "d981fd38",
   "metadata": {
    "scrolled": false
   },
   "outputs": [
    {
     "data": {
      "text/plain": [
       "'Begin_project = model.addVars(projects, lb=1, ub=horizon, vtype=gp.GRB.INTEGER)\\n\\nfor job in range(projects):\\n    print(gp.min_(days_project[job]))\\n    print(Begin_project[job])\\n    model.addConstr(Begin_project[job] == gp.min_(days_project[job]))'"
      ]
     },
     "execution_count": 16,
     "metadata": {},
     "output_type": "execute_result"
    }
   ],
   "source": [
    "days_project = model.addMVar((projects,horizon), vtype=gp.GRB.INTEGER)\n",
    "\n",
    "## création d'une liste pour chaque jour met soit 0 si le projet n'est pas travaillé soit le jour en question\n",
    "## l'idée est d'ensuite récupérer le min de cette liste\n",
    "for job in range(projects):\n",
    "    for t in range(horizon):\n",
    "        for staff in range(staffs):\n",
    "            for qualif in range(qualifs):\n",
    "                                                    #>= (1 ou 0) * le jour =>si le jour 2 est travaillé on aura 2\n",
    "                model.addConstr(days_project[job][t] >= Planning[staff][t][job][qualif]*(t+1))\n",
    "\n",
    "## Je suis en train d'essayer de dire que Begin_project est le minimum de la liste précédemment construite \n",
    "\"\"\"Begin_project = model.addVars(projects, lb=1, ub=horizon, vtype=gp.GRB.INTEGER)\n",
    "\n",
    "for job in range(projects):\n",
    "    print(gp.min_(days_project[job]))\n",
    "    print(Begin_project[job])\n",
    "    model.addConstr(Begin_project[job] == gp.min_(days_project[job]))\"\"\"\n"
   ]
  },
  {
   "cell_type": "code",
   "execution_count": 17,
   "id": "184002cf",
   "metadata": {},
   "outputs": [
    {
     "data": {
      "text/plain": [
       "'Begin_project = model.addVars(projects, lb=0, ub=horizon, vtype=gp.GRB.INTEGER)\\n\\nfor job in range(projects):\\n    for t in range(horizon):\\n        for staff in range(staffs):\\n            for qualif in range(qualifs):\\n                model.addConstr(Begin_project[job] >= Planning[staff][t][job][qualif]*t+1)'"
      ]
     },
     "execution_count": 17,
     "metadata": {},
     "output_type": "execute_result"
    }
   ],
   "source": [
    "\"\"\"Begin_project = model.addVars(projects, lb=0, ub=horizon, vtype=gp.GRB.INTEGER)\n",
    "\n",
    "for job in range(projects):\n",
    "    for t in range(horizon):\n",
    "        for staff in range(staffs):\n",
    "            for qualif in range(qualifs):\n",
    "                model.addConstr(Begin_project[job] >= Planning[staff][t][job][qualif]*t+1)\"\"\""
   ]
  },
  {
   "cell_type": "code",
   "execution_count": 18,
   "id": "1b518267",
   "metadata": {},
   "outputs": [],
   "source": [
    "if Include_Z3_test:\n",
    "    for job in range(projects):\n",
    "        model.setObjectiveN((End_project[job]-Begin_project[job]) , \n",
    "                            index=1+job, \n",
    "                            priority=3, \n",
    "                            weight=-1)  #weight = -1 to minimize"
   ]
  },
  {
   "cell_type": "code",
   "execution_count": 19,
   "id": "49719e81",
   "metadata": {},
   "outputs": [],
   "source": [
    "if Include_Z3:\n",
    "    for job in range(projects):\n",
    "        model.setObjectiveN((End_project[job]-Begin_project[job]) , \n",
    "                            index=1+job, \n",
    "                            priority=3, \n",
    "                            weight=-1)  #weight = -1 to minimize"
   ]
  },
  {
   "cell_type": "markdown",
   "id": "bccf66ff",
   "metadata": {},
   "source": [
    "## 6) Optimize"
   ]
  },
  {
   "cell_type": "code",
   "execution_count": 20,
   "id": "e4ed23cf",
   "metadata": {},
   "outputs": [],
   "source": [
    "# epsilon"
   ]
  },
  {
   "cell_type": "code",
   "execution_count": 21,
   "id": "621069d4",
   "metadata": {},
   "outputs": [
    {
     "name": "stdout",
     "output_type": "stream",
     "text": [
      "Gurobi Optimizer version 10.0.0 build v10.0.0rc2 (mac64[x86])\n",
      "\n",
      "CPU model: Intel(R) Core(TM) i5-8259U CPU @ 2.30GHz\n",
      "Thread count: 4 physical cores, 8 logical processors, using up to 8 threads\n",
      "\n",
      "Optimize a model with 1178 rows, 288 columns and 2243 nonzeros\n",
      "Model fingerprint: 0x9b61b1a7\n",
      "Model has 15 general constraints\n",
      "Variable types: 0 continuous, 288 integer (245 binary)\n",
      "Coefficient statistics:\n",
      "  Matrix range     [1e+00, 5e+00]\n",
      "  Objective range  [1e+00, 2e+01]\n",
      "  Bounds range     [1e+00, 5e+00]\n",
      "  RHS range        [1e+00, 5e+00]\n",
      "\n",
      "---------------------------------------------------------------------------\n",
      "Multi-objectives: starting optimization with 6 objectives (1 combined) ...\n",
      "---------------------------------------------------------------------------\n",
      "---------------------------------------------------------------------------\n",
      "\n",
      "Multi-objectives: optimize objective 1 (weighted) ...\n",
      "---------------------------------------------------------------------------\n",
      "\n",
      "Optimize a model with 1178 rows, 288 columns and 2243 nonzeros\n",
      "Model fingerprint: 0x9707db78\n",
      "Model has 15 general constraints\n",
      "Variable types: 0 continuous, 288 integer (245 binary)\n",
      "Coefficient statistics:\n",
      "  Matrix range     [1e+00, 5e+00]\n",
      "  Objective range  [1e+00, 2e+01]\n",
      "  Bounds range     [1e+00, 5e+00]\n",
      "  RHS range        [1e+00, 5e+00]\n",
      "Found heuristic solution: objective -0.0000000\n",
      "Presolve removed 1105 rows and 184 columns\n",
      "Presolve time: 0.00s\n",
      "Presolved: 73 rows, 104 columns, 400 nonzeros\n",
      "Variable types: 0 continuous, 104 integer (96 binary)\n",
      "\n",
      "Root relaxation: objective 6.935897e+01, 97 iterations, 0.00 seconds (0.00 work units)\n",
      "\n",
      "    Nodes    |    Current Node    |     Objective Bounds      |     Work\n",
      " Expl Unexpl |  Obj  Depth IntInf | Incumbent    BestBd   Gap | It/Node Time\n",
      "\n",
      "     0     0   69.35897    0   47   -0.00000   69.35897      -     -    0s\n",
      "H    0     0                       5.0000000   69.35897  1287%     -    0s\n",
      "H    0     0                      26.0000000   69.35897   167%     -    0s\n",
      "H    0     0                      42.0000000   69.35897  65.1%     -    0s\n",
      "H    0     0                      50.0000000   60.49768  21.0%     -    0s\n",
      "     0     0   60.49768    0   44   50.00000   60.49768  21.0%     -    0s\n",
      "H    0     0                      53.0000000   60.49768  14.1%     -    0s\n",
      "H    0     0                      54.0000000   60.49768  12.0%     -    0s\n",
      "     0     0   60.29073    0   42   54.00000   60.29073  11.6%     -    0s\n",
      "     0     0   59.97809    0   50   54.00000   59.97809  11.1%     -    0s\n",
      "     0     0   59.97809    0   50   54.00000   59.97809  11.1%     -    0s\n",
      "     0     0   59.78728    0   55   54.00000   59.78728  10.7%     -    0s\n",
      "     0     0   59.75984    0   54   54.00000   59.75984  10.7%     -    0s\n",
      "     0     0   59.74257    0   55   54.00000   59.74257  10.6%     -    0s\n",
      "     0     0   59.73755    0   55   54.00000   59.73755  10.6%     -    0s\n",
      "     0     0   59.73634    0   55   54.00000   59.73634  10.6%     -    0s\n",
      "H    0     0                      55.0000000   59.73634  8.61%     -    0s\n",
      "     0     0   59.34633    0   53   55.00000   59.34633  7.90%     -    0s\n",
      "     0     0   59.32777    0   53   55.00000   59.32777  7.87%     -    0s\n",
      "     0     0   59.32316    0   54   55.00000   59.32316  7.86%     -    0s\n",
      "     0     0   59.27743    0   53   55.00000   59.27743  7.78%     -    0s\n",
      "     0     0   59.26547    0   53   55.00000   59.26547  7.76%     -    0s\n",
      "     0     0   59.25694    0   52   55.00000   59.25694  7.74%     -    0s\n",
      "     0     0   59.24980    0   52   55.00000   59.24980  7.73%     -    0s\n",
      "     0     0   59.24979    0   54   55.00000   59.24979  7.73%     -    0s\n",
      "     0     0   59.24156    0   54   55.00000   59.24156  7.71%     -    0s\n",
      "     0     2   59.08921    0   53   55.00000   59.08921  7.43%     -    0s\n",
      "\n",
      "Cutting planes:\n",
      "  Learned: 8\n",
      "  Gomory: 9\n",
      "  Cover: 1\n",
      "  Implied bound: 2\n",
      "  MIR: 18\n",
      "  Zero half: 5\n",
      "  Relax-and-lift: 7\n",
      "\n",
      "Explored 79 nodes (1634 simplex iterations) in 0.19 seconds (0.06 work units)\n",
      "Thread count was 8 (of 8 available processors)\n",
      "\n",
      "Solution count 8: 55 54 53 ... -0\n",
      "\n",
      "Optimal solution found (tolerance 1.00e-04)\n",
      "Best objective 5.500000000000e+01, best bound 5.500000000000e+01, gap 0.0000%\n",
      "\n",
      "---------------------------------------------------------------------------\n",
      "Multi-objectives: solved in 0.20 seconds (0.06 work units), solution count 8\n",
      "\n"
     ]
    }
   ],
   "source": [
    "model.optimize()"
   ]
  },
  {
   "cell_type": "markdown",
   "id": "dd7689c7",
   "metadata": {},
   "source": [
    "## 7) Results"
   ]
  },
  {
   "cell_type": "code",
   "execution_count": 22,
   "id": "9b3d505b",
   "metadata": {},
   "outputs": [
    {
     "name": "stdout",
     "output_type": "stream",
     "text": [
      "Time taken:  1.32 seconds ||  0.02 minutes\n"
     ]
    }
   ],
   "source": [
    "end = time.time()\n",
    "print(\"Time taken: \", round(end - start,2), \"seconds || \",round((end - start)/60,2), \"minutes\" )\n",
    "# toy : 1s\n",
    "# medium : 53s\n",
    "#large : 3,7 min"
   ]
  },
  {
   "cell_type": "markdown",
   "id": "466a9395",
   "metadata": {},
   "source": [
    "### Objectives"
   ]
  },
  {
   "cell_type": "code",
   "execution_count": 23,
   "id": "6730f370",
   "metadata": {},
   "outputs": [
    {
     "name": "stdout",
     "output_type": "stream",
     "text": [
      "Z1: Maximize Profit\n",
      "\n",
      "Solution || Best \n",
      "  65.0   ||  80\n",
      "\n",
      "Details: Gain - Delay * Daily Penalty\n",
      "\n",
      "Job1 : 20 - 0 * 3\n",
      "Job2 : Not Done\n",
      "Job3 : 15 - 0 * 3\n",
      "Job4 : 20 - 0 * 3\n",
      "Job5 : 10 - 0 * 3\n",
      "------------\n",
      "Total = 65.0\n"
     ]
    }
   ],
   "source": [
    "# Z1\n",
    "print(\"Z1: Maximize Profit\\n\")\n",
    "print(\"Solution || Best \")\n",
    "print(\" \",model.objVal,\"  || \",Gm.sum())\n",
    "print(\"\\nDetails: Gain - Delay * Daily Penalty\\n\")\n",
    "for job in range(projects):\n",
    "    if(int(Realisation[job].x)==1):\n",
    "        print(data[\"jobs\"][job][\"name\"],\":\",data[\"jobs\"][job][\"gain\"],\"-\",int(Delay_project[job].x),\"*\",data[\"jobs\"][job][\"daily_penalty\"])\n",
    "    else:\n",
    "        print(data[\"jobs\"][job][\"name\"],\": Not Done\")\n",
    "print(\"------------\")\n",
    "print(\"Total =\",model.objVal)\n"
   ]
  },
  {
   "cell_type": "code",
   "execution_count": 24,
   "id": "e04a9d6b",
   "metadata": {},
   "outputs": [
    {
     "name": "stdout",
     "output_type": "stream",
     "text": [
      "Z2: Minimize Number of Projects per Employee\n",
      "\n",
      "Staff || Job(s) ||  Name\n",
      "  0   ||  4.0   ||  Olivia\n",
      "  1   ||  3.0   ||  Liam\n",
      "  2   ||  3.0   ||  Emma\n"
     ]
    }
   ],
   "source": [
    "# Z2\n",
    "print(\"Z2: Minimize Number of Projects per Employee\\n\")\n",
    "print(\"Staff || Job(s) ||  Name\")\n",
    "for i in range(len(data[\"staff\"])):\n",
    "    print(\" \",i,\"  || \",sum_staff_jobs[i].x,\"  || \",data[\"staff\"][i][\"name\"])"
   ]
  },
  {
   "cell_type": "code",
   "execution_count": 25,
   "id": "1d4feeb7",
   "metadata": {
    "scrolled": false
   },
   "outputs": [
    {
     "name": "stdout",
     "output_type": "stream",
     "text": [
      "Z3: Minimize Realisation Time\n",
      "\n",
      "  Job   || Begin ||  End  || Delta\n",
      "   1    ||  1.0  ||  3.0  ||  2.0\n",
      "   2    ||  1.0  ||  1.0  ||  0.0\n",
      "   3    ||  1.0  ||  4.0  ||  3.0\n",
      "   4    ||  1.0  ||  2.0  ||  1.0\n",
      "   5    ||  1.0  ||  5.0  ||  4.0\n"
     ]
    }
   ],
   "source": [
    "# Z3\n",
    "print(\"Z3: Minimize Realisation Time\\n\")\n",
    "print(\"  Job   || Begin ||  End  || Delta\")\n",
    "for i in range(len(data[\"jobs\"])):\n",
    "    print(\"  \",i+1,\"   || \",Begin_project[i].x,\" || \",End_project[i].x,\" || \",End_project[i].x-Begin_project[i].x)    "
   ]
  },
  {
   "cell_type": "code",
   "execution_count": 26,
   "id": "95814eb3",
   "metadata": {},
   "outputs": [
    {
     "name": "stdout",
     "output_type": "stream",
     "text": [
      "[ 1.  0.  3. -0. -0.]\n",
      "0.0\n",
      "[0. 0. 0. 0. 0.]\n",
      "0.0\n",
      "[-0.  0.  0.  4. -0.]\n",
      "-0.0\n",
      "[ 1.  2.  0. -0. -0.]\n",
      "0.0\n",
      "[-0.  0.  3.  0.  5.]\n",
      "-0.0\n"
     ]
    }
   ],
   "source": [
    "#Explo pour Z3\n",
    "for i in range(len(data[\"jobs\"])):\n",
    "    print(days_project[i].x)\n",
    "    print(min(days_project[i].x))"
   ]
  },
  {
   "cell_type": "code",
   "execution_count": 27,
   "id": "9ba1bb06",
   "metadata": {},
   "outputs": [
    {
     "data": {
      "text/plain": [
       "array([1., 5., 4., 1., 3.])"
      ]
     },
     "execution_count": 27,
     "metadata": {},
     "output_type": "execute_result"
    }
   ],
   "source": [
    "begin=np.zeros(projects)\n",
    "for job in range(projects):\n",
    "    val=[horizon]\n",
    "    for t in range(horizon):\n",
    "        for staff in range(staffs):\n",
    "            for qualif in range(qualifs):\n",
    "                if(int(Planning[staff][t][job][qualif].x)==1.0):\n",
    "                    val.append(t+1) \n",
    "    begin[job]=min(val)\n",
    "begin"
   ]
  },
  {
   "cell_type": "markdown",
   "id": "657873d7",
   "metadata": {},
   "source": [
    "### Constraints"
   ]
  },
  {
   "cell_type": "code",
   "execution_count": 28,
   "id": "28b46a4a",
   "metadata": {},
   "outputs": [
    {
     "name": "stdout",
     "output_type": "stream",
     "text": [
      "- Couverture Qualifications -\n",
      "\n",
      "Job1 True\n",
      " . A 1\n",
      " . B 1\n",
      " . C 1\n",
      "Expected [1 1 1]\n",
      "---\n",
      "Job2 False\n",
      " . A 0\n",
      " . B 0\n",
      " . C 0\n",
      "Expected [1 2 0]\n",
      "---\n",
      "Job3 True\n",
      " . A 1\n",
      " . B 0\n",
      " . C 2\n",
      "Expected [1 0 2]\n",
      "---\n",
      "Job4 True\n",
      " . A 0\n",
      " . B 2\n",
      " . C 1\n",
      "Expected [0 2 1]\n",
      "---\n",
      "Job5 True\n",
      " . A 0\n",
      " . B 0\n",
      " . C 2\n",
      "Expected [0 0 2]\n",
      "---\n"
     ]
    }
   ],
   "source": [
    "#Couverture qualif\n",
    "print(\"- Couverture Qualifications -\\n\")\n",
    "for job in range(len(data[\"jobs\"])):\n",
    "    print(data[\"jobs\"][job][\"name\"],int(Realisation[job].x)==1)\n",
    "    for qualif in range(qualifs):\n",
    "        val=0\n",
    "        for t in range(horizon):\n",
    "            for staff in range(staffs):\n",
    "                val+=int(Planning[staff][t][job][qualif].x)\n",
    "        print(\" .\",data[\"qualifications\"][qualif],val)\n",
    "    print(\"Expected\",Qualifications_job[job])\n",
    "    print(\"---\")"
   ]
  },
  {
   "cell_type": "code",
   "execution_count": 29,
   "id": "6cd34c93",
   "metadata": {},
   "outputs": [
    {
     "name": "stdout",
     "output_type": "stream",
     "text": [
      "- Due Dates -\n",
      "\n",
      "Project || Expected || End || Delay\n",
      "   1    ||     3    ||  3  ||  0\n",
      "   2    ||     3    ||  0  ||  0\n",
      "   3    ||     4    ||  4  ||  0\n",
      "   4    ||     3    ||  2  ||  0\n",
      "   5    ||     5    ||  5  ||  0\n"
     ]
    }
   ],
   "source": [
    "# Due dates\n",
    "print(\"- Due Dates -\\n\")\n",
    "print(\"Project || Expected || End || Delay\")\n",
    "for i in range(len(data[\"jobs\"])):\n",
    "    print(\"  \",i+1,\"   ||    \",data[\"jobs\"][i][\"due_date\"],\"   || \",int(Realisation[i].x*End_project[i].x),\" || \",int(Delay_project[i].x))"
   ]
  },
  {
   "cell_type": "code",
   "execution_count": 30,
   "id": "fd062e2f",
   "metadata": {},
   "outputs": [
    {
     "name": "stdout",
     "output_type": "stream",
     "text": [
      "- Unicité Affectation et Congés -\n",
      "\n",
      "Jour 1\n",
      " . Olivia 1\n",
      " . Liam 0 Vacation\n",
      " . Emma 1\n",
      "---\n",
      "Jour 2\n",
      " . Olivia 1\n",
      " . Liam 1\n",
      " . Emma 0 Vacation\n",
      "---\n",
      "Jour 3\n",
      " . Olivia 1\n",
      " . Liam 1\n",
      " . Emma 1\n",
      "---\n",
      "Jour 4\n",
      " . Olivia 1\n",
      " . Liam 1\n",
      " . Emma 1\n",
      "---\n",
      "Jour 5\n",
      " . Olivia 1\n",
      " . Liam 0\n",
      " . Emma 0\n",
      "---\n"
     ]
    }
   ],
   "source": [
    "# Unicité affectation et congé\n",
    "print(\"- Unicité Affectation et Congés -\\n\")\n",
    "for t in range(horizon):\n",
    "    print(\"Jour\",t+1)\n",
    "    for staff in range(staffs):\n",
    "        val=0\n",
    "        for job in range(len(data[\"jobs\"])):\n",
    "            for qualif in range(qualifs):\n",
    "                val+=int(Planning[staff][t][job][qualif].x)\n",
    "        vacation= t+1 in data[\"staff\"][staff][\"vacations\"]\n",
    "        if(vacation):\n",
    "            print(\" .\",data[\"staff\"][staff][\"name\"],val,\"Vacation\")\n",
    "        else:\n",
    "            print(\" .\",data[\"staff\"][staff][\"name\"],val)\n",
    "    print(\"---\")"
   ]
  },
  {
   "cell_type": "markdown",
   "id": "48725118",
   "metadata": {},
   "source": [
    "### Visualization"
   ]
  },
  {
   "cell_type": "code",
   "execution_count": 31,
   "id": "e9cb1fb4",
   "metadata": {},
   "outputs": [
    {
     "data": {
      "image/png": "[encoded data removed]",
      "text/plain": [
       "<Figure size 432x288 with 1 Axes>"
      ]
     },
     "metadata": {
      "needs_background": "light"
     },
     "output_type": "display_data"
    }
   ],
   "source": [
    "projects_duration = [Realisation[i].x*(End_project[i].x-Begin_project[i].x) for i in range(len(data[\"jobs\"]))]\n",
    "projects_names = [job[\"name\"] for job in data[\"jobs\"]]\n",
    "starts_dates=[Begin_project[i].x for i in range(len(data[\"jobs\"]))]\n",
    "\n",
    "plt.barh(projects_names, projects_duration,left= starts_dates, height=0.5)\n",
    "\n",
    "plt.xlim(0.5, horizon+0.5)\n",
    "plt.ylabel('Projets')\n",
    "plt.xlabel('Horizon')\n",
    "plt.title(\"Durée des projets par rapport à l'horizon\")\n",
    "\n",
    "plt.show()"
   ]
  },
  {
   "cell_type": "code",
   "execution_count": 32,
   "id": "6f7b54c3",
   "metadata": {},
   "outputs": [
    {
     "data": {
      "text/plain": [
       "{0: {0: (0, 1), 2: (2, 2)},\n",
       " 1: {},\n",
       " 2: {3: (2, 2)},\n",
       " 3: {0: (2, 2), 1: (1, 1)},\n",
       " 4: {2: (0, 2), 4: (0, 2)}}"
      ]
     },
     "execution_count": 32,
     "metadata": {},
     "output_type": "execute_result"
    }
   ],
   "source": [
    "res={}\n",
    "for job in range(projects):\n",
    "    val={}\n",
    "    for t in range(horizon):\n",
    "        for staff in range(staffs):\n",
    "            for qualif in range(qualifs):\n",
    "                if(int(Planning[staff][t][job][qualif].x)==1.0):\n",
    "                    val[t]=(staff,qualif)\n",
    "    res[job]=val\n",
    "res"
   ]
  },
  {
   "cell_type": "code",
   "execution_count": 33,
   "id": "4801538f",
   "metadata": {},
   "outputs": [
    {
     "data": {
      "image/png": "[encoded data removed]",
      "text/plain": [
       "<Figure size 360x360 with 5 Axes>"
      ]
     },
     "metadata": {
      "needs_background": "light"
     },
     "output_type": "display_data"
    }
   ],
   "source": [
    "staff_names=[data[\"staff\"][i][\"name\"] for i in range(staffs)]\n",
    "\n",
    "def create_chart(res):\n",
    "    projects_chart = len(res.keys())\n",
    "    fig, axs = plt.subplots(projects_chart, 1, figsize=(5, 5), sharex=True)\n",
    "    color_map = {}\n",
    "    for i in range(qualifs):\n",
    "        color_map[i]='C'+str(i)\n",
    "\n",
    "    for i, project in enumerate(res.keys()):\n",
    "        staff_qualifs = res[project]\n",
    "        staffs_chart= set([x[0] for x in staff_qualifs.values()])\n",
    "        staff_map = {staff: staff_names[staff] for i, staff in enumerate(staffs_chart)}\n",
    "        for t, (staff, qualif) in staff_qualifs.items():\n",
    "            axs[i].barh(staff_map[staff], 1, left=t, color=color_map[qualif])\n",
    "        axs[i].set_title(f'Job {project+1}')\n",
    "        axs[i].invert_yaxis()\n",
    "    \n",
    "    handles = [plt.Rectangle((0, 0), 1, 1, color=color, ec=\"k\") for color in color_map.values()]\n",
    "    labels = [f\"Qualification {data['qualifications'][i]}\" for i in color_map.keys()]\n",
    "    fig.legend(handles, labels, loc='upper right', bbox_to_anchor=(1.2, 1))\n",
    "    \n",
    "    plt.xlim(-0.5, horizon+0.5)\n",
    "    plt.xlabel(\"Horizon\")\n",
    "    plt.tight_layout()\n",
    "    plt.show()\n",
    "\n",
    "create_chart(res)\n"
   ]
  },
  {
   "cell_type": "code",
   "execution_count": 34,
   "id": "88ed5642",
   "metadata": {},
   "outputs": [],
   "source": [
    "# 4D matrix, Gurobi variables extraction\n",
    "matrix = np.array([[element.x for element in row] for row in Planning]).reshape(staffs, horizon, projects, qualifs)\n",
    "\n",
    "# 4D matrix to dataframe\n",
    "df = pd.DataFrame(np.reshape(matrix, (staffs * horizon, projects * qualifs)),\n",
    "                  columns=[f\"Project {i+1} - Qualification {j+1}\" for i in range(projects) for j in range(qualifs)],\n",
    "                  index=[f\"Staff {i+1} - Horizon {j+1}\" for i in range(staffs) for j in range(horizon)])\n",
    "\n",
    "# Add a row of sums\n",
    "df.loc['sum_row'] = df.sum()\n",
    "\n",
    "# Add a column of sums\n",
    "df['sum_column'] = df.sum(axis=1)\n",
    "\n",
    "df.to_csv(\"Results/planning_\"+path.split(\"/\")[-1].split('.')[0]+\".csv\",sep=\";\")"
   ]
  },
  {
   "cell_type": "code",
   "execution_count": 35,
   "id": "fc5baeb3",
   "metadata": {},
   "outputs": [
    {
     "data": {
      "text/html": [
       "<style type=\"text/css\">\n",
       "#T_cab35_row0_col0, #T_cab35_row0_col2, #T_cab35_row0_col3, #T_cab35_row0_col4, #T_cab35_row0_col5, #T_cab35_row0_col6, #T_cab35_row0_col7, #T_cab35_row0_col8, #T_cab35_row0_col9, #T_cab35_row0_col10, #T_cab35_row0_col11, #T_cab35_row0_col12, #T_cab35_row0_col13, #T_cab35_row0_col14, #T_cab35_row1_col0, #T_cab35_row1_col1, #T_cab35_row1_col2, #T_cab35_row1_col3, #T_cab35_row1_col4, #T_cab35_row1_col5, #T_cab35_row1_col6, #T_cab35_row1_col7, #T_cab35_row1_col8, #T_cab35_row1_col9, #T_cab35_row1_col11, #T_cab35_row1_col12, #T_cab35_row1_col13, #T_cab35_row1_col14, #T_cab35_row2_col0, #T_cab35_row2_col1, #T_cab35_row2_col2, #T_cab35_row2_col3, #T_cab35_row2_col4, #T_cab35_row2_col5, #T_cab35_row2_col6, #T_cab35_row2_col7, #T_cab35_row2_col8, #T_cab35_row2_col9, #T_cab35_row2_col10, #T_cab35_row2_col11, #T_cab35_row2_col12, #T_cab35_row2_col13, #T_cab35_row3_col0, #T_cab35_row3_col1, #T_cab35_row3_col2, #T_cab35_row3_col3, #T_cab35_row3_col4, #T_cab35_row3_col5, #T_cab35_row3_col6, #T_cab35_row3_col7, #T_cab35_row3_col9, #T_cab35_row3_col10, #T_cab35_row3_col11, #T_cab35_row3_col12, #T_cab35_row3_col13, #T_cab35_row3_col14, #T_cab35_row4_col0, #T_cab35_row4_col1, #T_cab35_row4_col2, #T_cab35_row4_col3, #T_cab35_row4_col4, #T_cab35_row4_col5, #T_cab35_row4_col6, #T_cab35_row4_col7, #T_cab35_row4_col8, #T_cab35_row4_col9, #T_cab35_row4_col10, #T_cab35_row4_col11, #T_cab35_row4_col12, #T_cab35_row4_col13, #T_cab35_row5_col0, #T_cab35_row5_col1, #T_cab35_row5_col2, #T_cab35_row5_col3, #T_cab35_row5_col4, #T_cab35_row5_col5, #T_cab35_row5_col6, #T_cab35_row5_col7, #T_cab35_row5_col8, #T_cab35_row5_col9, #T_cab35_row5_col10, #T_cab35_row5_col11, #T_cab35_row5_col12, #T_cab35_row5_col13, #T_cab35_row5_col14, #T_cab35_row5_col15, #T_cab35_row6_col0, #T_cab35_row6_col1, #T_cab35_row6_col2, #T_cab35_row6_col3, #T_cab35_row6_col4, #T_cab35_row6_col5, #T_cab35_row6_col6, #T_cab35_row6_col7, #T_cab35_row6_col8, #T_cab35_row6_col9, #T_cab35_row6_col11, #T_cab35_row6_col12, #T_cab35_row6_col13, #T_cab35_row6_col14, #T_cab35_row7_col1, #T_cab35_row7_col2, #T_cab35_row7_col3, #T_cab35_row7_col4, #T_cab35_row7_col5, #T_cab35_row7_col6, #T_cab35_row7_col7, #T_cab35_row7_col8, #T_cab35_row7_col9, #T_cab35_row7_col10, #T_cab35_row7_col11, #T_cab35_row7_col12, #T_cab35_row7_col13, #T_cab35_row7_col14, #T_cab35_row8_col0, #T_cab35_row8_col1, #T_cab35_row8_col2, #T_cab35_row8_col3, #T_cab35_row8_col4, #T_cab35_row8_col5, #T_cab35_row8_col7, #T_cab35_row8_col8, #T_cab35_row8_col9, #T_cab35_row8_col10, #T_cab35_row8_col11, #T_cab35_row8_col12, #T_cab35_row8_col13, #T_cab35_row8_col14, #T_cab35_row9_col0, #T_cab35_row9_col1, #T_cab35_row9_col2, #T_cab35_row9_col3, #T_cab35_row9_col4, #T_cab35_row9_col5, #T_cab35_row9_col6, #T_cab35_row9_col7, #T_cab35_row9_col8, #T_cab35_row9_col9, #T_cab35_row9_col10, #T_cab35_row9_col11, #T_cab35_row9_col12, #T_cab35_row9_col13, #T_cab35_row9_col14, #T_cab35_row9_col15, #T_cab35_row10_col0, #T_cab35_row10_col1, #T_cab35_row10_col2, #T_cab35_row10_col3, #T_cab35_row10_col4, #T_cab35_row10_col5, #T_cab35_row10_col6, #T_cab35_row10_col7, #T_cab35_row10_col8, #T_cab35_row10_col9, #T_cab35_row10_col10, #T_cab35_row10_col12, #T_cab35_row10_col13, #T_cab35_row10_col14, #T_cab35_row11_col0, #T_cab35_row11_col1, #T_cab35_row11_col2, #T_cab35_row11_col3, #T_cab35_row11_col4, #T_cab35_row11_col5, #T_cab35_row11_col6, #T_cab35_row11_col7, #T_cab35_row11_col8, #T_cab35_row11_col9, #T_cab35_row11_col10, #T_cab35_row11_col11, #T_cab35_row11_col12, #T_cab35_row11_col13, #T_cab35_row11_col14, #T_cab35_row11_col15, #T_cab35_row12_col0, #T_cab35_row12_col1, #T_cab35_row12_col3, #T_cab35_row12_col4, #T_cab35_row12_col5, #T_cab35_row12_col6, #T_cab35_row12_col7, #T_cab35_row12_col8, #T_cab35_row12_col9, #T_cab35_row12_col10, #T_cab35_row12_col11, #T_cab35_row12_col12, #T_cab35_row12_col13, #T_cab35_row12_col14, #T_cab35_row13_col0, #T_cab35_row13_col1, #T_cab35_row13_col2, #T_cab35_row13_col3, #T_cab35_row13_col4, #T_cab35_row13_col5, #T_cab35_row13_col6, #T_cab35_row13_col7, #T_cab35_row13_col9, #T_cab35_row13_col10, #T_cab35_row13_col11, #T_cab35_row13_col12, #T_cab35_row13_col13, #T_cab35_row13_col14, #T_cab35_row14_col0, #T_cab35_row14_col1, #T_cab35_row14_col2, #T_cab35_row14_col3, #T_cab35_row14_col4, #T_cab35_row14_col5, #T_cab35_row14_col6, #T_cab35_row14_col7, #T_cab35_row14_col8, #T_cab35_row14_col9, #T_cab35_row14_col10, #T_cab35_row14_col11, #T_cab35_row14_col12, #T_cab35_row14_col13, #T_cab35_row14_col14, #T_cab35_row14_col15, #T_cab35_row15_col3, #T_cab35_row15_col4, #T_cab35_row15_col5, #T_cab35_row15_col7, #T_cab35_row15_col9, #T_cab35_row15_col12, #T_cab35_row15_col13 {\n",
       "  background-color: ;\n",
       "}\n",
       "#T_cab35_row0_col1, #T_cab35_row0_col15, #T_cab35_row1_col10, #T_cab35_row1_col15, #T_cab35_row2_col14, #T_cab35_row2_col15, #T_cab35_row3_col8, #T_cab35_row3_col15, #T_cab35_row4_col14, #T_cab35_row4_col15, #T_cab35_row6_col10, #T_cab35_row6_col15, #T_cab35_row7_col0, #T_cab35_row7_col15, #T_cab35_row8_col6, #T_cab35_row8_col15, #T_cab35_row10_col11, #T_cab35_row10_col15, #T_cab35_row12_col2, #T_cab35_row12_col15, #T_cab35_row13_col8, #T_cab35_row13_col15, #T_cab35_row15_col0, #T_cab35_row15_col1, #T_cab35_row15_col2, #T_cab35_row15_col6, #T_cab35_row15_col11 {\n",
       "  background-color: yellow;\n",
       "}\n",
       "#T_cab35_row15_col8, #T_cab35_row15_col10, #T_cab35_row15_col14, #T_cab35_row15_col15 {\n",
       "  background-color: red;\n",
       "}\n",
       "</style>\n",
       "<table id=\"T_cab35_\">\n",
       "  <thead>\n",
       "    <tr>\n",
       "      <th class=\"blank level0\" >&nbsp;</th>\n",
       "      <th class=\"col_heading level0 col0\" >Project 1 - Qualification 1</th>\n",
       "      <th class=\"col_heading level0 col1\" >Project 1 - Qualification 2</th>\n",
       "      <th class=\"col_heading level0 col2\" >Project 1 - Qualification 3</th>\n",
       "      <th class=\"col_heading level0 col3\" >Project 2 - Qualification 1</th>\n",
       "      <th class=\"col_heading level0 col4\" >Project 2 - Qualification 2</th>\n",
       "      <th class=\"col_heading level0 col5\" >Project 2 - Qualification 3</th>\n",
       "      <th class=\"col_heading level0 col6\" >Project 3 - Qualification 1</th>\n",
       "      <th class=\"col_heading level0 col7\" >Project 3 - Qualification 2</th>\n",
       "      <th class=\"col_heading level0 col8\" >Project 3 - Qualification 3</th>\n",
       "      <th class=\"col_heading level0 col9\" >Project 4 - Qualification 1</th>\n",
       "      <th class=\"col_heading level0 col10\" >Project 4 - Qualification 2</th>\n",
       "      <th class=\"col_heading level0 col11\" >Project 4 - Qualification 3</th>\n",
       "      <th class=\"col_heading level0 col12\" >Project 5 - Qualification 1</th>\n",
       "      <th class=\"col_heading level0 col13\" >Project 5 - Qualification 2</th>\n",
       "      <th class=\"col_heading level0 col14\" >Project 5 - Qualification 3</th>\n",
       "      <th class=\"col_heading level0 col15\" >sum_column</th>\n",
       "    </tr>\n",
       "  </thead>\n",
       "  <tbody>\n",
       "    <tr>\n",
       "      <th id=\"T_cab35_level0_row0\" class=\"row_heading level0 row0\" >Staff 1 - Horizon 1</th>\n",
       "      <td id=\"T_cab35_row0_col0\" class=\"data row0 col0\" >0.000000</td>\n",
       "      <td id=\"T_cab35_row0_col1\" class=\"data row0 col1\" >1.000000</td>\n",
       "      <td id=\"T_cab35_row0_col2\" class=\"data row0 col2\" >0.000000</td>\n",
       "      <td id=\"T_cab35_row0_col3\" class=\"data row0 col3\" >0.000000</td>\n",
       "      <td id=\"T_cab35_row0_col4\" class=\"data row0 col4\" >-0.000000</td>\n",
       "      <td id=\"T_cab35_row0_col5\" class=\"data row0 col5\" >0.000000</td>\n",
       "      <td id=\"T_cab35_row0_col6\" class=\"data row0 col6\" >0.000000</td>\n",
       "      <td id=\"T_cab35_row0_col7\" class=\"data row0 col7\" >0.000000</td>\n",
       "      <td id=\"T_cab35_row0_col8\" class=\"data row0 col8\" >-0.000000</td>\n",
       "      <td id=\"T_cab35_row0_col9\" class=\"data row0 col9\" >0.000000</td>\n",
       "      <td id=\"T_cab35_row0_col10\" class=\"data row0 col10\" >-0.000000</td>\n",
       "      <td id=\"T_cab35_row0_col11\" class=\"data row0 col11\" >-0.000000</td>\n",
       "      <td id=\"T_cab35_row0_col12\" class=\"data row0 col12\" >0.000000</td>\n",
       "      <td id=\"T_cab35_row0_col13\" class=\"data row0 col13\" >0.000000</td>\n",
       "      <td id=\"T_cab35_row0_col14\" class=\"data row0 col14\" >-0.000000</td>\n",
       "      <td id=\"T_cab35_row0_col15\" class=\"data row0 col15\" >1.000000</td>\n",
       "    </tr>\n",
       "    <tr>\n",
       "      <th id=\"T_cab35_level0_row1\" class=\"row_heading level0 row1\" >Staff 1 - Horizon 2</th>\n",
       "      <td id=\"T_cab35_row1_col0\" class=\"data row1 col0\" >-0.000000</td>\n",
       "      <td id=\"T_cab35_row1_col1\" class=\"data row1 col1\" >0.000000</td>\n",
       "      <td id=\"T_cab35_row1_col2\" class=\"data row1 col2\" >-0.000000</td>\n",
       "      <td id=\"T_cab35_row1_col3\" class=\"data row1 col3\" >-0.000000</td>\n",
       "      <td id=\"T_cab35_row1_col4\" class=\"data row1 col4\" >-0.000000</td>\n",
       "      <td id=\"T_cab35_row1_col5\" class=\"data row1 col5\" >0.000000</td>\n",
       "      <td id=\"T_cab35_row1_col6\" class=\"data row1 col6\" >-0.000000</td>\n",
       "      <td id=\"T_cab35_row1_col7\" class=\"data row1 col7\" >0.000000</td>\n",
       "      <td id=\"T_cab35_row1_col8\" class=\"data row1 col8\" >-0.000000</td>\n",
       "      <td id=\"T_cab35_row1_col9\" class=\"data row1 col9\" >0.000000</td>\n",
       "      <td id=\"T_cab35_row1_col10\" class=\"data row1 col10\" >1.000000</td>\n",
       "      <td id=\"T_cab35_row1_col11\" class=\"data row1 col11\" >-0.000000</td>\n",
       "      <td id=\"T_cab35_row1_col12\" class=\"data row1 col12\" >0.000000</td>\n",
       "      <td id=\"T_cab35_row1_col13\" class=\"data row1 col13\" >0.000000</td>\n",
       "      <td id=\"T_cab35_row1_col14\" class=\"data row1 col14\" >-0.000000</td>\n",
       "      <td id=\"T_cab35_row1_col15\" class=\"data row1 col15\" >1.000000</td>\n",
       "    </tr>\n",
       "    <tr>\n",
       "      <th id=\"T_cab35_level0_row2\" class=\"row_heading level0 row2\" >Staff 1 - Horizon 3</th>\n",
       "      <td id=\"T_cab35_row2_col0\" class=\"data row2 col0\" >-0.000000</td>\n",
       "      <td id=\"T_cab35_row2_col1\" class=\"data row2 col1\" >-0.000000</td>\n",
       "      <td id=\"T_cab35_row2_col2\" class=\"data row2 col2\" >-0.000000</td>\n",
       "      <td id=\"T_cab35_row2_col3\" class=\"data row2 col3\" >-0.000000</td>\n",
       "      <td id=\"T_cab35_row2_col4\" class=\"data row2 col4\" >-0.000000</td>\n",
       "      <td id=\"T_cab35_row2_col5\" class=\"data row2 col5\" >0.000000</td>\n",
       "      <td id=\"T_cab35_row2_col6\" class=\"data row2 col6\" >-0.000000</td>\n",
       "      <td id=\"T_cab35_row2_col7\" class=\"data row2 col7\" >0.000000</td>\n",
       "      <td id=\"T_cab35_row2_col8\" class=\"data row2 col8\" >0.000000</td>\n",
       "      <td id=\"T_cab35_row2_col9\" class=\"data row2 col9\" >0.000000</td>\n",
       "      <td id=\"T_cab35_row2_col10\" class=\"data row2 col10\" >-0.000000</td>\n",
       "      <td id=\"T_cab35_row2_col11\" class=\"data row2 col11\" >-0.000000</td>\n",
       "      <td id=\"T_cab35_row2_col12\" class=\"data row2 col12\" >0.000000</td>\n",
       "      <td id=\"T_cab35_row2_col13\" class=\"data row2 col13\" >0.000000</td>\n",
       "      <td id=\"T_cab35_row2_col14\" class=\"data row2 col14\" >1.000000</td>\n",
       "      <td id=\"T_cab35_row2_col15\" class=\"data row2 col15\" >1.000000</td>\n",
       "    </tr>\n",
       "    <tr>\n",
       "      <th id=\"T_cab35_level0_row3\" class=\"row_heading level0 row3\" >Staff 1 - Horizon 4</th>\n",
       "      <td id=\"T_cab35_row3_col0\" class=\"data row3 col0\" >-0.000000</td>\n",
       "      <td id=\"T_cab35_row3_col1\" class=\"data row3 col1\" >-0.000000</td>\n",
       "      <td id=\"T_cab35_row3_col2\" class=\"data row3 col2\" >-0.000000</td>\n",
       "      <td id=\"T_cab35_row3_col3\" class=\"data row3 col3\" >-0.000000</td>\n",
       "      <td id=\"T_cab35_row3_col4\" class=\"data row3 col4\" >-0.000000</td>\n",
       "      <td id=\"T_cab35_row3_col5\" class=\"data row3 col5\" >0.000000</td>\n",
       "      <td id=\"T_cab35_row3_col6\" class=\"data row3 col6\" >0.000000</td>\n",
       "      <td id=\"T_cab35_row3_col7\" class=\"data row3 col7\" >0.000000</td>\n",
       "      <td id=\"T_cab35_row3_col8\" class=\"data row3 col8\" >1.000000</td>\n",
       "      <td id=\"T_cab35_row3_col9\" class=\"data row3 col9\" >0.000000</td>\n",
       "      <td id=\"T_cab35_row3_col10\" class=\"data row3 col10\" >0.000000</td>\n",
       "      <td id=\"T_cab35_row3_col11\" class=\"data row3 col11\" >-0.000000</td>\n",
       "      <td id=\"T_cab35_row3_col12\" class=\"data row3 col12\" >0.000000</td>\n",
       "      <td id=\"T_cab35_row3_col13\" class=\"data row3 col13\" >0.000000</td>\n",
       "      <td id=\"T_cab35_row3_col14\" class=\"data row3 col14\" >-0.000000</td>\n",
       "      <td id=\"T_cab35_row3_col15\" class=\"data row3 col15\" >1.000000</td>\n",
       "    </tr>\n",
       "    <tr>\n",
       "      <th id=\"T_cab35_level0_row4\" class=\"row_heading level0 row4\" >Staff 1 - Horizon 5</th>\n",
       "      <td id=\"T_cab35_row4_col0\" class=\"data row4 col0\" >-0.000000</td>\n",
       "      <td id=\"T_cab35_row4_col1\" class=\"data row4 col1\" >-0.000000</td>\n",
       "      <td id=\"T_cab35_row4_col2\" class=\"data row4 col2\" >-0.000000</td>\n",
       "      <td id=\"T_cab35_row4_col3\" class=\"data row4 col3\" >-0.000000</td>\n",
       "      <td id=\"T_cab35_row4_col4\" class=\"data row4 col4\" >0.000000</td>\n",
       "      <td id=\"T_cab35_row4_col5\" class=\"data row4 col5\" >0.000000</td>\n",
       "      <td id=\"T_cab35_row4_col6\" class=\"data row4 col6\" >-0.000000</td>\n",
       "      <td id=\"T_cab35_row4_col7\" class=\"data row4 col7\" >0.000000</td>\n",
       "      <td id=\"T_cab35_row4_col8\" class=\"data row4 col8\" >-0.000000</td>\n",
       "      <td id=\"T_cab35_row4_col9\" class=\"data row4 col9\" >0.000000</td>\n",
       "      <td id=\"T_cab35_row4_col10\" class=\"data row4 col10\" >-0.000000</td>\n",
       "      <td id=\"T_cab35_row4_col11\" class=\"data row4 col11\" >-0.000000</td>\n",
       "      <td id=\"T_cab35_row4_col12\" class=\"data row4 col12\" >0.000000</td>\n",
       "      <td id=\"T_cab35_row4_col13\" class=\"data row4 col13\" >0.000000</td>\n",
       "      <td id=\"T_cab35_row4_col14\" class=\"data row4 col14\" >1.000000</td>\n",
       "      <td id=\"T_cab35_row4_col15\" class=\"data row4 col15\" >1.000000</td>\n",
       "    </tr>\n",
       "    <tr>\n",
       "      <th id=\"T_cab35_level0_row5\" class=\"row_heading level0 row5\" >Staff 2 - Horizon 1</th>\n",
       "      <td id=\"T_cab35_row5_col0\" class=\"data row5 col0\" >0.000000</td>\n",
       "      <td id=\"T_cab35_row5_col1\" class=\"data row5 col1\" >0.000000</td>\n",
       "      <td id=\"T_cab35_row5_col2\" class=\"data row5 col2\" >0.000000</td>\n",
       "      <td id=\"T_cab35_row5_col3\" class=\"data row5 col3\" >0.000000</td>\n",
       "      <td id=\"T_cab35_row5_col4\" class=\"data row5 col4\" >0.000000</td>\n",
       "      <td id=\"T_cab35_row5_col5\" class=\"data row5 col5\" >0.000000</td>\n",
       "      <td id=\"T_cab35_row5_col6\" class=\"data row5 col6\" >0.000000</td>\n",
       "      <td id=\"T_cab35_row5_col7\" class=\"data row5 col7\" >0.000000</td>\n",
       "      <td id=\"T_cab35_row5_col8\" class=\"data row5 col8\" >0.000000</td>\n",
       "      <td id=\"T_cab35_row5_col9\" class=\"data row5 col9\" >0.000000</td>\n",
       "      <td id=\"T_cab35_row5_col10\" class=\"data row5 col10\" >0.000000</td>\n",
       "      <td id=\"T_cab35_row5_col11\" class=\"data row5 col11\" >0.000000</td>\n",
       "      <td id=\"T_cab35_row5_col12\" class=\"data row5 col12\" >0.000000</td>\n",
       "      <td id=\"T_cab35_row5_col13\" class=\"data row5 col13\" >0.000000</td>\n",
       "      <td id=\"T_cab35_row5_col14\" class=\"data row5 col14\" >0.000000</td>\n",
       "      <td id=\"T_cab35_row5_col15\" class=\"data row5 col15\" >0.000000</td>\n",
       "    </tr>\n",
       "    <tr>\n",
       "      <th id=\"T_cab35_level0_row6\" class=\"row_heading level0 row6\" >Staff 2 - Horizon 2</th>\n",
       "      <td id=\"T_cab35_row6_col0\" class=\"data row6 col0\" >-0.000000</td>\n",
       "      <td id=\"T_cab35_row6_col1\" class=\"data row6 col1\" >0.000000</td>\n",
       "      <td id=\"T_cab35_row6_col2\" class=\"data row6 col2\" >0.000000</td>\n",
       "      <td id=\"T_cab35_row6_col3\" class=\"data row6 col3\" >-0.000000</td>\n",
       "      <td id=\"T_cab35_row6_col4\" class=\"data row6 col4\" >-0.000000</td>\n",
       "      <td id=\"T_cab35_row6_col5\" class=\"data row6 col5\" >0.000000</td>\n",
       "      <td id=\"T_cab35_row6_col6\" class=\"data row6 col6\" >-0.000000</td>\n",
       "      <td id=\"T_cab35_row6_col7\" class=\"data row6 col7\" >0.000000</td>\n",
       "      <td id=\"T_cab35_row6_col8\" class=\"data row6 col8\" >0.000000</td>\n",
       "      <td id=\"T_cab35_row6_col9\" class=\"data row6 col9\" >0.000000</td>\n",
       "      <td id=\"T_cab35_row6_col10\" class=\"data row6 col10\" >1.000000</td>\n",
       "      <td id=\"T_cab35_row6_col11\" class=\"data row6 col11\" >0.000000</td>\n",
       "      <td id=\"T_cab35_row6_col12\" class=\"data row6 col12\" >0.000000</td>\n",
       "      <td id=\"T_cab35_row6_col13\" class=\"data row6 col13\" >0.000000</td>\n",
       "      <td id=\"T_cab35_row6_col14\" class=\"data row6 col14\" >0.000000</td>\n",
       "      <td id=\"T_cab35_row6_col15\" class=\"data row6 col15\" >1.000000</td>\n",
       "    </tr>\n",
       "    <tr>\n",
       "      <th id=\"T_cab35_level0_row7\" class=\"row_heading level0 row7\" >Staff 2 - Horizon 3</th>\n",
       "      <td id=\"T_cab35_row7_col0\" class=\"data row7 col0\" >1.000000</td>\n",
       "      <td id=\"T_cab35_row7_col1\" class=\"data row7 col1\" >0.000000</td>\n",
       "      <td id=\"T_cab35_row7_col2\" class=\"data row7 col2\" >0.000000</td>\n",
       "      <td id=\"T_cab35_row7_col3\" class=\"data row7 col3\" >-0.000000</td>\n",
       "      <td id=\"T_cab35_row7_col4\" class=\"data row7 col4\" >-0.000000</td>\n",
       "      <td id=\"T_cab35_row7_col5\" class=\"data row7 col5\" >0.000000</td>\n",
       "      <td id=\"T_cab35_row7_col6\" class=\"data row7 col6\" >-0.000000</td>\n",
       "      <td id=\"T_cab35_row7_col7\" class=\"data row7 col7\" >0.000000</td>\n",
       "      <td id=\"T_cab35_row7_col8\" class=\"data row7 col8\" >0.000000</td>\n",
       "      <td id=\"T_cab35_row7_col9\" class=\"data row7 col9\" >0.000000</td>\n",
       "      <td id=\"T_cab35_row7_col10\" class=\"data row7 col10\" >0.000000</td>\n",
       "      <td id=\"T_cab35_row7_col11\" class=\"data row7 col11\" >0.000000</td>\n",
       "      <td id=\"T_cab35_row7_col12\" class=\"data row7 col12\" >0.000000</td>\n",
       "      <td id=\"T_cab35_row7_col13\" class=\"data row7 col13\" >0.000000</td>\n",
       "      <td id=\"T_cab35_row7_col14\" class=\"data row7 col14\" >0.000000</td>\n",
       "      <td id=\"T_cab35_row7_col15\" class=\"data row7 col15\" >1.000000</td>\n",
       "    </tr>\n",
       "    <tr>\n",
       "      <th id=\"T_cab35_level0_row8\" class=\"row_heading level0 row8\" >Staff 2 - Horizon 4</th>\n",
       "      <td id=\"T_cab35_row8_col0\" class=\"data row8 col0\" >-0.000000</td>\n",
       "      <td id=\"T_cab35_row8_col1\" class=\"data row8 col1\" >0.000000</td>\n",
       "      <td id=\"T_cab35_row8_col2\" class=\"data row8 col2\" >0.000000</td>\n",
       "      <td id=\"T_cab35_row8_col3\" class=\"data row8 col3\" >0.000000</td>\n",
       "      <td id=\"T_cab35_row8_col4\" class=\"data row8 col4\" >-0.000000</td>\n",
       "      <td id=\"T_cab35_row8_col5\" class=\"data row8 col5\" >0.000000</td>\n",
       "      <td id=\"T_cab35_row8_col6\" class=\"data row8 col6\" >1.000000</td>\n",
       "      <td id=\"T_cab35_row8_col7\" class=\"data row8 col7\" >0.000000</td>\n",
       "      <td id=\"T_cab35_row8_col8\" class=\"data row8 col8\" >0.000000</td>\n",
       "      <td id=\"T_cab35_row8_col9\" class=\"data row8 col9\" >0.000000</td>\n",
       "      <td id=\"T_cab35_row8_col10\" class=\"data row8 col10\" >-0.000000</td>\n",
       "      <td id=\"T_cab35_row8_col11\" class=\"data row8 col11\" >0.000000</td>\n",
       "      <td id=\"T_cab35_row8_col12\" class=\"data row8 col12\" >0.000000</td>\n",
       "      <td id=\"T_cab35_row8_col13\" class=\"data row8 col13\" >0.000000</td>\n",
       "      <td id=\"T_cab35_row8_col14\" class=\"data row8 col14\" >0.000000</td>\n",
       "      <td id=\"T_cab35_row8_col15\" class=\"data row8 col15\" >1.000000</td>\n",
       "    </tr>\n",
       "    <tr>\n",
       "      <th id=\"T_cab35_level0_row9\" class=\"row_heading level0 row9\" >Staff 2 - Horizon 5</th>\n",
       "      <td id=\"T_cab35_row9_col0\" class=\"data row9 col0\" >-0.000000</td>\n",
       "      <td id=\"T_cab35_row9_col1\" class=\"data row9 col1\" >-0.000000</td>\n",
       "      <td id=\"T_cab35_row9_col2\" class=\"data row9 col2\" >0.000000</td>\n",
       "      <td id=\"T_cab35_row9_col3\" class=\"data row9 col3\" >-0.000000</td>\n",
       "      <td id=\"T_cab35_row9_col4\" class=\"data row9 col4\" >-0.000000</td>\n",
       "      <td id=\"T_cab35_row9_col5\" class=\"data row9 col5\" >0.000000</td>\n",
       "      <td id=\"T_cab35_row9_col6\" class=\"data row9 col6\" >-0.000000</td>\n",
       "      <td id=\"T_cab35_row9_col7\" class=\"data row9 col7\" >0.000000</td>\n",
       "      <td id=\"T_cab35_row9_col8\" class=\"data row9 col8\" >0.000000</td>\n",
       "      <td id=\"T_cab35_row9_col9\" class=\"data row9 col9\" >0.000000</td>\n",
       "      <td id=\"T_cab35_row9_col10\" class=\"data row9 col10\" >0.000000</td>\n",
       "      <td id=\"T_cab35_row9_col11\" class=\"data row9 col11\" >0.000000</td>\n",
       "      <td id=\"T_cab35_row9_col12\" class=\"data row9 col12\" >0.000000</td>\n",
       "      <td id=\"T_cab35_row9_col13\" class=\"data row9 col13\" >0.000000</td>\n",
       "      <td id=\"T_cab35_row9_col14\" class=\"data row9 col14\" >0.000000</td>\n",
       "      <td id=\"T_cab35_row9_col15\" class=\"data row9 col15\" >0.000000</td>\n",
       "    </tr>\n",
       "    <tr>\n",
       "      <th id=\"T_cab35_level0_row10\" class=\"row_heading level0 row10\" >Staff 3 - Horizon 1</th>\n",
       "      <td id=\"T_cab35_row10_col0\" class=\"data row10 col0\" >0.000000</td>\n",
       "      <td id=\"T_cab35_row10_col1\" class=\"data row10 col1\" >0.000000</td>\n",
       "      <td id=\"T_cab35_row10_col2\" class=\"data row10 col2\" >0.000000</td>\n",
       "      <td id=\"T_cab35_row10_col3\" class=\"data row10 col3\" >0.000000</td>\n",
       "      <td id=\"T_cab35_row10_col4\" class=\"data row10 col4\" >0.000000</td>\n",
       "      <td id=\"T_cab35_row10_col5\" class=\"data row10 col5\" >0.000000</td>\n",
       "      <td id=\"T_cab35_row10_col6\" class=\"data row10 col6\" >0.000000</td>\n",
       "      <td id=\"T_cab35_row10_col7\" class=\"data row10 col7\" >0.000000</td>\n",
       "      <td id=\"T_cab35_row10_col8\" class=\"data row10 col8\" >-0.000000</td>\n",
       "      <td id=\"T_cab35_row10_col9\" class=\"data row10 col9\" >0.000000</td>\n",
       "      <td id=\"T_cab35_row10_col10\" class=\"data row10 col10\" >0.000000</td>\n",
       "      <td id=\"T_cab35_row10_col11\" class=\"data row10 col11\" >1.000000</td>\n",
       "      <td id=\"T_cab35_row10_col12\" class=\"data row10 col12\" >0.000000</td>\n",
       "      <td id=\"T_cab35_row10_col13\" class=\"data row10 col13\" >0.000000</td>\n",
       "      <td id=\"T_cab35_row10_col14\" class=\"data row10 col14\" >-0.000000</td>\n",
       "      <td id=\"T_cab35_row10_col15\" class=\"data row10 col15\" >1.000000</td>\n",
       "    </tr>\n",
       "    <tr>\n",
       "      <th id=\"T_cab35_level0_row11\" class=\"row_heading level0 row11\" >Staff 3 - Horizon 2</th>\n",
       "      <td id=\"T_cab35_row11_col0\" class=\"data row11 col0\" >0.000000</td>\n",
       "      <td id=\"T_cab35_row11_col1\" class=\"data row11 col1\" >0.000000</td>\n",
       "      <td id=\"T_cab35_row11_col2\" class=\"data row11 col2\" >0.000000</td>\n",
       "      <td id=\"T_cab35_row11_col3\" class=\"data row11 col3\" >0.000000</td>\n",
       "      <td id=\"T_cab35_row11_col4\" class=\"data row11 col4\" >0.000000</td>\n",
       "      <td id=\"T_cab35_row11_col5\" class=\"data row11 col5\" >0.000000</td>\n",
       "      <td id=\"T_cab35_row11_col6\" class=\"data row11 col6\" >0.000000</td>\n",
       "      <td id=\"T_cab35_row11_col7\" class=\"data row11 col7\" >0.000000</td>\n",
       "      <td id=\"T_cab35_row11_col8\" class=\"data row11 col8\" >0.000000</td>\n",
       "      <td id=\"T_cab35_row11_col9\" class=\"data row11 col9\" >0.000000</td>\n",
       "      <td id=\"T_cab35_row11_col10\" class=\"data row11 col10\" >0.000000</td>\n",
       "      <td id=\"T_cab35_row11_col11\" class=\"data row11 col11\" >0.000000</td>\n",
       "      <td id=\"T_cab35_row11_col12\" class=\"data row11 col12\" >0.000000</td>\n",
       "      <td id=\"T_cab35_row11_col13\" class=\"data row11 col13\" >0.000000</td>\n",
       "      <td id=\"T_cab35_row11_col14\" class=\"data row11 col14\" >0.000000</td>\n",
       "      <td id=\"T_cab35_row11_col15\" class=\"data row11 col15\" >0.000000</td>\n",
       "    </tr>\n",
       "    <tr>\n",
       "      <th id=\"T_cab35_level0_row12\" class=\"row_heading level0 row12\" >Staff 3 - Horizon 3</th>\n",
       "      <td id=\"T_cab35_row12_col0\" class=\"data row12 col0\" >0.000000</td>\n",
       "      <td id=\"T_cab35_row12_col1\" class=\"data row12 col1\" >0.000000</td>\n",
       "      <td id=\"T_cab35_row12_col2\" class=\"data row12 col2\" >1.000000</td>\n",
       "      <td id=\"T_cab35_row12_col3\" class=\"data row12 col3\" >0.000000</td>\n",
       "      <td id=\"T_cab35_row12_col4\" class=\"data row12 col4\" >0.000000</td>\n",
       "      <td id=\"T_cab35_row12_col5\" class=\"data row12 col5\" >0.000000</td>\n",
       "      <td id=\"T_cab35_row12_col6\" class=\"data row12 col6\" >0.000000</td>\n",
       "      <td id=\"T_cab35_row12_col7\" class=\"data row12 col7\" >0.000000</td>\n",
       "      <td id=\"T_cab35_row12_col8\" class=\"data row12 col8\" >0.000000</td>\n",
       "      <td id=\"T_cab35_row12_col9\" class=\"data row12 col9\" >0.000000</td>\n",
       "      <td id=\"T_cab35_row12_col10\" class=\"data row12 col10\" >0.000000</td>\n",
       "      <td id=\"T_cab35_row12_col11\" class=\"data row12 col11\" >0.000000</td>\n",
       "      <td id=\"T_cab35_row12_col12\" class=\"data row12 col12\" >0.000000</td>\n",
       "      <td id=\"T_cab35_row12_col13\" class=\"data row12 col13\" >0.000000</td>\n",
       "      <td id=\"T_cab35_row12_col14\" class=\"data row12 col14\" >-0.000000</td>\n",
       "      <td id=\"T_cab35_row12_col15\" class=\"data row12 col15\" >1.000000</td>\n",
       "    </tr>\n",
       "    <tr>\n",
       "      <th id=\"T_cab35_level0_row13\" class=\"row_heading level0 row13\" >Staff 3 - Horizon 4</th>\n",
       "      <td id=\"T_cab35_row13_col0\" class=\"data row13 col0\" >0.000000</td>\n",
       "      <td id=\"T_cab35_row13_col1\" class=\"data row13 col1\" >0.000000</td>\n",
       "      <td id=\"T_cab35_row13_col2\" class=\"data row13 col2\" >-0.000000</td>\n",
       "      <td id=\"T_cab35_row13_col3\" class=\"data row13 col3\" >0.000000</td>\n",
       "      <td id=\"T_cab35_row13_col4\" class=\"data row13 col4\" >0.000000</td>\n",
       "      <td id=\"T_cab35_row13_col5\" class=\"data row13 col5\" >0.000000</td>\n",
       "      <td id=\"T_cab35_row13_col6\" class=\"data row13 col6\" >0.000000</td>\n",
       "      <td id=\"T_cab35_row13_col7\" class=\"data row13 col7\" >0.000000</td>\n",
       "      <td id=\"T_cab35_row13_col8\" class=\"data row13 col8\" >1.000000</td>\n",
       "      <td id=\"T_cab35_row13_col9\" class=\"data row13 col9\" >0.000000</td>\n",
       "      <td id=\"T_cab35_row13_col10\" class=\"data row13 col10\" >0.000000</td>\n",
       "      <td id=\"T_cab35_row13_col11\" class=\"data row13 col11\" >-0.000000</td>\n",
       "      <td id=\"T_cab35_row13_col12\" class=\"data row13 col12\" >0.000000</td>\n",
       "      <td id=\"T_cab35_row13_col13\" class=\"data row13 col13\" >0.000000</td>\n",
       "      <td id=\"T_cab35_row13_col14\" class=\"data row13 col14\" >0.000000</td>\n",
       "      <td id=\"T_cab35_row13_col15\" class=\"data row13 col15\" >1.000000</td>\n",
       "    </tr>\n",
       "    <tr>\n",
       "      <th id=\"T_cab35_level0_row14\" class=\"row_heading level0 row14\" >Staff 3 - Horizon 5</th>\n",
       "      <td id=\"T_cab35_row14_col0\" class=\"data row14 col0\" >0.000000</td>\n",
       "      <td id=\"T_cab35_row14_col1\" class=\"data row14 col1\" >0.000000</td>\n",
       "      <td id=\"T_cab35_row14_col2\" class=\"data row14 col2\" >-0.000000</td>\n",
       "      <td id=\"T_cab35_row14_col3\" class=\"data row14 col3\" >0.000000</td>\n",
       "      <td id=\"T_cab35_row14_col4\" class=\"data row14 col4\" >0.000000</td>\n",
       "      <td id=\"T_cab35_row14_col5\" class=\"data row14 col5\" >0.000000</td>\n",
       "      <td id=\"T_cab35_row14_col6\" class=\"data row14 col6\" >0.000000</td>\n",
       "      <td id=\"T_cab35_row14_col7\" class=\"data row14 col7\" >0.000000</td>\n",
       "      <td id=\"T_cab35_row14_col8\" class=\"data row14 col8\" >-0.000000</td>\n",
       "      <td id=\"T_cab35_row14_col9\" class=\"data row14 col9\" >0.000000</td>\n",
       "      <td id=\"T_cab35_row14_col10\" class=\"data row14 col10\" >0.000000</td>\n",
       "      <td id=\"T_cab35_row14_col11\" class=\"data row14 col11\" >-0.000000</td>\n",
       "      <td id=\"T_cab35_row14_col12\" class=\"data row14 col12\" >0.000000</td>\n",
       "      <td id=\"T_cab35_row14_col13\" class=\"data row14 col13\" >0.000000</td>\n",
       "      <td id=\"T_cab35_row14_col14\" class=\"data row14 col14\" >-0.000000</td>\n",
       "      <td id=\"T_cab35_row14_col15\" class=\"data row14 col15\" >0.000000</td>\n",
       "    </tr>\n",
       "    <tr>\n",
       "      <th id=\"T_cab35_level0_row15\" class=\"row_heading level0 row15\" >sum_row</th>\n",
       "      <td id=\"T_cab35_row15_col0\" class=\"data row15 col0\" >1.000000</td>\n",
       "      <td id=\"T_cab35_row15_col1\" class=\"data row15 col1\" >1.000000</td>\n",
       "      <td id=\"T_cab35_row15_col2\" class=\"data row15 col2\" >1.000000</td>\n",
       "      <td id=\"T_cab35_row15_col3\" class=\"data row15 col3\" >0.000000</td>\n",
       "      <td id=\"T_cab35_row15_col4\" class=\"data row15 col4\" >0.000000</td>\n",
       "      <td id=\"T_cab35_row15_col5\" class=\"data row15 col5\" >0.000000</td>\n",
       "      <td id=\"T_cab35_row15_col6\" class=\"data row15 col6\" >1.000000</td>\n",
       "      <td id=\"T_cab35_row15_col7\" class=\"data row15 col7\" >0.000000</td>\n",
       "      <td id=\"T_cab35_row15_col8\" class=\"data row15 col8\" >2.000000</td>\n",
       "      <td id=\"T_cab35_row15_col9\" class=\"data row15 col9\" >0.000000</td>\n",
       "      <td id=\"T_cab35_row15_col10\" class=\"data row15 col10\" >2.000000</td>\n",
       "      <td id=\"T_cab35_row15_col11\" class=\"data row15 col11\" >1.000000</td>\n",
       "      <td id=\"T_cab35_row15_col12\" class=\"data row15 col12\" >0.000000</td>\n",
       "      <td id=\"T_cab35_row15_col13\" class=\"data row15 col13\" >0.000000</td>\n",
       "      <td id=\"T_cab35_row15_col14\" class=\"data row15 col14\" >2.000000</td>\n",
       "      <td id=\"T_cab35_row15_col15\" class=\"data row15 col15\" >11.000000</td>\n",
       "    </tr>\n",
       "  </tbody>\n",
       "</table>\n"
      ],
      "text/plain": [
       "<pandas.io.formats.style.Styler at 0x7fa267e29070>"
      ]
     },
     "execution_count": 35,
     "metadata": {},
     "output_type": "execute_result"
    }
   ],
   "source": [
    "def highlight_cells(val):\n",
    "    color = 'yellow' if val == 1 else 'red' if val > 1 else ''\n",
    "    return 'background-color: %s' % color\n",
    "\n",
    "df.style.applymap(highlight_cells)"
   ]
  }
 ],
 "metadata": {
  "kernelspec": {
   "display_name": "Python 3 (ipykernel)",
   "language": "python",
   "name": "python3"
  },
  "language_info": {
   "codemirror_mode": {
    "name": "ipython",
    "version": 3
   },
   "file_extension": ".py",
   "mimetype": "text/x-python",
   "name": "python",
   "nbconvert_exporter": "python",
   "pygments_lexer": "ipython3",
   "version": "3.8.8"
  }
 },
 "nbformat": 4,
 "nbformat_minor": 5
}
